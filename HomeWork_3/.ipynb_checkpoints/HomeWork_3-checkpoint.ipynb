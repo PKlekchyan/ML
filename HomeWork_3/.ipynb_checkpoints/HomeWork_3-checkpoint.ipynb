{
 "cells": [
  {
   "cell_type": "code",
   "execution_count": 1,
   "id": "entertaining-turning",
   "metadata": {},
   "outputs": [],
   "source": [
    "import pandas as pd\n",
    "import matplotlib.pyplot as plt\n",
    "import numpy as np"
   ]
  },
  {
   "cell_type": "code",
   "execution_count": 2,
   "id": "fifty-insulation",
   "metadata": {},
   "outputs": [],
   "source": [
    "data = pd.read_csv('affair_data.csv')"
   ]
  },
  {
   "cell_type": "code",
   "execution_count": 3,
   "id": "encouraging-graphics",
   "metadata": {},
   "outputs": [],
   "source": [
    "from sklearn.linear_model import LogisticRegression\n",
    "\n",
    "from sklearn.model_selection import train_test_split"
   ]
  },
  {
   "cell_type": "code",
   "execution_count": 4,
   "id": "indonesian-telling",
   "metadata": {},
   "outputs": [],
   "source": [
    "X = data[data.columns[:-1]]\n",
    "Y = data['affair']"
   ]
  },
  {
   "cell_type": "code",
   "execution_count": 5,
   "id": "hundred-bradley",
   "metadata": {},
   "outputs": [],
   "source": [
    "model = LogisticRegression()"
   ]
  },
  {
   "cell_type": "code",
   "execution_count": 6,
   "id": "national-potential",
   "metadata": {},
   "outputs": [],
   "source": [
    "X_train, X_test, Y_train, Y_test = train_test_split(X, Y, test_size = 0.3, random_state = 0)"
   ]
  },
  {
   "cell_type": "code",
   "execution_count": 12,
   "id": "aware-experiment",
   "metadata": {},
   "outputs": [],
   "source": [
    "model.fit(X_train, Y_train)\n",
    "pred = model.predict_proba(X_test)"
   ]
  },
  {
   "cell_type": "code",
   "execution_count": 13,
   "id": "informative-office",
   "metadata": {},
   "outputs": [
    {
     "data": {
      "text/plain": [
       "0.7319371727748691"
      ]
     },
     "execution_count": 13,
     "metadata": {},
     "output_type": "execute_result"
    }
   ],
   "source": [
    "model.score(X_test, Y_test)"
   ]
  },
  {
   "cell_type": "code",
   "execution_count": null,
   "id": "worse-seattle",
   "metadata": {},
   "outputs": [],
   "source": []
  },
  {
   "cell_type": "code",
   "execution_count": 143,
   "id": "exterior-boost",
   "metadata": {
    "scrolled": false
   },
   "outputs": [],
   "source": [
    "from sklearn.metrics import roc_curve\n",
    "fpr, tpr, thres = roc_curve(Y_test, pred[:, 1])"
   ]
  },
  {
   "cell_type": "code",
   "execution_count": 140,
   "id": "leading-faculty",
   "metadata": {},
   "outputs": [],
   "source": [
    "def count_metrics(pred, Y_test):\n",
    "    tp = 0\n",
    "    fp = 0\n",
    "    fn = 0\n",
    "    tn = 0\n",
    "    for pr, act in zip( pred[:, 1], Y_test ):    \n",
    "        if pr >= i:\n",
    "            predicted = 1\n",
    "        else:\n",
    "            predicted = 0\n",
    "\n",
    "        if predicted == 1:\n",
    "            if act == 1:\n",
    "                tp += 1\n",
    "            else:\n",
    "                fp += 1\n",
    "\n",
    "        else:\n",
    "            if act == 1:\n",
    "                fn += 1\n",
    "            else: \n",
    "                tn += 1\n",
    "    return tp, fp, fn, tn"
   ]
  },
  {
   "cell_type": "code",
   "execution_count": 141,
   "id": "female-phrase",
   "metadata": {},
   "outputs": [],
   "source": [
    "tpr_1 = []\n",
    "fpr_1 = []\n",
    "precision = []\n",
    "recall = []\n",
    "\n",
    "for i in np.arange(0, 1, 0.05):\n",
    "    tp, fp, fn, tn = count_metrics(pred, Y_test)\n",
    "    tpr_1.append(tp/(tp+fn))\n",
    "    fpr_1.append(fp/(fp+tn))\n",
    "    \n",
    "#     precision.append(tp/(tp+fp))\n",
    "#     recall.append(tp/(tp+fn))\n",
    "    "
   ]
  },
  {
   "cell_type": "code",
   "execution_count": null,
   "id": "smooth-classroom",
   "metadata": {},
   "outputs": [],
   "source": []
  },
  {
   "cell_type": "code",
   "execution_count": 144,
   "id": "included-gregory",
   "metadata": {
    "scrolled": true
   },
   "outputs": [
    {
     "data": {
      "text/plain": [
       "[<matplotlib.lines.Line2D at 0x2e7e9891760>]"
      ]
     },
     "execution_count": 144,
     "metadata": {},
     "output_type": "execute_result"
    },
    {
     "data": {
      "image/png": "[encoded data removed]",
      "text/plain": [
       "<Figure size 432x288 with 1 Axes>"
      ]
     },
     "metadata": {
      "needs_background": "light"
     },
     "output_type": "display_data"
    }
   ],
   "source": [
    "plt.plot(fpr_1, tpr_1)\n",
    "plt.plot(fpr, tpr)"
   ]
  }
 ],
 "metadata": {
  "kernelspec": {
   "display_name": "Python 3",
   "language": "python",
   "name": "python3"
  },
  "language_info": {
   "codemirror_mode": {
    "name": "ipython",
    "version": 3
   },
   "file_extension": ".py",
   "mimetype": "text/x-python",
   "name": "python",
   "nbconvert_exporter": "python",
   "pygments_lexer": "ipython3",
   "version": "3.9.0"
  }
 },
 "nbformat": 4,
 "nbformat_minor": 5
}
