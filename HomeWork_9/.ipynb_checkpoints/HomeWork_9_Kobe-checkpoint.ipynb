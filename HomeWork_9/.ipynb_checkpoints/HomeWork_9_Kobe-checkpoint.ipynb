{
 "cells": [
  {
   "cell_type": "code",
   "execution_count": 1,
   "metadata": {
    "id": "zqHdTz2wPPKW"
   },
   "outputs": [],
   "source": [
    "import pandas as pd\n",
    "import numpy as np\n",
    "import matplotlib.pyplot as plt\n",
    "import seaborn as sns"
   ]
  },
  {
   "cell_type": "code",
   "execution_count": 2,
   "metadata": {},
   "outputs": [],
   "source": [
    "import warnings\n",
    "warnings.filterwarnings('ignore')"
   ]
  },
  {
   "cell_type": "markdown",
   "metadata": {
    "id": "lvM0J0AaPPKc"
   },
   "source": [
    "## Kobe Bryant  shot selection"
   ]
  },
  {
   "cell_type": "markdown",
   "metadata": {
    "id": "hVjPZ_ukPPKc"
   },
   "source": [
    "Cсылка на соревнование: https://www.kaggle.com/c/kobe-bryant-shot-selection"
   ]
  },
  {
   "cell_type": "markdown",
   "metadata": {
    "id": "qgn5s7NFPPKd"
   },
   "source": [
    "Goal: Fun and education"
   ]
  },
  {
   "cell_type": "markdown",
   "metadata": {
    "id": "4bIkh2ACPPKd"
   },
   "source": [
    "Using 20 years of data on Kobe's swishes and misses, can you predict which shots will find the bottom of the net? This competition is well suited for practicing classification basics, feature engineering, and time series analysis. Practice got Kobe an eight-figure contract and 5 championship rings. What will it get you?"
   ]
  },
  {
   "cell_type": "markdown",
   "metadata": {
    "id": "JYgEsdafPPKd"
   },
   "source": [
    "This data contains the location and circumstances of every field goal attempted by Kobe Bryant took during his 20-year career. Your task is to predict whether the basket went in (shot_made_flag).\n",
    "\n",
    "We have removed 5000 of the shot_made_flags (represented as missing values in the csv file). These are the test set shots for which you must submit a prediction. You are provided a sample submission file with the correct shot_ids needed for a valid prediction."
   ]
  },
  {
   "cell_type": "code",
   "execution_count": 3,
   "metadata": {
    "id": "LVq90rI-PPKe"
   },
   "outputs": [],
   "source": [
    "df = pd.read_csv('kobe.csv')"
   ]
  },
  {
   "cell_type": "markdown",
   "metadata": {
    "id": "QthCIdDVPPKf"
   },
   "source": [
    "**Задания:**\n",
    "\n",
    "1. Провести анализ данных. Много хороших примеров анализа можно посмотреть здесь https://www.kaggle.com/c/kobe-bryant-shot-selection/kernels\n",
    "2. Подготовить фичи для обучения модели - нагенерить признаков, обработать пропущенные значения, проверить на возможные выбросы, обработать категориальные признаки и др.\n",
    "3. Обучить линейную модель, Lasso, Ridge (с встроеной регуляризацией) на тех же признаках - построить сравнительную таблицу или график коэффициентов, сделать заключения о том, как меняется величина коэффициентов, какие зануляются. \n",
    "\n",
    "**Дополнительно**\n",
    "4. Сравнить результаты на тестовом наборе данных - сделать train_test_split в самом начале, подготовить переменные, сравнить результаты работы классификаторов (те же 3), метрика ROC AUC\n",
    "5. Построить PCA на подготовленных признаках, посмотреть, какие компоненты составляют наибольшую часть дисперсии целевой переменной"
   ]
  },
  {
   "cell_type": "code",
   "execution_count": 5,
   "metadata": {},
   "outputs": [
    {
     "data": {
      "text/html": [
       "<div>\n",
       "<style scoped>\n",
       "    .dataframe tbody tr th:only-of-type {\n",
       "        vertical-align: middle;\n",
       "    }\n",
       "\n",
       "    .dataframe tbody tr th {\n",
       "        vertical-align: top;\n",
       "    }\n",
       "\n",
       "    .dataframe thead th {\n",
       "        text-align: right;\n",
       "    }\n",
       "</style>\n",
       "<table border=\"1\" class=\"dataframe\">\n",
       "  <thead>\n",
       "    <tr style=\"text-align: right;\">\n",
       "      <th></th>\n",
       "      <th>action_type</th>\n",
       "      <th>combined_shot_type</th>\n",
       "      <th>game_event_id</th>\n",
       "      <th>game_id</th>\n",
       "      <th>lat</th>\n",
       "      <th>loc_x</th>\n",
       "      <th>loc_y</th>\n",
       "      <th>lon</th>\n",
       "      <th>minutes_remaining</th>\n",
       "      <th>period</th>\n",
       "      <th>...</th>\n",
       "      <th>shot_type</th>\n",
       "      <th>shot_zone_area</th>\n",
       "      <th>shot_zone_basic</th>\n",
       "      <th>shot_zone_range</th>\n",
       "      <th>team_id</th>\n",
       "      <th>team_name</th>\n",
       "      <th>game_date</th>\n",
       "      <th>matchup</th>\n",
       "      <th>opponent</th>\n",
       "      <th>shot_id</th>\n",
       "    </tr>\n",
       "  </thead>\n",
       "  <tbody>\n",
       "    <tr>\n",
       "      <th>0</th>\n",
       "      <td>Jump Shot</td>\n",
       "      <td>Jump Shot</td>\n",
       "      <td>10</td>\n",
       "      <td>20000012</td>\n",
       "      <td>33.9723</td>\n",
       "      <td>167</td>\n",
       "      <td>72</td>\n",
       "      <td>-118.1028</td>\n",
       "      <td>10</td>\n",
       "      <td>1</td>\n",
       "      <td>...</td>\n",
       "      <td>2PT Field Goal</td>\n",
       "      <td>Right Side(R)</td>\n",
       "      <td>Mid-Range</td>\n",
       "      <td>16-24 ft.</td>\n",
       "      <td>1610612747</td>\n",
       "      <td>Los Angeles Lakers</td>\n",
       "      <td>2000-10-31</td>\n",
       "      <td>LAL @ POR</td>\n",
       "      <td>POR</td>\n",
       "      <td>1</td>\n",
       "    </tr>\n",
       "    <tr>\n",
       "      <th>1</th>\n",
       "      <td>Jump Shot</td>\n",
       "      <td>Jump Shot</td>\n",
       "      <td>12</td>\n",
       "      <td>20000012</td>\n",
       "      <td>34.0443</td>\n",
       "      <td>-157</td>\n",
       "      <td>0</td>\n",
       "      <td>-118.4268</td>\n",
       "      <td>10</td>\n",
       "      <td>1</td>\n",
       "      <td>...</td>\n",
       "      <td>2PT Field Goal</td>\n",
       "      <td>Left Side(L)</td>\n",
       "      <td>Mid-Range</td>\n",
       "      <td>8-16 ft.</td>\n",
       "      <td>1610612747</td>\n",
       "      <td>Los Angeles Lakers</td>\n",
       "      <td>2000-10-31</td>\n",
       "      <td>LAL @ POR</td>\n",
       "      <td>POR</td>\n",
       "      <td>2</td>\n",
       "    </tr>\n",
       "    <tr>\n",
       "      <th>2</th>\n",
       "      <td>Jump Shot</td>\n",
       "      <td>Jump Shot</td>\n",
       "      <td>35</td>\n",
       "      <td>20000012</td>\n",
       "      <td>33.9093</td>\n",
       "      <td>-101</td>\n",
       "      <td>135</td>\n",
       "      <td>-118.3708</td>\n",
       "      <td>7</td>\n",
       "      <td>1</td>\n",
       "      <td>...</td>\n",
       "      <td>2PT Field Goal</td>\n",
       "      <td>Left Side Center(LC)</td>\n",
       "      <td>Mid-Range</td>\n",
       "      <td>16-24 ft.</td>\n",
       "      <td>1610612747</td>\n",
       "      <td>Los Angeles Lakers</td>\n",
       "      <td>2000-10-31</td>\n",
       "      <td>LAL @ POR</td>\n",
       "      <td>POR</td>\n",
       "      <td>3</td>\n",
       "    </tr>\n",
       "    <tr>\n",
       "      <th>3</th>\n",
       "      <td>Jump Shot</td>\n",
       "      <td>Jump Shot</td>\n",
       "      <td>43</td>\n",
       "      <td>20000012</td>\n",
       "      <td>33.8693</td>\n",
       "      <td>138</td>\n",
       "      <td>175</td>\n",
       "      <td>-118.1318</td>\n",
       "      <td>6</td>\n",
       "      <td>1</td>\n",
       "      <td>...</td>\n",
       "      <td>2PT Field Goal</td>\n",
       "      <td>Right Side Center(RC)</td>\n",
       "      <td>Mid-Range</td>\n",
       "      <td>16-24 ft.</td>\n",
       "      <td>1610612747</td>\n",
       "      <td>Los Angeles Lakers</td>\n",
       "      <td>2000-10-31</td>\n",
       "      <td>LAL @ POR</td>\n",
       "      <td>POR</td>\n",
       "      <td>4</td>\n",
       "    </tr>\n",
       "    <tr>\n",
       "      <th>4</th>\n",
       "      <td>Driving Dunk Shot</td>\n",
       "      <td>Dunk</td>\n",
       "      <td>155</td>\n",
       "      <td>20000012</td>\n",
       "      <td>34.0443</td>\n",
       "      <td>0</td>\n",
       "      <td>0</td>\n",
       "      <td>-118.2698</td>\n",
       "      <td>6</td>\n",
       "      <td>2</td>\n",
       "      <td>...</td>\n",
       "      <td>2PT Field Goal</td>\n",
       "      <td>Center(C)</td>\n",
       "      <td>Restricted Area</td>\n",
       "      <td>Less Than 8 ft.</td>\n",
       "      <td>1610612747</td>\n",
       "      <td>Los Angeles Lakers</td>\n",
       "      <td>2000-10-31</td>\n",
       "      <td>LAL @ POR</td>\n",
       "      <td>POR</td>\n",
       "      <td>5</td>\n",
       "    </tr>\n",
       "  </tbody>\n",
       "</table>\n",
       "<p>5 rows × 25 columns</p>\n",
       "</div>"
      ],
      "text/plain": [
       "         action_type combined_shot_type  game_event_id   game_id      lat  \\\n",
       "0          Jump Shot          Jump Shot             10  20000012  33.9723   \n",
       "1          Jump Shot          Jump Shot             12  20000012  34.0443   \n",
       "2          Jump Shot          Jump Shot             35  20000012  33.9093   \n",
       "3          Jump Shot          Jump Shot             43  20000012  33.8693   \n",
       "4  Driving Dunk Shot               Dunk            155  20000012  34.0443   \n",
       "\n",
       "   loc_x  loc_y       lon  minutes_remaining  period  ...       shot_type  \\\n",
       "0    167     72 -118.1028                 10       1  ...  2PT Field Goal   \n",
       "1   -157      0 -118.4268                 10       1  ...  2PT Field Goal   \n",
       "2   -101    135 -118.3708                  7       1  ...  2PT Field Goal   \n",
       "3    138    175 -118.1318                  6       1  ...  2PT Field Goal   \n",
       "4      0      0 -118.2698                  6       2  ...  2PT Field Goal   \n",
       "\n",
       "          shot_zone_area  shot_zone_basic  shot_zone_range     team_id  \\\n",
       "0          Right Side(R)        Mid-Range        16-24 ft.  1610612747   \n",
       "1           Left Side(L)        Mid-Range         8-16 ft.  1610612747   \n",
       "2   Left Side Center(LC)        Mid-Range        16-24 ft.  1610612747   \n",
       "3  Right Side Center(RC)        Mid-Range        16-24 ft.  1610612747   \n",
       "4              Center(C)  Restricted Area  Less Than 8 ft.  1610612747   \n",
       "\n",
       "            team_name   game_date    matchup opponent  shot_id  \n",
       "0  Los Angeles Lakers  2000-10-31  LAL @ POR      POR        1  \n",
       "1  Los Angeles Lakers  2000-10-31  LAL @ POR      POR        2  \n",
       "2  Los Angeles Lakers  2000-10-31  LAL @ POR      POR        3  \n",
       "3  Los Angeles Lakers  2000-10-31  LAL @ POR      POR        4  \n",
       "4  Los Angeles Lakers  2000-10-31  LAL @ POR      POR        5  \n",
       "\n",
       "[5 rows x 25 columns]"
      ]
     },
     "execution_count": 5,
     "metadata": {},
     "output_type": "execute_result"
    }
   ],
   "source": [
    "df.head()"
   ]
  },
  {
   "cell_type": "code",
   "execution_count": 6,
   "metadata": {
    "scrolled": true
   },
   "outputs": [
    {
     "name": "stdout",
     "output_type": "stream",
     "text": [
      "<class 'pandas.core.frame.DataFrame'>\n",
      "RangeIndex: 30697 entries, 0 to 30696\n",
      "Data columns (total 25 columns):\n",
      " #   Column              Non-Null Count  Dtype  \n",
      "---  ------              --------------  -----  \n",
      " 0   action_type         30697 non-null  object \n",
      " 1   combined_shot_type  30697 non-null  object \n",
      " 2   game_event_id       30697 non-null  int64  \n",
      " 3   game_id             30697 non-null  int64  \n",
      " 4   lat                 30697 non-null  float64\n",
      " 5   loc_x               30697 non-null  int64  \n",
      " 6   loc_y               30697 non-null  int64  \n",
      " 7   lon                 30697 non-null  float64\n",
      " 8   minutes_remaining   30697 non-null  int64  \n",
      " 9   period              30697 non-null  int64  \n",
      " 10  playoffs            30697 non-null  int64  \n",
      " 11  season              30697 non-null  object \n",
      " 12  seconds_remaining   30697 non-null  int64  \n",
      " 13  shot_distance       30697 non-null  int64  \n",
      " 14  shot_made_flag      25697 non-null  float64\n",
      " 15  shot_type           30697 non-null  object \n",
      " 16  shot_zone_area      30697 non-null  object \n",
      " 17  shot_zone_basic     30697 non-null  object \n",
      " 18  shot_zone_range     30697 non-null  object \n",
      " 19  team_id             30697 non-null  int64  \n",
      " 20  team_name           30697 non-null  object \n",
      " 21  game_date           30697 non-null  object \n",
      " 22  matchup             30697 non-null  object \n",
      " 23  opponent            30697 non-null  object \n",
      " 24  shot_id             30697 non-null  int64  \n",
      "dtypes: float64(3), int64(11), object(11)\n",
      "memory usage: 5.9+ MB\n"
     ]
    }
   ],
   "source": [
    "df.info()"
   ]
  },
  {
   "cell_type": "code",
   "execution_count": 7,
   "metadata": {},
   "outputs": [],
   "source": [
    "df = df.drop(columns=['game_event_id', 'game_id', 'team_id', 'team_name', 'matchup', 'shot_id', 'season'])"
   ]
  },
  {
   "cell_type": "markdown",
   "metadata": {},
   "source": [
    "#### Максимальная корреляция между 'loc_x', 'loc_y', 'lat', 'lon', удалим 'lat', 'lon'"
   ]
  },
  {
   "cell_type": "code",
   "execution_count": 8,
   "metadata": {
    "scrolled": true
   },
   "outputs": [
    {
     "data": {
      "text/html": [
       "<div>\n",
       "<style scoped>\n",
       "    .dataframe tbody tr th:only-of-type {\n",
       "        vertical-align: middle;\n",
       "    }\n",
       "\n",
       "    .dataframe tbody tr th {\n",
       "        vertical-align: top;\n",
       "    }\n",
       "\n",
       "    .dataframe thead th {\n",
       "        text-align: right;\n",
       "    }\n",
       "</style>\n",
       "<table border=\"1\" class=\"dataframe\">\n",
       "  <thead>\n",
       "    <tr style=\"text-align: right;\">\n",
       "      <th></th>\n",
       "      <th>loc_x</th>\n",
       "      <th>loc_y</th>\n",
       "      <th>lat</th>\n",
       "      <th>lon</th>\n",
       "    </tr>\n",
       "  </thead>\n",
       "  <tbody>\n",
       "    <tr>\n",
       "      <th>loc_x</th>\n",
       "      <td>1.000000</td>\n",
       "      <td>-0.016217</td>\n",
       "      <td>0.016217</td>\n",
       "      <td>1.000000</td>\n",
       "    </tr>\n",
       "    <tr>\n",
       "      <th>loc_y</th>\n",
       "      <td>-0.016217</td>\n",
       "      <td>1.000000</td>\n",
       "      <td>-1.000000</td>\n",
       "      <td>-0.016217</td>\n",
       "    </tr>\n",
       "    <tr>\n",
       "      <th>lat</th>\n",
       "      <td>0.016217</td>\n",
       "      <td>-1.000000</td>\n",
       "      <td>1.000000</td>\n",
       "      <td>0.016217</td>\n",
       "    </tr>\n",
       "    <tr>\n",
       "      <th>lon</th>\n",
       "      <td>1.000000</td>\n",
       "      <td>-0.016217</td>\n",
       "      <td>0.016217</td>\n",
       "      <td>1.000000</td>\n",
       "    </tr>\n",
       "  </tbody>\n",
       "</table>\n",
       "</div>"
      ],
      "text/plain": [
       "          loc_x     loc_y       lat       lon\n",
       "loc_x  1.000000 -0.016217  0.016217  1.000000\n",
       "loc_y -0.016217  1.000000 -1.000000 -0.016217\n",
       "lat    0.016217 -1.000000  1.000000  0.016217\n",
       "lon    1.000000 -0.016217  0.016217  1.000000"
      ]
     },
     "execution_count": 8,
     "metadata": {},
     "output_type": "execute_result"
    }
   ],
   "source": [
    "df[['loc_x', 'loc_y', 'lat', 'lon']].corr()"
   ]
  },
  {
   "cell_type": "code",
   "execution_count": 9,
   "metadata": {},
   "outputs": [],
   "source": [
    "df = df.drop(columns=['lat', 'lon'])"
   ]
  },
  {
   "cell_type": "markdown",
   "metadata": {},
   "source": [
    "#### Преобразуем пройденное игровое время"
   ]
  },
  {
   "cell_type": "markdown",
   "metadata": {},
   "source": [
    "Номер периода умножаем на 12 (кол-во минут в периоде), вычетаем оставшееся время в минутах - получаем пройденное время в минутах от начала игры"
   ]
  },
  {
   "cell_type": "code",
   "execution_count": 10,
   "metadata": {},
   "outputs": [],
   "source": [
    "def upgrade_time(row):\n",
    "    return row['period']*12 - row['minutes_remaining'] - (row['seconds_remaining']/60)"
   ]
  },
  {
   "cell_type": "code",
   "execution_count": 11,
   "metadata": {},
   "outputs": [],
   "source": [
    "df['game_time'] = df.apply(upgrade_time, axis=1)"
   ]
  },
  {
   "cell_type": "code",
   "execution_count": 12,
   "metadata": {},
   "outputs": [],
   "source": [
    "df = df.drop(columns=['minutes_remaining', 'period', 'seconds_remaining'])"
   ]
  },
  {
   "cell_type": "code",
   "execution_count": 13,
   "metadata": {
    "scrolled": true
   },
   "outputs": [
    {
     "data": {
      "text/html": [
       "<div>\n",
       "<style scoped>\n",
       "    .dataframe tbody tr th:only-of-type {\n",
       "        vertical-align: middle;\n",
       "    }\n",
       "\n",
       "    .dataframe tbody tr th {\n",
       "        vertical-align: top;\n",
       "    }\n",
       "\n",
       "    .dataframe thead th {\n",
       "        text-align: right;\n",
       "    }\n",
       "</style>\n",
       "<table border=\"1\" class=\"dataframe\">\n",
       "  <thead>\n",
       "    <tr style=\"text-align: right;\">\n",
       "      <th></th>\n",
       "      <th>action_type</th>\n",
       "      <th>combined_shot_type</th>\n",
       "      <th>loc_x</th>\n",
       "      <th>loc_y</th>\n",
       "      <th>playoffs</th>\n",
       "      <th>shot_distance</th>\n",
       "      <th>shot_made_flag</th>\n",
       "      <th>shot_type</th>\n",
       "      <th>shot_zone_area</th>\n",
       "      <th>shot_zone_basic</th>\n",
       "      <th>shot_zone_range</th>\n",
       "      <th>game_date</th>\n",
       "      <th>opponent</th>\n",
       "      <th>game_time</th>\n",
       "    </tr>\n",
       "  </thead>\n",
       "  <tbody>\n",
       "    <tr>\n",
       "      <th>0</th>\n",
       "      <td>Jump Shot</td>\n",
       "      <td>Jump Shot</td>\n",
       "      <td>167</td>\n",
       "      <td>72</td>\n",
       "      <td>0</td>\n",
       "      <td>18</td>\n",
       "      <td>NaN</td>\n",
       "      <td>2PT Field Goal</td>\n",
       "      <td>Right Side(R)</td>\n",
       "      <td>Mid-Range</td>\n",
       "      <td>16-24 ft.</td>\n",
       "      <td>2000-10-31</td>\n",
       "      <td>POR</td>\n",
       "      <td>1.550000</td>\n",
       "    </tr>\n",
       "    <tr>\n",
       "      <th>1</th>\n",
       "      <td>Jump Shot</td>\n",
       "      <td>Jump Shot</td>\n",
       "      <td>-157</td>\n",
       "      <td>0</td>\n",
       "      <td>0</td>\n",
       "      <td>15</td>\n",
       "      <td>0.0</td>\n",
       "      <td>2PT Field Goal</td>\n",
       "      <td>Left Side(L)</td>\n",
       "      <td>Mid-Range</td>\n",
       "      <td>8-16 ft.</td>\n",
       "      <td>2000-10-31</td>\n",
       "      <td>POR</td>\n",
       "      <td>1.633333</td>\n",
       "    </tr>\n",
       "    <tr>\n",
       "      <th>2</th>\n",
       "      <td>Jump Shot</td>\n",
       "      <td>Jump Shot</td>\n",
       "      <td>-101</td>\n",
       "      <td>135</td>\n",
       "      <td>0</td>\n",
       "      <td>16</td>\n",
       "      <td>1.0</td>\n",
       "      <td>2PT Field Goal</td>\n",
       "      <td>Left Side Center(LC)</td>\n",
       "      <td>Mid-Range</td>\n",
       "      <td>16-24 ft.</td>\n",
       "      <td>2000-10-31</td>\n",
       "      <td>POR</td>\n",
       "      <td>4.250000</td>\n",
       "    </tr>\n",
       "    <tr>\n",
       "      <th>3</th>\n",
       "      <td>Jump Shot</td>\n",
       "      <td>Jump Shot</td>\n",
       "      <td>138</td>\n",
       "      <td>175</td>\n",
       "      <td>0</td>\n",
       "      <td>22</td>\n",
       "      <td>0.0</td>\n",
       "      <td>2PT Field Goal</td>\n",
       "      <td>Right Side Center(RC)</td>\n",
       "      <td>Mid-Range</td>\n",
       "      <td>16-24 ft.</td>\n",
       "      <td>2000-10-31</td>\n",
       "      <td>POR</td>\n",
       "      <td>5.133333</td>\n",
       "    </tr>\n",
       "    <tr>\n",
       "      <th>4</th>\n",
       "      <td>Driving Dunk Shot</td>\n",
       "      <td>Dunk</td>\n",
       "      <td>0</td>\n",
       "      <td>0</td>\n",
       "      <td>0</td>\n",
       "      <td>0</td>\n",
       "      <td>1.0</td>\n",
       "      <td>2PT Field Goal</td>\n",
       "      <td>Center(C)</td>\n",
       "      <td>Restricted Area</td>\n",
       "      <td>Less Than 8 ft.</td>\n",
       "      <td>2000-10-31</td>\n",
       "      <td>POR</td>\n",
       "      <td>17.683333</td>\n",
       "    </tr>\n",
       "  </tbody>\n",
       "</table>\n",
       "</div>"
      ],
      "text/plain": [
       "         action_type combined_shot_type  loc_x  loc_y  playoffs  \\\n",
       "0          Jump Shot          Jump Shot    167     72         0   \n",
       "1          Jump Shot          Jump Shot   -157      0         0   \n",
       "2          Jump Shot          Jump Shot   -101    135         0   \n",
       "3          Jump Shot          Jump Shot    138    175         0   \n",
       "4  Driving Dunk Shot               Dunk      0      0         0   \n",
       "\n",
       "   shot_distance  shot_made_flag       shot_type         shot_zone_area  \\\n",
       "0             18             NaN  2PT Field Goal          Right Side(R)   \n",
       "1             15             0.0  2PT Field Goal           Left Side(L)   \n",
       "2             16             1.0  2PT Field Goal   Left Side Center(LC)   \n",
       "3             22             0.0  2PT Field Goal  Right Side Center(RC)   \n",
       "4              0             1.0  2PT Field Goal              Center(C)   \n",
       "\n",
       "   shot_zone_basic  shot_zone_range   game_date opponent  game_time  \n",
       "0        Mid-Range        16-24 ft.  2000-10-31      POR   1.550000  \n",
       "1        Mid-Range         8-16 ft.  2000-10-31      POR   1.633333  \n",
       "2        Mid-Range        16-24 ft.  2000-10-31      POR   4.250000  \n",
       "3        Mid-Range        16-24 ft.  2000-10-31      POR   5.133333  \n",
       "4  Restricted Area  Less Than 8 ft.  2000-10-31      POR  17.683333  "
      ]
     },
     "execution_count": 13,
     "metadata": {},
     "output_type": "execute_result"
    }
   ],
   "source": [
    "df.head()"
   ]
  },
  {
   "cell_type": "markdown",
   "metadata": {},
   "source": [
    "#### shot_zone_area и shot_zone_basic достаточно похожие признаки, пробуем удалить один, второй преобразуем One Hot"
   ]
  },
  {
   "cell_type": "code",
   "execution_count": 14,
   "metadata": {
    "scrolled": true
   },
   "outputs": [
    {
     "data": {
      "text/plain": [
       "Center(C)                13455\n",
       "Right Side Center(RC)     4776\n",
       "Right Side(R)             4588\n",
       "Left Side Center(LC)      4044\n",
       "Left Side(L)              3751\n",
       "Back Court(BC)              83\n",
       "Name: shot_zone_area, dtype: int64"
      ]
     },
     "execution_count": 14,
     "metadata": {},
     "output_type": "execute_result"
    }
   ],
   "source": [
    "df['shot_zone_area'].value_counts()"
   ]
  },
  {
   "cell_type": "code",
   "execution_count": 15,
   "metadata": {
    "scrolled": true
   },
   "outputs": [
    {
     "data": {
      "text/plain": [
       "Mid-Range                12625\n",
       "Restricted Area           7136\n",
       "Above the Break 3         5620\n",
       "In The Paint (Non-RA)     4578\n",
       "Right Corner 3             387\n",
       "Left Corner 3              280\n",
       "Backcourt                   71\n",
       "Name: shot_zone_basic, dtype: int64"
      ]
     },
     "execution_count": 15,
     "metadata": {},
     "output_type": "execute_result"
    }
   ],
   "source": [
    "df['shot_zone_basic'].value_counts()"
   ]
  },
  {
   "cell_type": "code",
   "execution_count": 16,
   "metadata": {},
   "outputs": [],
   "source": [
    "df = df.drop(columns=['shot_zone_basic'])"
   ]
  },
  {
   "cell_type": "code",
   "execution_count": 17,
   "metadata": {},
   "outputs": [],
   "source": [
    "df = pd.get_dummies(df, columns=['shot_zone_area'])"
   ]
  },
  {
   "cell_type": "markdown",
   "metadata": {},
   "source": [
    "#### У нас есть shot_distance, что отражает этот же признак, но удалять не будем, преобразуем OneHotEncoder"
   ]
  },
  {
   "cell_type": "code",
   "execution_count": 18,
   "metadata": {
    "scrolled": true
   },
   "outputs": [
    {
     "data": {
      "text/plain": [
       "Less Than 8 ft.    9398\n",
       "16-24 ft.          8315\n",
       "8-16 ft.           6626\n",
       "24+ ft.            6275\n",
       "Back Court Shot      83\n",
       "Name: shot_zone_range, dtype: int64"
      ]
     },
     "execution_count": 18,
     "metadata": {},
     "output_type": "execute_result"
    }
   ],
   "source": [
    "df['shot_zone_range'].value_counts()"
   ]
  },
  {
   "cell_type": "code",
   "execution_count": 19,
   "metadata": {},
   "outputs": [],
   "source": [
    "df = pd.get_dummies(df, columns=['shot_zone_range'])"
   ]
  },
  {
   "cell_type": "markdown",
   "metadata": {},
   "source": [
    "#### Shot_type преобразуем LabelEncoder"
   ]
  },
  {
   "cell_type": "code",
   "execution_count": 20,
   "metadata": {},
   "outputs": [
    {
     "data": {
      "text/plain": [
       "2PT Field Goal    24271\n",
       "3PT Field Goal     6426\n",
       "Name: shot_type, dtype: int64"
      ]
     },
     "execution_count": 20,
     "metadata": {},
     "output_type": "execute_result"
    }
   ],
   "source": [
    "df['shot_type'].value_counts()"
   ]
  },
  {
   "cell_type": "code",
   "execution_count": 21,
   "metadata": {},
   "outputs": [],
   "source": [
    "from sklearn.preprocessing import LabelEncoder"
   ]
  },
  {
   "cell_type": "code",
   "execution_count": 22,
   "metadata": {},
   "outputs": [],
   "source": [
    "le = LabelEncoder()\n",
    "le.fit(df['shot_type'])\n",
    "df['shot_type'] = pd.Series(data=le.transform(df['shot_type']))"
   ]
  },
  {
   "cell_type": "markdown",
   "metadata": {},
   "source": [
    "#### Поработаем с датой игры"
   ]
  },
  {
   "cell_type": "code",
   "execution_count": 23,
   "metadata": {},
   "outputs": [],
   "source": [
    "def upgrade_date(param):\n",
    "    param = str(param)\n",
    "    arr = param.split('-')\n",
    "    return pd.Series([int(x) for x in arr])"
   ]
  },
  {
   "cell_type": "code",
   "execution_count": 24,
   "metadata": {
    "scrolled": true
   },
   "outputs": [],
   "source": [
    "df[['year','month','day']] = df['game_date'].apply(upgrade_date)"
   ]
  },
  {
   "cell_type": "code",
   "execution_count": 25,
   "metadata": {},
   "outputs": [],
   "source": [
    "df = df.drop(columns=['game_date'])"
   ]
  },
  {
   "cell_type": "markdown",
   "metadata": {},
   "source": [
    "#### Сгенерируем новый столбец на основе loc_x, loc_y"
   ]
  },
  {
   "cell_type": "code",
   "execution_count": 26,
   "metadata": {},
   "outputs": [],
   "source": [
    "def get_new_loc(row):\n",
    "    x = np.absolute(row['loc_x'])\n",
    "    y = np.absolute(row['loc_y'])\n",
    "    return np.sqrt(x*y)"
   ]
  },
  {
   "cell_type": "code",
   "execution_count": 27,
   "metadata": {},
   "outputs": [],
   "source": [
    "df['location'] = df.apply(get_new_loc, axis=1)"
   ]
  },
  {
   "cell_type": "code",
   "execution_count": 28,
   "metadata": {},
   "outputs": [],
   "source": [
    "df = df.drop(columns=['loc_x', 'loc_y'])"
   ]
  },
  {
   "cell_type": "markdown",
   "metadata": {},
   "source": [
    "#### Теперь отделяем выборку с неизвестным таргетом"
   ]
  },
  {
   "cell_type": "code",
   "execution_count": 29,
   "metadata": {
    "scrolled": true
   },
   "outputs": [
    {
     "data": {
      "text/html": [
       "<div>\n",
       "<style scoped>\n",
       "    .dataframe tbody tr th:only-of-type {\n",
       "        vertical-align: middle;\n",
       "    }\n",
       "\n",
       "    .dataframe tbody tr th {\n",
       "        vertical-align: top;\n",
       "    }\n",
       "\n",
       "    .dataframe thead th {\n",
       "        text-align: right;\n",
       "    }\n",
       "</style>\n",
       "<table border=\"1\" class=\"dataframe\">\n",
       "  <thead>\n",
       "    <tr style=\"text-align: right;\">\n",
       "      <th></th>\n",
       "      <th>action_type</th>\n",
       "      <th>combined_shot_type</th>\n",
       "      <th>playoffs</th>\n",
       "      <th>shot_distance</th>\n",
       "      <th>shot_made_flag</th>\n",
       "      <th>shot_type</th>\n",
       "      <th>opponent</th>\n",
       "      <th>game_time</th>\n",
       "      <th>shot_zone_area_Back Court(BC)</th>\n",
       "      <th>shot_zone_area_Center(C)</th>\n",
       "      <th>...</th>\n",
       "      <th>shot_zone_area_Right Side(R)</th>\n",
       "      <th>shot_zone_range_16-24 ft.</th>\n",
       "      <th>shot_zone_range_24+ ft.</th>\n",
       "      <th>shot_zone_range_8-16 ft.</th>\n",
       "      <th>shot_zone_range_Back Court Shot</th>\n",
       "      <th>shot_zone_range_Less Than 8 ft.</th>\n",
       "      <th>year</th>\n",
       "      <th>month</th>\n",
       "      <th>day</th>\n",
       "      <th>location</th>\n",
       "    </tr>\n",
       "  </thead>\n",
       "  <tbody>\n",
       "    <tr>\n",
       "      <th>0</th>\n",
       "      <td>Jump Shot</td>\n",
       "      <td>Jump Shot</td>\n",
       "      <td>0</td>\n",
       "      <td>18</td>\n",
       "      <td>NaN</td>\n",
       "      <td>0</td>\n",
       "      <td>POR</td>\n",
       "      <td>1.550000</td>\n",
       "      <td>0</td>\n",
       "      <td>0</td>\n",
       "      <td>...</td>\n",
       "      <td>1</td>\n",
       "      <td>1</td>\n",
       "      <td>0</td>\n",
       "      <td>0</td>\n",
       "      <td>0</td>\n",
       "      <td>0</td>\n",
       "      <td>2000</td>\n",
       "      <td>10</td>\n",
       "      <td>31</td>\n",
       "      <td>109.654001</td>\n",
       "    </tr>\n",
       "    <tr>\n",
       "      <th>7</th>\n",
       "      <td>Jump Shot</td>\n",
       "      <td>Jump Shot</td>\n",
       "      <td>0</td>\n",
       "      <td>2</td>\n",
       "      <td>NaN</td>\n",
       "      <td>0</td>\n",
       "      <td>POR</td>\n",
       "      <td>27.916667</td>\n",
       "      <td>0</td>\n",
       "      <td>1</td>\n",
       "      <td>...</td>\n",
       "      <td>0</td>\n",
       "      <td>0</td>\n",
       "      <td>0</td>\n",
       "      <td>0</td>\n",
       "      <td>0</td>\n",
       "      <td>1</td>\n",
       "      <td>2000</td>\n",
       "      <td>10</td>\n",
       "      <td>31</td>\n",
       "      <td>5.291503</td>\n",
       "    </tr>\n",
       "    <tr>\n",
       "      <th>16</th>\n",
       "      <td>Driving Layup Shot</td>\n",
       "      <td>Layup</td>\n",
       "      <td>0</td>\n",
       "      <td>0</td>\n",
       "      <td>NaN</td>\n",
       "      <td>0</td>\n",
       "      <td>UTA</td>\n",
       "      <td>11.983333</td>\n",
       "      <td>0</td>\n",
       "      <td>1</td>\n",
       "      <td>...</td>\n",
       "      <td>0</td>\n",
       "      <td>0</td>\n",
       "      <td>0</td>\n",
       "      <td>0</td>\n",
       "      <td>0</td>\n",
       "      <td>1</td>\n",
       "      <td>2000</td>\n",
       "      <td>11</td>\n",
       "      <td>1</td>\n",
       "      <td>0.000000</td>\n",
       "    </tr>\n",
       "    <tr>\n",
       "      <th>19</th>\n",
       "      <td>Driving Layup Shot</td>\n",
       "      <td>Layup</td>\n",
       "      <td>0</td>\n",
       "      <td>0</td>\n",
       "      <td>NaN</td>\n",
       "      <td>0</td>\n",
       "      <td>UTA</td>\n",
       "      <td>25.233333</td>\n",
       "      <td>0</td>\n",
       "      <td>1</td>\n",
       "      <td>...</td>\n",
       "      <td>0</td>\n",
       "      <td>0</td>\n",
       "      <td>0</td>\n",
       "      <td>0</td>\n",
       "      <td>0</td>\n",
       "      <td>1</td>\n",
       "      <td>2000</td>\n",
       "      <td>11</td>\n",
       "      <td>1</td>\n",
       "      <td>0.000000</td>\n",
       "    </tr>\n",
       "    <tr>\n",
       "      <th>32</th>\n",
       "      <td>Jump Shot</td>\n",
       "      <td>Jump Shot</td>\n",
       "      <td>0</td>\n",
       "      <td>17</td>\n",
       "      <td>NaN</td>\n",
       "      <td>0</td>\n",
       "      <td>VAN</td>\n",
       "      <td>0.566667</td>\n",
       "      <td>0</td>\n",
       "      <td>0</td>\n",
       "      <td>...</td>\n",
       "      <td>1</td>\n",
       "      <td>1</td>\n",
       "      <td>0</td>\n",
       "      <td>0</td>\n",
       "      <td>0</td>\n",
       "      <td>0</td>\n",
       "      <td>2000</td>\n",
       "      <td>11</td>\n",
       "      <td>4</td>\n",
       "      <td>111.301393</td>\n",
       "    </tr>\n",
       "  </tbody>\n",
       "</table>\n",
       "<p>5 rows × 23 columns</p>\n",
       "</div>"
      ],
      "text/plain": [
       "           action_type combined_shot_type  playoffs  shot_distance  \\\n",
       "0            Jump Shot          Jump Shot         0             18   \n",
       "7            Jump Shot          Jump Shot         0              2   \n",
       "16  Driving Layup Shot              Layup         0              0   \n",
       "19  Driving Layup Shot              Layup         0              0   \n",
       "32           Jump Shot          Jump Shot         0             17   \n",
       "\n",
       "    shot_made_flag  shot_type opponent  game_time  \\\n",
       "0              NaN          0      POR   1.550000   \n",
       "7              NaN          0      POR  27.916667   \n",
       "16             NaN          0      UTA  11.983333   \n",
       "19             NaN          0      UTA  25.233333   \n",
       "32             NaN          0      VAN   0.566667   \n",
       "\n",
       "    shot_zone_area_Back Court(BC)  shot_zone_area_Center(C)  ...  \\\n",
       "0                               0                         0  ...   \n",
       "7                               0                         1  ...   \n",
       "16                              0                         1  ...   \n",
       "19                              0                         1  ...   \n",
       "32                              0                         0  ...   \n",
       "\n",
       "    shot_zone_area_Right Side(R)  shot_zone_range_16-24 ft.  \\\n",
       "0                              1                          1   \n",
       "7                              0                          0   \n",
       "16                             0                          0   \n",
       "19                             0                          0   \n",
       "32                             1                          1   \n",
       "\n",
       "    shot_zone_range_24+ ft.  shot_zone_range_8-16 ft.  \\\n",
       "0                         0                         0   \n",
       "7                         0                         0   \n",
       "16                        0                         0   \n",
       "19                        0                         0   \n",
       "32                        0                         0   \n",
       "\n",
       "    shot_zone_range_Back Court Shot  shot_zone_range_Less Than 8 ft.  year  \\\n",
       "0                                 0                                0  2000   \n",
       "7                                 0                                1  2000   \n",
       "16                                0                                1  2000   \n",
       "19                                0                                1  2000   \n",
       "32                                0                                0  2000   \n",
       "\n",
       "    month  day    location  \n",
       "0      10   31  109.654001  \n",
       "7      10   31    5.291503  \n",
       "16     11    1    0.000000  \n",
       "19     11    1    0.000000  \n",
       "32     11    4  111.301393  \n",
       "\n",
       "[5 rows x 23 columns]"
      ]
     },
     "execution_count": 29,
     "metadata": {},
     "output_type": "execute_result"
    }
   ],
   "source": [
    "df_target_nan = df[pd.isna(df['shot_made_flag'])]\n",
    "df_target_nan.head()"
   ]
  },
  {
   "cell_type": "code",
   "execution_count": 30,
   "metadata": {
    "scrolled": true
   },
   "outputs": [
    {
     "data": {
      "text/html": [
       "<div>\n",
       "<style scoped>\n",
       "    .dataframe tbody tr th:only-of-type {\n",
       "        vertical-align: middle;\n",
       "    }\n",
       "\n",
       "    .dataframe tbody tr th {\n",
       "        vertical-align: top;\n",
       "    }\n",
       "\n",
       "    .dataframe thead th {\n",
       "        text-align: right;\n",
       "    }\n",
       "</style>\n",
       "<table border=\"1\" class=\"dataframe\">\n",
       "  <thead>\n",
       "    <tr style=\"text-align: right;\">\n",
       "      <th></th>\n",
       "      <th>action_type</th>\n",
       "      <th>combined_shot_type</th>\n",
       "      <th>playoffs</th>\n",
       "      <th>shot_distance</th>\n",
       "      <th>shot_made_flag</th>\n",
       "      <th>shot_type</th>\n",
       "      <th>opponent</th>\n",
       "      <th>game_time</th>\n",
       "      <th>shot_zone_area_Back Court(BC)</th>\n",
       "      <th>shot_zone_area_Center(C)</th>\n",
       "      <th>...</th>\n",
       "      <th>shot_zone_area_Right Side(R)</th>\n",
       "      <th>shot_zone_range_16-24 ft.</th>\n",
       "      <th>shot_zone_range_24+ ft.</th>\n",
       "      <th>shot_zone_range_8-16 ft.</th>\n",
       "      <th>shot_zone_range_Back Court Shot</th>\n",
       "      <th>shot_zone_range_Less Than 8 ft.</th>\n",
       "      <th>year</th>\n",
       "      <th>month</th>\n",
       "      <th>day</th>\n",
       "      <th>location</th>\n",
       "    </tr>\n",
       "  </thead>\n",
       "  <tbody>\n",
       "    <tr>\n",
       "      <th>1</th>\n",
       "      <td>Jump Shot</td>\n",
       "      <td>Jump Shot</td>\n",
       "      <td>0</td>\n",
       "      <td>15</td>\n",
       "      <td>0.0</td>\n",
       "      <td>0</td>\n",
       "      <td>POR</td>\n",
       "      <td>1.633333</td>\n",
       "      <td>0</td>\n",
       "      <td>0</td>\n",
       "      <td>...</td>\n",
       "      <td>0</td>\n",
       "      <td>0</td>\n",
       "      <td>0</td>\n",
       "      <td>1</td>\n",
       "      <td>0</td>\n",
       "      <td>0</td>\n",
       "      <td>2000</td>\n",
       "      <td>10</td>\n",
       "      <td>31</td>\n",
       "      <td>0.000000</td>\n",
       "    </tr>\n",
       "    <tr>\n",
       "      <th>2</th>\n",
       "      <td>Jump Shot</td>\n",
       "      <td>Jump Shot</td>\n",
       "      <td>0</td>\n",
       "      <td>16</td>\n",
       "      <td>1.0</td>\n",
       "      <td>0</td>\n",
       "      <td>POR</td>\n",
       "      <td>4.250000</td>\n",
       "      <td>0</td>\n",
       "      <td>0</td>\n",
       "      <td>...</td>\n",
       "      <td>0</td>\n",
       "      <td>1</td>\n",
       "      <td>0</td>\n",
       "      <td>0</td>\n",
       "      <td>0</td>\n",
       "      <td>0</td>\n",
       "      <td>2000</td>\n",
       "      <td>10</td>\n",
       "      <td>31</td>\n",
       "      <td>116.769003</td>\n",
       "    </tr>\n",
       "    <tr>\n",
       "      <th>3</th>\n",
       "      <td>Jump Shot</td>\n",
       "      <td>Jump Shot</td>\n",
       "      <td>0</td>\n",
       "      <td>22</td>\n",
       "      <td>0.0</td>\n",
       "      <td>0</td>\n",
       "      <td>POR</td>\n",
       "      <td>5.133333</td>\n",
       "      <td>0</td>\n",
       "      <td>0</td>\n",
       "      <td>...</td>\n",
       "      <td>0</td>\n",
       "      <td>1</td>\n",
       "      <td>0</td>\n",
       "      <td>0</td>\n",
       "      <td>0</td>\n",
       "      <td>0</td>\n",
       "      <td>2000</td>\n",
       "      <td>10</td>\n",
       "      <td>31</td>\n",
       "      <td>155.402703</td>\n",
       "    </tr>\n",
       "    <tr>\n",
       "      <th>4</th>\n",
       "      <td>Driving Dunk Shot</td>\n",
       "      <td>Dunk</td>\n",
       "      <td>0</td>\n",
       "      <td>0</td>\n",
       "      <td>1.0</td>\n",
       "      <td>0</td>\n",
       "      <td>POR</td>\n",
       "      <td>17.683333</td>\n",
       "      <td>0</td>\n",
       "      <td>1</td>\n",
       "      <td>...</td>\n",
       "      <td>0</td>\n",
       "      <td>0</td>\n",
       "      <td>0</td>\n",
       "      <td>0</td>\n",
       "      <td>0</td>\n",
       "      <td>1</td>\n",
       "      <td>2000</td>\n",
       "      <td>10</td>\n",
       "      <td>31</td>\n",
       "      <td>0.000000</td>\n",
       "    </tr>\n",
       "    <tr>\n",
       "      <th>5</th>\n",
       "      <td>Jump Shot</td>\n",
       "      <td>Jump Shot</td>\n",
       "      <td>0</td>\n",
       "      <td>14</td>\n",
       "      <td>0.0</td>\n",
       "      <td>0</td>\n",
       "      <td>POR</td>\n",
       "      <td>26.466667</td>\n",
       "      <td>0</td>\n",
       "      <td>0</td>\n",
       "      <td>...</td>\n",
       "      <td>0</td>\n",
       "      <td>0</td>\n",
       "      <td>0</td>\n",
       "      <td>1</td>\n",
       "      <td>0</td>\n",
       "      <td>0</td>\n",
       "      <td>2000</td>\n",
       "      <td>10</td>\n",
       "      <td>31</td>\n",
       "      <td>39.937451</td>\n",
       "    </tr>\n",
       "  </tbody>\n",
       "</table>\n",
       "<p>5 rows × 23 columns</p>\n",
       "</div>"
      ],
      "text/plain": [
       "         action_type combined_shot_type  playoffs  shot_distance  \\\n",
       "1          Jump Shot          Jump Shot         0             15   \n",
       "2          Jump Shot          Jump Shot         0             16   \n",
       "3          Jump Shot          Jump Shot         0             22   \n",
       "4  Driving Dunk Shot               Dunk         0              0   \n",
       "5          Jump Shot          Jump Shot         0             14   \n",
       "\n",
       "   shot_made_flag  shot_type opponent  game_time  \\\n",
       "1             0.0          0      POR   1.633333   \n",
       "2             1.0          0      POR   4.250000   \n",
       "3             0.0          0      POR   5.133333   \n",
       "4             1.0          0      POR  17.683333   \n",
       "5             0.0          0      POR  26.466667   \n",
       "\n",
       "   shot_zone_area_Back Court(BC)  shot_zone_area_Center(C)  ...  \\\n",
       "1                              0                         0  ...   \n",
       "2                              0                         0  ...   \n",
       "3                              0                         0  ...   \n",
       "4                              0                         1  ...   \n",
       "5                              0                         0  ...   \n",
       "\n",
       "   shot_zone_area_Right Side(R)  shot_zone_range_16-24 ft.  \\\n",
       "1                             0                          0   \n",
       "2                             0                          1   \n",
       "3                             0                          1   \n",
       "4                             0                          0   \n",
       "5                             0                          0   \n",
       "\n",
       "   shot_zone_range_24+ ft.  shot_zone_range_8-16 ft.  \\\n",
       "1                        0                         1   \n",
       "2                        0                         0   \n",
       "3                        0                         0   \n",
       "4                        0                         0   \n",
       "5                        0                         1   \n",
       "\n",
       "   shot_zone_range_Back Court Shot  shot_zone_range_Less Than 8 ft.  year  \\\n",
       "1                                0                                0  2000   \n",
       "2                                0                                0  2000   \n",
       "3                                0                                0  2000   \n",
       "4                                0                                1  2000   \n",
       "5                                0                                0  2000   \n",
       "\n",
       "   month  day    location  \n",
       "1     10   31    0.000000  \n",
       "2     10   31  116.769003  \n",
       "3     10   31  155.402703  \n",
       "4     10   31    0.000000  \n",
       "5     10   31   39.937451  \n",
       "\n",
       "[5 rows x 23 columns]"
      ]
     },
     "execution_count": 30,
     "metadata": {},
     "output_type": "execute_result"
    }
   ],
   "source": [
    "df = df[~pd.isna(df['shot_made_flag'])]\n",
    "df.head()"
   ]
  },
  {
   "cell_type": "markdown",
   "metadata": {},
   "source": [
    "#### Функции для подсчета WOE и IV"
   ]
  },
  {
   "cell_type": "markdown",
   "metadata": {},
   "source": [
    "Считаем значения по всем категориям"
   ]
  },
  {
   "cell_type": "code",
   "execution_count": 31,
   "metadata": {},
   "outputs": [],
   "source": [
    "def count_values(row, column, all_value, val_1, val_0):\n",
    "    if row['shot_made_flag'] == 1.:\n",
    "        all_value[1] +=1\n",
    "        if row[column] in val_1:\n",
    "            val_1[row[column]] += 1\n",
    "        else:\n",
    "            val_1[row[column]] = 1\n",
    "    elif row['shot_made_flag'] == 0.:\n",
    "        all_value[0] +=1\n",
    "        if row[column] in val_0:\n",
    "            val_0[row[column]] += 1\n",
    "        else:\n",
    "            val_0[row[column]] = 1\n",
    "    "
   ]
  },
  {
   "cell_type": "markdown",
   "metadata": {},
   "source": [
    "Считаем WOE и IV"
   ]
  },
  {
   "cell_type": "code",
   "execution_count": 32,
   "metadata": {},
   "outputs": [],
   "source": [
    "def get_iv(val_1, val_0, all_value, date):\n",
    "    for key, value in val_1.items():\n",
    "        p_good = val_1[key]/all_value[1]\n",
    "        p_bad = val_0[key]/all_value[0]\n",
    "        woe = np.log(p_good/p_bad)\n",
    "        iv = (p_good - p_bad)*woe\n",
    "        date[key] = {}\n",
    "        date[key]['woe'] = round(woe, 4)\n",
    "        date[key]['iv'] = round(iv, 4)"
   ]
  },
  {
   "cell_type": "markdown",
   "metadata": {},
   "source": [
    "#### Посчитаем WOE и IV для признака Opponent"
   ]
  },
  {
   "cell_type": "code",
   "execution_count": 33,
   "metadata": {
    "scrolled": true
   },
   "outputs": [
    {
     "name": "stdout",
     "output_type": "stream",
     "text": [
      "\n"
     ]
    }
   ],
   "source": [
    "from functools import partial\n",
    "# Так проще передать атрибуты в функцию \n",
    "\n",
    "val_1 = {}\n",
    "val_0 = {}\n",
    "all_value = [0, 0]\n",
    "\n",
    "count_opponent = partial(count_values, column = 'opponent', all_value = all_value, val_1 = val_1, val_0 = val_0)\n",
    "df.apply(count_opponent, axis=1)\n",
    "print('')"
   ]
  },
  {
   "cell_type": "code",
   "execution_count": 34,
   "metadata": {},
   "outputs": [],
   "source": [
    "date_opponent = {}\n",
    "get_iv(val_1, val_0, all_value, date_opponent)"
   ]
  },
  {
   "cell_type": "markdown",
   "metadata": {},
   "source": [
    "**Получились** очень незначительные значения, поэтому лучше преобразовать данный признак через LabelEncoder"
   ]
  },
  {
   "cell_type": "code",
   "execution_count": 35,
   "metadata": {
    "scrolled": false
   },
   "outputs": [
    {
     "data": {
      "text/plain": [
       "{'POR': {'woe': 0.0766, 'iv': 0.0003},\n",
       " 'UTA': {'woe': -0.0077, 'iv': 0.0},\n",
       " 'VAN': {'woe': 0.0984, 'iv': 0.0001},\n",
       " 'LAC': {'woe': 0.0594, 'iv': 0.0001},\n",
       " 'HOU': {'woe': -0.0469, 'iv': 0.0001},\n",
       " 'SAS': {'woe': -0.0392, 'iv': 0.0001},\n",
       " 'DEN': {'woe': 0.0472, 'iv': 0.0001},\n",
       " 'SAC': {'woe': 0.0771, 'iv': 0.0003},\n",
       " 'CHI': {'woe': -0.0647, 'iv': 0.0001},\n",
       " 'GSW': {'woe': 0.0742, 'iv': 0.0002},\n",
       " 'MIN': {'woe': -0.0062, 'iv': 0.0},\n",
       " 'IND': {'woe': -0.1853, 'iv': 0.0008},\n",
       " 'SEA': {'woe': 0.0254, 'iv': 0.0},\n",
       " 'DAL': {'woe': 0.0317, 'iv': 0.0},\n",
       " 'PHI': {'woe': 0.0132, 'iv': 0.0},\n",
       " 'DET': {'woe': -0.02, 'iv': 0.0},\n",
       " 'MIL': {'woe': -0.1467, 'iv': 0.0004},\n",
       " 'TOR': {'woe': 0.0721, 'iv': 0.0001},\n",
       " 'MIA': {'woe': -0.0681, 'iv': 0.0001},\n",
       " 'PHX': {'woe': 0.0739, 'iv': 0.0003},\n",
       " 'CLE': {'woe': -0.0262, 'iv': 0.0},\n",
       " 'NJN': {'woe': -0.0411, 'iv': 0.0},\n",
       " 'NYK': {'woe': 0.1243, 'iv': 0.0003},\n",
       " 'CHA': {'woe': -0.0412, 'iv': 0.0},\n",
       " 'WAS': {'woe': -0.0773, 'iv': 0.0001},\n",
       " 'ORL': {'woe': -0.0435, 'iv': 0.0},\n",
       " 'ATL': {'woe': 0.0238, 'iv': 0.0},\n",
       " 'MEM': {'woe': 0.0158, 'iv': 0.0},\n",
       " 'BOS': {'woe': -0.1427, 'iv': 0.0006},\n",
       " 'NOH': {'woe': 0.0176, 'iv': 0.0},\n",
       " 'NOP': {'woe': -0.1574, 'iv': 0.0003},\n",
       " 'OKC': {'woe': -0.1111, 'iv': 0.0003},\n",
       " 'BKN': {'woe': -0.1893, 'iv': 0.0001}}"
      ]
     },
     "execution_count": 35,
     "metadata": {},
     "output_type": "execute_result"
    }
   ],
   "source": [
    "date_opponent"
   ]
  },
  {
   "cell_type": "markdown",
   "metadata": {},
   "source": [
    "#### !!! Сколько я не пытался использовать LabelEncoder в данном случае, последней категории присваивался Nan, поэтому сделаю сам"
   ]
  },
  {
   "cell_type": "code",
   "execution_count": 36,
   "metadata": {},
   "outputs": [],
   "source": [
    "# le_opponent = LabelEncoder()\n",
    "# le_opponent.fit(df['opponent'])\n",
    "# df['opponent'] = pd.Series(data=le_opponent.transform(df['opponent']))"
   ]
  },
  {
   "cell_type": "code",
   "execution_count": 37,
   "metadata": {},
   "outputs": [],
   "source": [
    "label = {'POR': 1, 'UTA': 2, 'VAN': 3, 'LAC': 4, 'HOU': 5, 'SAS': 6, 'DEN': 7, 'SAC': 8, 'CHI': 9,\n",
    "       'GSW':10, 'MIN':11, 'IND':12, 'SEA':13, 'DAL':14, 'PHI':15, 'DET':16, 'MIL':17, 'TOR':18,\n",
    "       'MIA':19, 'PHX':20, 'CLE':21, 'NJN':22, 'NYK':23, 'CHA':24, 'WAS':25, 'ORL':26, 'ATL':27,\n",
    "       'MEM':28, 'BOS':29, 'NOH':30, 'NOP':31, 'OKC':32, 'BKN':33}"
   ]
  },
  {
   "cell_type": "code",
   "execution_count": 38,
   "metadata": {},
   "outputs": [],
   "source": [
    "def label_for_opponent(param, label):\n",
    "    return label[param]"
   ]
  },
  {
   "cell_type": "code",
   "execution_count": 39,
   "metadata": {},
   "outputs": [],
   "source": [
    "df['opponent_number'] = df['opponent'].apply(label_for_opponent, label=label)"
   ]
  },
  {
   "cell_type": "code",
   "execution_count": 40,
   "metadata": {},
   "outputs": [],
   "source": [
    "df = df.drop(columns=['opponent'])"
   ]
  },
  {
   "cell_type": "markdown",
   "metadata": {},
   "source": [
    "#### Посчитаем WOE и IV для признака combined_shot_type"
   ]
  },
  {
   "cell_type": "code",
   "execution_count": 41,
   "metadata": {
    "scrolled": true
   },
   "outputs": [
    {
     "name": "stdout",
     "output_type": "stream",
     "text": [
      "\n"
     ]
    }
   ],
   "source": [
    "val_1 = {}\n",
    "val_0 = {}\n",
    "all_value = [0, 0]\n",
    "\n",
    "count_shot_type = partial(count_values, column = 'combined_shot_type', all_value = all_value, val_1 = val_1, val_0 = val_0)\n",
    "\n",
    "df.apply(count_shot_type, axis=1)\n",
    "print('')"
   ]
  },
  {
   "cell_type": "code",
   "execution_count": 42,
   "metadata": {},
   "outputs": [],
   "source": [
    "date_shot_type = {}\n",
    "get_iv(val_1, val_0, all_value, date_shot_type)"
   ]
  },
  {
   "cell_type": "code",
   "execution_count": 43,
   "metadata": {
    "scrolled": true
   },
   "outputs": [
    {
     "data": {
      "text/plain": [
       "{'Jump Shot': {'woe': -0.2266, 'iv': 0.0388},\n",
       " 'Dunk': {'woe': 2.773, 'iv': 0.2222},\n",
       " 'Layup': {'woe': 0.4781, 'iv': 0.0406},\n",
       " 'Hook Shot': {'woe': 0.3582, 'iv': 0.0006},\n",
       " 'Tip Shot': {'woe': -0.4086, 'iv': 0.001},\n",
       " 'Bank Shot': {'woe': 1.5512, 'iv': 0.0101}}"
      ]
     },
     "execution_count": 43,
     "metadata": {},
     "output_type": "execute_result"
    }
   ],
   "source": [
    "date_shot_type"
   ]
  },
  {
   "cell_type": "markdown",
   "metadata": {},
   "source": [
    "**Добавляем** колонку iv_shot_type"
   ]
  },
  {
   "cell_type": "code",
   "execution_count": 44,
   "metadata": {},
   "outputs": [],
   "source": [
    "def add_iv_shot_type(param, value):\n",
    "    return value[param]['iv']"
   ]
  },
  {
   "cell_type": "code",
   "execution_count": 45,
   "metadata": {},
   "outputs": [],
   "source": [
    "df['iv_shot_type'] = df['combined_shot_type'].apply(add_iv_shot_type, value = date_shot_type)"
   ]
  },
  {
   "cell_type": "code",
   "execution_count": 46,
   "metadata": {},
   "outputs": [],
   "source": [
    "df = df.drop(columns=['action_type', 'combined_shot_type'])"
   ]
  },
  {
   "cell_type": "markdown",
   "metadata": {},
   "source": [
    "#### Наш датасет имеет такой вид"
   ]
  },
  {
   "cell_type": "code",
   "execution_count": 47,
   "metadata": {
    "scrolled": false
   },
   "outputs": [
    {
     "data": {
      "text/html": [
       "<div>\n",
       "<style scoped>\n",
       "    .dataframe tbody tr th:only-of-type {\n",
       "        vertical-align: middle;\n",
       "    }\n",
       "\n",
       "    .dataframe tbody tr th {\n",
       "        vertical-align: top;\n",
       "    }\n",
       "\n",
       "    .dataframe thead th {\n",
       "        text-align: right;\n",
       "    }\n",
       "</style>\n",
       "<table border=\"1\" class=\"dataframe\">\n",
       "  <thead>\n",
       "    <tr style=\"text-align: right;\">\n",
       "      <th></th>\n",
       "      <th>playoffs</th>\n",
       "      <th>shot_distance</th>\n",
       "      <th>shot_made_flag</th>\n",
       "      <th>shot_type</th>\n",
       "      <th>game_time</th>\n",
       "      <th>shot_zone_area_Back Court(BC)</th>\n",
       "      <th>shot_zone_area_Center(C)</th>\n",
       "      <th>shot_zone_area_Left Side Center(LC)</th>\n",
       "      <th>shot_zone_area_Left Side(L)</th>\n",
       "      <th>shot_zone_area_Right Side Center(RC)</th>\n",
       "      <th>...</th>\n",
       "      <th>shot_zone_range_24+ ft.</th>\n",
       "      <th>shot_zone_range_8-16 ft.</th>\n",
       "      <th>shot_zone_range_Back Court Shot</th>\n",
       "      <th>shot_zone_range_Less Than 8 ft.</th>\n",
       "      <th>year</th>\n",
       "      <th>month</th>\n",
       "      <th>day</th>\n",
       "      <th>location</th>\n",
       "      <th>opponent_number</th>\n",
       "      <th>iv_shot_type</th>\n",
       "    </tr>\n",
       "  </thead>\n",
       "  <tbody>\n",
       "    <tr>\n",
       "      <th>1</th>\n",
       "      <td>0</td>\n",
       "      <td>15</td>\n",
       "      <td>0.0</td>\n",
       "      <td>0</td>\n",
       "      <td>1.633333</td>\n",
       "      <td>0</td>\n",
       "      <td>0</td>\n",
       "      <td>0</td>\n",
       "      <td>1</td>\n",
       "      <td>0</td>\n",
       "      <td>...</td>\n",
       "      <td>0</td>\n",
       "      <td>1</td>\n",
       "      <td>0</td>\n",
       "      <td>0</td>\n",
       "      <td>2000</td>\n",
       "      <td>10</td>\n",
       "      <td>31</td>\n",
       "      <td>0.000000</td>\n",
       "      <td>1</td>\n",
       "      <td>0.0388</td>\n",
       "    </tr>\n",
       "    <tr>\n",
       "      <th>2</th>\n",
       "      <td>0</td>\n",
       "      <td>16</td>\n",
       "      <td>1.0</td>\n",
       "      <td>0</td>\n",
       "      <td>4.250000</td>\n",
       "      <td>0</td>\n",
       "      <td>0</td>\n",
       "      <td>1</td>\n",
       "      <td>0</td>\n",
       "      <td>0</td>\n",
       "      <td>...</td>\n",
       "      <td>0</td>\n",
       "      <td>0</td>\n",
       "      <td>0</td>\n",
       "      <td>0</td>\n",
       "      <td>2000</td>\n",
       "      <td>10</td>\n",
       "      <td>31</td>\n",
       "      <td>116.769003</td>\n",
       "      <td>1</td>\n",
       "      <td>0.0388</td>\n",
       "    </tr>\n",
       "    <tr>\n",
       "      <th>3</th>\n",
       "      <td>0</td>\n",
       "      <td>22</td>\n",
       "      <td>0.0</td>\n",
       "      <td>0</td>\n",
       "      <td>5.133333</td>\n",
       "      <td>0</td>\n",
       "      <td>0</td>\n",
       "      <td>0</td>\n",
       "      <td>0</td>\n",
       "      <td>1</td>\n",
       "      <td>...</td>\n",
       "      <td>0</td>\n",
       "      <td>0</td>\n",
       "      <td>0</td>\n",
       "      <td>0</td>\n",
       "      <td>2000</td>\n",
       "      <td>10</td>\n",
       "      <td>31</td>\n",
       "      <td>155.402703</td>\n",
       "      <td>1</td>\n",
       "      <td>0.0388</td>\n",
       "    </tr>\n",
       "    <tr>\n",
       "      <th>4</th>\n",
       "      <td>0</td>\n",
       "      <td>0</td>\n",
       "      <td>1.0</td>\n",
       "      <td>0</td>\n",
       "      <td>17.683333</td>\n",
       "      <td>0</td>\n",
       "      <td>1</td>\n",
       "      <td>0</td>\n",
       "      <td>0</td>\n",
       "      <td>0</td>\n",
       "      <td>...</td>\n",
       "      <td>0</td>\n",
       "      <td>0</td>\n",
       "      <td>0</td>\n",
       "      <td>1</td>\n",
       "      <td>2000</td>\n",
       "      <td>10</td>\n",
       "      <td>31</td>\n",
       "      <td>0.000000</td>\n",
       "      <td>1</td>\n",
       "      <td>0.2222</td>\n",
       "    </tr>\n",
       "    <tr>\n",
       "      <th>5</th>\n",
       "      <td>0</td>\n",
       "      <td>14</td>\n",
       "      <td>0.0</td>\n",
       "      <td>0</td>\n",
       "      <td>26.466667</td>\n",
       "      <td>0</td>\n",
       "      <td>0</td>\n",
       "      <td>0</td>\n",
       "      <td>1</td>\n",
       "      <td>0</td>\n",
       "      <td>...</td>\n",
       "      <td>0</td>\n",
       "      <td>1</td>\n",
       "      <td>0</td>\n",
       "      <td>0</td>\n",
       "      <td>2000</td>\n",
       "      <td>10</td>\n",
       "      <td>31</td>\n",
       "      <td>39.937451</td>\n",
       "      <td>1</td>\n",
       "      <td>0.0388</td>\n",
       "    </tr>\n",
       "  </tbody>\n",
       "</table>\n",
       "<p>5 rows × 22 columns</p>\n",
       "</div>"
      ],
      "text/plain": [
       "   playoffs  shot_distance  shot_made_flag  shot_type  game_time  \\\n",
       "1         0             15             0.0          0   1.633333   \n",
       "2         0             16             1.0          0   4.250000   \n",
       "3         0             22             0.0          0   5.133333   \n",
       "4         0              0             1.0          0  17.683333   \n",
       "5         0             14             0.0          0  26.466667   \n",
       "\n",
       "   shot_zone_area_Back Court(BC)  shot_zone_area_Center(C)  \\\n",
       "1                              0                         0   \n",
       "2                              0                         0   \n",
       "3                              0                         0   \n",
       "4                              0                         1   \n",
       "5                              0                         0   \n",
       "\n",
       "   shot_zone_area_Left Side Center(LC)  shot_zone_area_Left Side(L)  \\\n",
       "1                                    0                            1   \n",
       "2                                    1                            0   \n",
       "3                                    0                            0   \n",
       "4                                    0                            0   \n",
       "5                                    0                            1   \n",
       "\n",
       "   shot_zone_area_Right Side Center(RC)  ...  shot_zone_range_24+ ft.  \\\n",
       "1                                     0  ...                        0   \n",
       "2                                     0  ...                        0   \n",
       "3                                     1  ...                        0   \n",
       "4                                     0  ...                        0   \n",
       "5                                     0  ...                        0   \n",
       "\n",
       "   shot_zone_range_8-16 ft.  shot_zone_range_Back Court Shot  \\\n",
       "1                         1                                0   \n",
       "2                         0                                0   \n",
       "3                         0                                0   \n",
       "4                         0                                0   \n",
       "5                         1                                0   \n",
       "\n",
       "   shot_zone_range_Less Than 8 ft.  year  month  day    location  \\\n",
       "1                                0  2000     10   31    0.000000   \n",
       "2                                0  2000     10   31  116.769003   \n",
       "3                                0  2000     10   31  155.402703   \n",
       "4                                1  2000     10   31    0.000000   \n",
       "5                                0  2000     10   31   39.937451   \n",
       "\n",
       "   opponent_number  iv_shot_type  \n",
       "1                1        0.0388  \n",
       "2                1        0.0388  \n",
       "3                1        0.0388  \n",
       "4                1        0.2222  \n",
       "5                1        0.0388  \n",
       "\n",
       "[5 rows x 22 columns]"
      ]
     },
     "execution_count": 47,
     "metadata": {},
     "output_type": "execute_result"
    }
   ],
   "source": [
    "df.head()"
   ]
  },
  {
   "cell_type": "markdown",
   "metadata": {},
   "source": [
    "#### Посмтроим матрицу корреляций с целевой переменной"
   ]
  },
  {
   "cell_type": "code",
   "execution_count": 48,
   "metadata": {
    "scrolled": true
   },
   "outputs": [
    {
     "data": {
      "text/plain": [
       "<AxesSubplot:>"
      ]
     },
     "execution_count": 48,
     "metadata": {},
     "output_type": "execute_result"
    },
    {
     "data": {
      "image/png": "[encoded data removed]",
      "text/plain": [
       "<Figure size 936x648 with 2 Axes>"
      ]
     },
     "metadata": {
      "needs_background": "light"
     },
     "output_type": "display_data"
    }
   ],
   "source": [
    "plt.subplots(figsize=(13,9))\n",
    "sns.heatmap(df[['shot_distance', 'shot_type', 'iv_shot_type', 'game_time', 'location', 'playoffs', 'year', 'month', 'day', 'shot_made_flag']].corr(),\n",
    "            annot = True, vmin=-1, vmax=1, center=0)"
   ]
  },
  {
   "cell_type": "markdown",
   "metadata": {},
   "source": [
    "#### Логистическая регрессия"
   ]
  },
  {
   "cell_type": "code",
   "execution_count": 49,
   "metadata": {},
   "outputs": [],
   "source": [
    "from sklearn.linear_model import LogisticRegression\n",
    "from sklearn.model_selection import train_test_split"
   ]
  },
  {
   "cell_type": "code",
   "execution_count": 50,
   "metadata": {},
   "outputs": [],
   "source": [
    "def get_score(x, y, penalty='none', c=0.01):\n",
    "    all_err_1 = []\n",
    "    all_err_2 = []\n",
    "    for i in range(10):\n",
    "        x_train, x_test, y_train, y_test = train_test_split(x, y, test_size=0.33, random_state = i)\n",
    "        if penalty == 'none':\n",
    "            model = LogisticRegression(penalty=penalty)\n",
    "            model.fit(x_train, y_train)\n",
    "        elif penalty == 'l1':\n",
    "            model = LogisticRegression(penalty=penalty, C=c, solver='liblinear')\n",
    "            model.fit(x_train, y_train)\n",
    "        else:\n",
    "            model = LogisticRegression(penalty=penalty, C=c)\n",
    "            model.fit(x_train, y_train)\n",
    "        all_err_1.append(model.score(x_train, y_train))\n",
    "        all_err_2.append(model.score(x_test, y_test))\n",
    "    return (np.mean(all_err_1), np.mean(all_err_2))   "
   ]
  },
  {
   "cell_type": "markdown",
   "metadata": {},
   "source": [
    "#### Лог.рег без регуляризации"
   ]
  },
  {
   "cell_type": "code",
   "execution_count": 51,
   "metadata": {},
   "outputs": [],
   "source": [
    "y = df['shot_made_flag']\n",
    "x = df.loc[:, df.columns != 'shot_made_flag']"
   ]
  },
  {
   "cell_type": "code",
   "execution_count": 52,
   "metadata": {},
   "outputs": [
    {
     "data": {
      "text/plain": [
       "(0.5984026486988847, 0.5980544747081712)"
      ]
     },
     "execution_count": 52,
     "metadata": {},
     "output_type": "execute_result"
    }
   ],
   "source": [
    "get_score(x, y)"
   ]
  },
  {
   "cell_type": "code",
   "execution_count": 53,
   "metadata": {},
   "outputs": [
    {
     "data": {
      "text/plain": [
       "(0.6064010223048328, 0.6040561254569037)"
      ]
     },
     "execution_count": 53,
     "metadata": {},
     "output_type": "execute_result"
    }
   ],
   "source": [
    "get_score(df[['shot_distance', 'shot_type', 'iv_shot_type', 'game_time', 'location', 'playoffs']], y)"
   ]
  },
  {
   "cell_type": "markdown",
   "metadata": {},
   "source": [
    "#### Lasso"
   ]
  },
  {
   "cell_type": "code",
   "execution_count": 54,
   "metadata": {},
   "outputs": [],
   "source": [
    "c = [0.1, 0.01, 0.001, 0.0001]"
   ]
  },
  {
   "cell_type": "code",
   "execution_count": 55,
   "metadata": {
    "scrolled": true
   },
   "outputs": [
    {
     "name": "stdout",
     "output_type": "stream",
     "text": [
      "c = 0.1 / err_1 =  0.6043680297397771 / err_2 =  0.6030656762174271\n",
      "c = 0.01 / err_1 =  0.5989312267657991 / err_2 =  0.5985850725150337\n",
      "c = 0.001 / err_1 =  0.6069528345724907 / err_2 =  0.6067562787407146\n",
      "c = 0.0001 / err_1 =  0.553125 / err_2 =  0.5552882914750619\n"
     ]
    }
   ],
   "source": [
    "for i in c:\n",
    "    res = get_score(df[['shot_distance', 'shot_type', 'iv_shot_type', 'game_time', 'location', 'playoffs']], y,\n",
    "         penalty='l1', c=i)\n",
    "    print('c =', i, '/ err_1 = ', res[0], '/ err_2 = ', res[1])"
   ]
  },
  {
   "cell_type": "markdown",
   "metadata": {},
   "source": [
    "**Построим** график коэффициентов при L1 регуляризации"
   ]
  },
  {
   "cell_type": "code",
   "execution_count": 56,
   "metadata": {},
   "outputs": [],
   "source": [
    "y = df['shot_made_flag']\n",
    "x = df[['shot_distance', 'shot_type', 'iv_shot_type', 'game_time', 'location', 'playoffs']]\n",
    "\n",
    "x_train, x_test, y_train, y_test = train_test_split(x, y, test_size=0.33, random_state = 42)"
   ]
  },
  {
   "cell_type": "code",
   "execution_count": 57,
   "metadata": {},
   "outputs": [],
   "source": [
    "lg = []\n",
    "pred = []\n",
    "arr=list(2**np.linspace(-20,20,100))"
   ]
  },
  {
   "cell_type": "code",
   "execution_count": 58,
   "metadata": {},
   "outputs": [],
   "source": [
    "for i in arr[::-1]:\n",
    "    model = LogisticRegression(penalty='l1', C=i, solver='liblinear')\n",
    "    model.fit(x_train, y_train)\n",
    "    lg.append(model)\n",
    "    pred.append(model.coef_)"
   ]
  },
  {
   "cell_type": "code",
   "execution_count": 59,
   "metadata": {},
   "outputs": [
    {
     "data": {
      "image/png": "[encoded data removed]",
      "text/plain": [
       "<Figure size 1008x432 with 1 Axes>"
      ]
     },
     "metadata": {
      "needs_background": "light"
     },
     "output_type": "display_data"
    }
   ],
   "source": [
    "plt.figure(figsize=[14,6])\n",
    "plt.title('График зануления признаков')\n",
    "x_l = np.linspace(0,len(pred),len(pred))\n",
    "for i in np.vstack(pred).T:\n",
    "    plt.plot(x_l,np.sign(i)*np.abs(i))  \n",
    "plt.grid() "
   ]
  },
  {
   "cell_type": "markdown",
   "metadata": {},
   "source": [
    "#### Ridge"
   ]
  },
  {
   "cell_type": "code",
   "execution_count": 60,
   "metadata": {
    "scrolled": true
   },
   "outputs": [
    {
     "name": "stdout",
     "output_type": "stream",
     "text": [
      "c = 0.1 / err_1 =  0.598983503717472 / err_2 =  0.597724324961679\n",
      "c = 0.01 / err_1 =  0.5973048327137547 / err_2 =  0.5964862634123336\n",
      "c = 0.001 / err_1 =  0.5969853624535316 / err_2 =  0.5963211885390874\n",
      "c = 0.0001 / err_1 =  0.5968633828996283 / err_2 =  0.5961561136658414\n"
     ]
    }
   ],
   "source": [
    "for i in c:\n",
    "    res = get_score(df[['shot_distance', 'shot_type', 'iv_shot_type', 'game_time', 'location', 'playoffs']], y,\n",
    "         penalty='l2', c=i)\n",
    "    print('c =', i, '/ err_1 = ', res[0], '/ err_2 = ', res[1])"
   ]
  },
  {
   "cell_type": "markdown",
   "metadata": {},
   "source": [
    "#### Построим Дерево решений, посмотрим степень важности признаков"
   ]
  },
  {
   "cell_type": "code",
   "execution_count": 61,
   "metadata": {},
   "outputs": [],
   "source": [
    "from sklearn.tree import DecisionTreeClassifier"
   ]
  },
  {
   "cell_type": "code",
   "execution_count": 62,
   "metadata": {},
   "outputs": [],
   "source": [
    "def get_tree_score(leaf=1):\n",
    "    model_tree = DecisionTreeClassifier(min_samples_leaf=leaf)\n",
    "    model_tree.fit(x_train, y_train)\n",
    "    err_1 = model_tree.score(x_train, y_train)\n",
    "    err_2 = model_tree.score(x_test, y_test)\n",
    "    return err_1, err_2"
   ]
  },
  {
   "cell_type": "code",
   "execution_count": 63,
   "metadata": {},
   "outputs": [],
   "source": [
    "all_err_1 = []\n",
    "all_err_2 = []\n",
    "\n",
    "for i in range(1, 100):\n",
    "    res = get_tree_score(leaf=i)\n",
    "    all_err_1.append(res[0])\n",
    "    all_err_2.append(res[1])    "
   ]
  },
  {
   "cell_type": "code",
   "execution_count": 64,
   "metadata": {
    "scrolled": false
   },
   "outputs": [
    {
     "data": {
      "image/png": "[encoded data removed]",
      "text/plain": [
       "<Figure size 432x288 with 1 Axes>"
      ]
     },
     "metadata": {
      "needs_background": "light"
     },
     "output_type": "display_data"
    }
   ],
   "source": [
    "ind = np.argmax(all_err_2)+1\n",
    "max_ = max(all_err_2)\n",
    "\n",
    "plt.plot(ind, max_, 'go')\n",
    "plt.plot(range(1,100), all_err_1)\n",
    "plt.plot(range(1,100), all_err_2)\n",
    "plt.title('Лучшее кол-во значений в листе')\n",
    "plt.show()"
   ]
  },
  {
   "cell_type": "code",
   "execution_count": 65,
   "metadata": {},
   "outputs": [
    {
     "data": {
      "text/plain": [
       "82"
      ]
     },
     "execution_count": 65,
     "metadata": {},
     "output_type": "execute_result"
    }
   ],
   "source": [
    "ind"
   ]
  },
  {
   "cell_type": "markdown",
   "metadata": {},
   "source": [
    "**Посмотрим** важность признаков на дереве с кол-вом листов 82"
   ]
  },
  {
   "cell_type": "code",
   "execution_count": 66,
   "metadata": {},
   "outputs": [
    {
     "data": {
      "text/plain": [
       "DecisionTreeClassifier(min_samples_leaf=82)"
      ]
     },
     "execution_count": 66,
     "metadata": {},
     "output_type": "execute_result"
    }
   ],
   "source": [
    "model_tree = DecisionTreeClassifier(min_samples_leaf=82)\n",
    "model_tree.fit(x_train, y_train)"
   ]
  },
  {
   "cell_type": "code",
   "execution_count": 67,
   "metadata": {},
   "outputs": [
    {
     "data": {
      "text/plain": [
       "array([0.05782751, 0.04881829, 0.58748318, 0.17698345, 0.1276339 ,\n",
       "       0.00125367])"
      ]
     },
     "execution_count": 67,
     "metadata": {},
     "output_type": "execute_result"
    }
   ],
   "source": [
    "model_tree.feature_importances_"
   ]
  },
  {
   "cell_type": "code",
   "execution_count": 68,
   "metadata": {
    "scrolled": true
   },
   "outputs": [
    {
     "data": {
      "image/png": "[encoded data removed]",
      "text/plain": [
       "<Figure size 432x288 with 1 Axes>"
      ]
     },
     "metadata": {
      "needs_background": "light"
     },
     "output_type": "display_data"
    }
   ],
   "source": [
    "plt.barh(np.arange(len(model_tree.feature_importances_)), model_tree.feature_importances_)\n",
    "plt.yticks(np.arange(len(x.columns)),x.columns)\n",
    "plt.title('Степень важности признаков')\n",
    "plt.show()"
   ]
  },
  {
   "cell_type": "markdown",
   "metadata": {},
   "source": [
    "#### Построим ROC AUC для Логистической регрессии с регуляризатором L1 и коэффициентом 0.001"
   ]
  },
  {
   "cell_type": "code",
   "execution_count": 69,
   "metadata": {},
   "outputs": [],
   "source": [
    "m = LogisticRegression(penalty='l1', C=0.001, solver='liblinear')\n",
    "m.fit(x_train, y_train)\n",
    "pred = m.predict(x_test)"
   ]
  },
  {
   "cell_type": "code",
   "execution_count": 70,
   "metadata": {},
   "outputs": [],
   "source": [
    "from sklearn.metrics import roc_curve, roc_auc_score\n",
    "fpr, tpr, threg = roc_curve(y_test, pred)"
   ]
  },
  {
   "cell_type": "code",
   "execution_count": 71,
   "metadata": {
    "scrolled": false
   },
   "outputs": [
    {
     "data": {
      "image/png": "[encoded data removed]",
      "text/plain": [
       "<Figure size 432x288 with 1 Axes>"
      ]
     },
     "metadata": {
      "needs_background": "light"
     },
     "output_type": "display_data"
    }
   ],
   "source": [
    "plt.plot(fpr, tpr)\n",
    "plt.title('ROC AUC')\n",
    "plt.show()"
   ]
  },
  {
   "cell_type": "markdown",
   "metadata": {},
   "source": [
    "**Площадь под кривой ROC AUC**"
   ]
  },
  {
   "cell_type": "code",
   "execution_count": 72,
   "metadata": {
    "scrolled": true
   },
   "outputs": [
    {
     "data": {
      "text/plain": [
       "0.5743838216880047"
      ]
     },
     "execution_count": 72,
     "metadata": {},
     "output_type": "execute_result"
    }
   ],
   "source": [
    "roc_auc_score(y_test, pred)"
   ]
  },
  {
   "cell_type": "markdown",
   "metadata": {},
   "source": [
    "### PCA"
   ]
  },
  {
   "cell_type": "code",
   "execution_count": 73,
   "metadata": {},
   "outputs": [],
   "source": [
    "from sklearn.decomposition import PCA\n",
    "from sklearn.preprocessing import StandardScaler"
   ]
  },
  {
   "cell_type": "code",
   "execution_count": 74,
   "metadata": {},
   "outputs": [],
   "source": [
    "def get_pca_score(x, y, scaler=False):\n",
    "    err_1_pca = []\n",
    "    err_2_pca = []\n",
    "    for i in range(1, len(x.columns)+1):\n",
    "        pca = PCA(n_components = i)\n",
    "        x_train, x_test, y_train, y_test = train_test_split(x, y, test_size=0.33, random_state = 42)\n",
    "        \n",
    "        if scaler == True:\n",
    "            scal = StandardScaler()\n",
    "            scal.fit(x_train)\n",
    "            x_train = scal.transform(x_train)\n",
    "            x_test = scal.transform(x_test)\n",
    "\n",
    "        pca.fit(x_train)\n",
    "        x_train = pca.transform(x_train)\n",
    "        x_test = pca.transform(x_test)\n",
    "\n",
    "        model = LogisticRegression(penalty='l1', C=i, solver='liblinear')\n",
    "        model.fit(x_train, y_train)\n",
    "\n",
    "        err_1_pca.append(model.score(x_train, y_train))\n",
    "        err_2_pca.append(model.score(x_test, y_test))\n",
    "    return (err_1_pca, err_2_pca)"
   ]
  },
  {
   "cell_type": "markdown",
   "metadata": {},
   "source": [
    "**Построим** график качества модели относительно кол-ва компонент PCA без стандартизации"
   ]
  },
  {
   "cell_type": "code",
   "execution_count": 75,
   "metadata": {},
   "outputs": [],
   "source": [
    "score_without_scale = get_pca_score(x,y)"
   ]
  },
  {
   "cell_type": "code",
   "execution_count": 76,
   "metadata": {
    "scrolled": true
   },
   "outputs": [
    {
     "data": {
      "image/png": "[encoded data removed]",
      "text/plain": [
       "<Figure size 432x288 with 1 Axes>"
      ]
     },
     "metadata": {
      "needs_background": "light"
     },
     "output_type": "display_data"
    }
   ],
   "source": [
    "plt.plot(range(1,7), score_without_scale[0])\n",
    "plt.plot(range(1,7), score_without_scale[1])\n",
    "plt.title('Качетво без стандартизации')\n",
    "plt.show()"
   ]
  },
  {
   "cell_type": "markdown",
   "metadata": {},
   "source": [
    "**Построим** график качества модели относительно кол-ва компонент PCA с стандартизацией"
   ]
  },
  {
   "cell_type": "code",
   "execution_count": 77,
   "metadata": {},
   "outputs": [],
   "source": [
    "score_with_scale = get_pca_score(x,y, scaler=True)"
   ]
  },
  {
   "cell_type": "code",
   "execution_count": 78,
   "metadata": {},
   "outputs": [
    {
     "data": {
      "image/png": "[encoded data removed]",
      "text/plain": [
       "<Figure size 432x288 with 1 Axes>"
      ]
     },
     "metadata": {
      "needs_background": "light"
     },
     "output_type": "display_data"
    }
   ],
   "source": [
    "plt.plot(range(1,7), score_with_scale[0])\n",
    "plt.plot(range(1,7), score_with_scale[1])\n",
    "plt.title('Качетво со стандартизацией')\n",
    "plt.show()"
   ]
  },
  {
   "cell_type": "markdown",
   "metadata": {},
   "source": [
    "#### Видим, что лучшее качетво получается с пятью компонентами PCA с стандартизацией"
   ]
  }
 ],
 "metadata": {
  "colab": {
   "name": "HW_Kobe.ipynb",
   "provenance": []
  },
  "kernelspec": {
   "display_name": "Python 3",
   "language": "python",
   "name": "python3"
  },
  "language_info": {
   "codemirror_mode": {
    "name": "ipython",
    "version": 3
   },
   "file_extension": ".py",
   "mimetype": "text/x-python",
   "name": "python",
   "nbconvert_exporter": "python",
   "pygments_lexer": "ipython3",
   "version": "3.9.0"
  }
 },
 "nbformat": 4,
 "nbformat_minor": 1
}
