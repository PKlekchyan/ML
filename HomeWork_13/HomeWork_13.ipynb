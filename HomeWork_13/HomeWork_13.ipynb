{
 "cells": [
  {
   "cell_type": "code",
   "execution_count": null,
   "id": "chemical-gender",
   "metadata": {},
   "outputs": [],
   "source": [
    "import numpy as np\n",
    "import pandas as pd\n",
    "import matplotlib.pyplot as plt\n",
    "\n",
    "import warnings\n",
    "warnings.filterwarnings('ignore')"
   ]
  },
  {
   "cell_type": "code",
   "execution_count": null,
   "id": "european-peeing",
   "metadata": {
    "scrolled": true
   },
   "outputs": [],
   "source": [
    "from sklearn.datasets import load_boston\n",
    "boston_dataset = load_boston()\n",
    "df = pd.DataFrame(boston_dataset.data, columns=boston_dataset.feature_names)\n",
    "df.head()"
   ]
  },
  {
   "cell_type": "code",
   "execution_count": null,
   "id": "sweet-progressive",
   "metadata": {},
   "outputs": [],
   "source": [
    "y = boston_dataset.target\n",
    "x = df"
   ]
  },
  {
   "cell_type": "code",
   "execution_count": null,
   "id": "protecting-protocol",
   "metadata": {},
   "outputs": [],
   "source": [
    "x1 = pd.get_dummies(x, columns=['RAD'])\n",
    "x2 = pd.get_dummies(x1, columns=['TAX'])"
   ]
  },
  {
   "cell_type": "code",
   "execution_count": null,
   "id": "choice-accident",
   "metadata": {},
   "outputs": [],
   "source": [
    "from sklearn.preprocessing import StandardScaler\n",
    "scaler = StandardScaler()"
   ]
  },
  {
   "cell_type": "code",
   "execution_count": null,
   "id": "anonymous-technique",
   "metadata": {},
   "outputs": [],
   "source": [
    "x_scal = scaler.fit_transform(x2)"
   ]
  },
  {
   "cell_type": "code",
   "execution_count": null,
   "id": "specific-surprise",
   "metadata": {},
   "outputs": [],
   "source": [
    "from sklearn.model_selection import train_test_split"
   ]
  },
  {
   "cell_type": "code",
   "execution_count": null,
   "id": "italian-black",
   "metadata": {},
   "outputs": [],
   "source": [
    "x_train, x_test, y_train, y_test = train_test_split(x_scal, y, test_size=0.3, random_state=42)"
   ]
  },
  {
   "cell_type": "code",
   "execution_count": null,
   "id": "elder-haiti",
   "metadata": {},
   "outputs": [],
   "source": [
    "from sklearn.linear_model import LinearRegression\n",
    "from sklearn.tree import DecisionTreeRegressor\n",
    "from sklearn.linear_model import Lasso\n",
    "from sklearn.linear_model import Ridge\n",
    "from sklearn.neighbors import KNeighborsRegressor\n",
    "from sklearn.ensemble import RandomForestRegressor\n",
    "from sklearn.ensemble import BaggingRegressor"
   ]
  },
  {
   "cell_type": "code",
   "execution_count": null,
   "id": "destroyed-expansion",
   "metadata": {},
   "outputs": [],
   "source": [
    "from scipy.stats import uniform"
   ]
  },
  {
   "cell_type": "code",
   "execution_count": null,
   "id": "dying-repeat",
   "metadata": {},
   "outputs": [],
   "source": [
    "from sklearn.model_selection import RandomizedSearchCV, GridSearchCV"
   ]
  },
  {
   "cell_type": "markdown",
   "id": "right-disabled",
   "metadata": {},
   "source": [
    "#### RandomizedSearchCV"
   ]
  },
  {
   "cell_type": "code",
   "execution_count": null,
   "id": "ranking-richmond",
   "metadata": {},
   "outputs": [],
   "source": [
    "models=[ \n",
    "      {'name':'Lr',\"model\": LinearRegression()  , 'params':{'fit_intercept':[True, False], 'normalize':[True, False]}},\n",
    "      {'name':'R',\"model\": Ridge(), 'params':{'alpha': uniform(loc=0, scale=4), 'solver':['svd', 'cholesky', 'lsqr', 'sparse_cg', 'sag', 'saga']}},\n",
    "      {'name':'L',\"model\": Lasso(), 'params':{'alpha': uniform(loc=0, scale=4), 'selection':['cyclic', 'random']}},\n",
    "      {'name':'RF',\"model\": RandomForestRegressor(), 'params':{'n_estimators':[10,25,50,100,150,200], 'criterion':['squared_error', 'absolute_error', 'poisson'], 'max_depth':[3,5,7,9,11]}},\n",
    "      {'name':'KN',\"model\": KNeighborsRegressor(), 'params':{'n_neighbors':list(range(1,30)),'weights': ['uniform', 'distance'], 'p':[1,2,3]}},\n",
    "      {'name':'DT',\"model\": DecisionTreeRegressor(), 'params':{'criterion':['squared_error', 'friedman_mse', 'absolute_error', 'poisson'], 'max_depth':[3,5,7,9,11]}},\n",
    "      {'name':'BR',\"model\": BaggingRegressor(), 'params':{'n_estimators':[10,25,50,100,150,200], 'max_samples':list(range(100, 1000, 10))}}\n",
    "]"
   ]
  },
  {
   "cell_type": "code",
   "execution_count": null,
   "id": "assumed-christianity",
   "metadata": {},
   "outputs": [],
   "source": [
    "res=[]\n",
    "for v in  models:\n",
    "    res.append((v['name'], RandomizedSearchCV(v['model'], v['params'], cv=10).fit(x_train, y_train)))"
   ]
  },
  {
   "cell_type": "code",
   "execution_count": null,
   "id": "happy-injection",
   "metadata": {
    "scrolled": true
   },
   "outputs": [],
   "source": [
    "for r in res:\n",
    "    print(r[0], r[1].best_score_, r[1].best_params_)"
   ]
  },
  {
   "cell_type": "code",
   "execution_count": null,
   "id": "robust-ethiopia",
   "metadata": {},
   "outputs": [],
   "source": [
    "best_model = res[3][1].best_estimator_"
   ]
  },
  {
   "cell_type": "code",
   "execution_count": null,
   "id": "hired-character",
   "metadata": {},
   "outputs": [],
   "source": [
    "y_pred = best_model.predict(x_test)\n",
    "best_model.score(x_test, y_test)"
   ]
  },
  {
   "cell_type": "markdown",
   "id": "black-david",
   "metadata": {},
   "source": [
    "#### Попробуем улучшить качество в лучших окрестнястях пространства гиперпараметров, которые показал RandomizedSearch, с помощью GridSearch"
   ]
  },
  {
   "cell_type": "markdown",
   "id": "based-inventory",
   "metadata": {},
   "source": [
    "Оставим только RandomForest и BaggingRegressor"
   ]
  },
  {
   "cell_type": "code",
   "execution_count": null,
   "id": "fifty-conversion",
   "metadata": {},
   "outputs": [],
   "source": [
    "models_2=[ \n",
    "      {'name':'RF',\"model\": RandomForestRegressor(), 'params':{'n_estimators':list(range(180, 220)), 'max_depth':list(range(9, 15))}},\n",
    "      {'name':'BR',\"model\": BaggingRegressor(), 'params':{'n_estimators':list(range(180, 220)), 'max_samples':list(range(200, 300))}}\n",
    "]"
   ]
  },
  {
   "cell_type": "markdown",
   "id": "classified-channels",
   "metadata": {},
   "source": [
    "#### GridSearchCV"
   ]
  },
  {
   "cell_type": "code",
   "execution_count": null,
   "id": "tight-memory",
   "metadata": {},
   "outputs": [],
   "source": [
    "# models_2=[ \n",
    "#       {'name':'Lr',\"model\": LinearRegression()  , 'params':{'fit_intercept':[True, False], 'normalize':[True, False]}},\n",
    "#       {'name':'R',\"model\": Ridge(), 'params':{'alpha': np.linspace(0, 2, 50), 'solver':['svd', 'cholesky', 'lsqr', 'sparse_cg', 'sag', 'saga']}},\n",
    "#       {'name':'L',\"model\": Lasso(), 'params':{'alpha': np.linspace(0, 2, 50), 'selection':['cyclic', 'random']}},\n",
    "#       {'name':'RF',\"model\": RandomForestRegressor(), 'params':{'n_estimators':[10,25,50,100,150,200], 'criterion':['squared_error', 'absolute_error', 'poisson'], 'max_depth':[3,5,7,9,11]}},\n",
    "#       {'name':'KN',\"model\": KNeighborsRegressor(), 'params':{'n_neighbors':list(range(1,30)),'weights': ['uniform', 'distance'], 'p':[1,2,3]}},\n",
    "#       {'name':'DT',\"model\": DecisionTreeRegressor(), 'params':{'criterion':['squared_error', 'friedman_mse', 'absolute_error', 'poisson'], 'max_depth':[3,5,7,9,11]}},\n",
    "#       {'name':'BR',\"model\": BaggingRegressor(), 'params':{'n_estimators':[10,25,50,100,150,200], 'max_samples':list(range(100, 1000, 10))}}\n",
    "# ]"
   ]
  },
  {
   "cell_type": "code",
   "execution_count": null,
   "id": "christian-hayes",
   "metadata": {},
   "outputs": [],
   "source": [
    "# res_2=[]\n",
    "# for v in  models_2:\n",
    "#     res_2.append((v['name'], GridSearchCV(v['model'], v['params'], cv=10).fit(x_train, y_train)))"
   ]
  },
  {
   "cell_type": "code",
   "execution_count": null,
   "id": "bizarre-intent",
   "metadata": {},
   "outputs": [],
   "source": [
    "# for r in res_2:\n",
    "#     print(r[0], r[1].best_score_, r[1].best_params_)"
   ]
  },
  {
   "cell_type": "code",
   "execution_count": null,
   "id": "similar-arbitration",
   "metadata": {},
   "outputs": [],
   "source": []
  }
 ],
 "metadata": {
  "kernelspec": {
   "display_name": "Python 3",
   "language": "python",
   "name": "python3"
  },
  "language_info": {
   "codemirror_mode": {
    "name": "ipython",
    "version": 3
   },
   "file_extension": ".py",
   "mimetype": "text/x-python",
   "name": "python",
   "nbconvert_exporter": "python",
   "pygments_lexer": "ipython3",
   "version": "3.9.0"
  }
 },
 "nbformat": 4,
 "nbformat_minor": 5
}
