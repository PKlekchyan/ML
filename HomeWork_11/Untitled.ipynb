{
 "cells": [
  {
   "cell_type": "code",
   "execution_count": 1,
   "id": "reflected-motor",
   "metadata": {},
   "outputs": [],
   "source": [
    "import numpy as np\n",
    "import pandas as pd\n",
    "from sklearn.feature_extraction.text import TfidfVectorizer, CountVectorizer\n",
    "import nltk\n",
    "from nltk.tokenize import sent_tokenize, word_tokenize\n",
    "from nltk.corpus import stopwords\n",
    "import pymorphy2\n",
    "import re"
   ]
  },
  {
   "cell_type": "code",
   "execution_count": 37,
   "id": "accessory-christmas",
   "metadata": {},
   "outputs": [],
   "source": [
    "arr = [[1, 'этот парень был как голубь'], [2, 'этот хлеб плохой'],\n",
    "       [2, 'плохой парень носит кепку'], [1, 'собака лежала на земле'],\n",
    "      [1, 'гора стояла на земле'], [2, 'вонючий мох рос на земле'], [1, 'этот парень был как голубь'], [2, 'этот хлеб плохой'],\n",
    "       [2, 'плохой парень носит кепку'], [1, 'собака лежала на земле'],\n",
    "      [1, 'гора стояла на земле'], [2, 'вонючий мох рос на земле']]"
   ]
  },
  {
   "cell_type": "code",
   "execution_count": 38,
   "id": "alert-harvard",
   "metadata": {},
   "outputs": [],
   "source": [
    "df = pd.DataFrame(arr, columns=['class', 'message'])"
   ]
  },
  {
   "cell_type": "code",
   "execution_count": 39,
   "id": "tough-organ",
   "metadata": {},
   "outputs": [
    {
     "data": {
      "text/html": [
       "<div>\n",
       "<style scoped>\n",
       "    .dataframe tbody tr th:only-of-type {\n",
       "        vertical-align: middle;\n",
       "    }\n",
       "\n",
       "    .dataframe tbody tr th {\n",
       "        vertical-align: top;\n",
       "    }\n",
       "\n",
       "    .dataframe thead th {\n",
       "        text-align: right;\n",
       "    }\n",
       "</style>\n",
       "<table border=\"1\" class=\"dataframe\">\n",
       "  <thead>\n",
       "    <tr style=\"text-align: right;\">\n",
       "      <th></th>\n",
       "      <th>class</th>\n",
       "      <th>message</th>\n",
       "    </tr>\n",
       "  </thead>\n",
       "  <tbody>\n",
       "    <tr>\n",
       "      <th>0</th>\n",
       "      <td>1</td>\n",
       "      <td>этот парень был как голубь</td>\n",
       "    </tr>\n",
       "    <tr>\n",
       "      <th>1</th>\n",
       "      <td>2</td>\n",
       "      <td>этот хлеб плохой</td>\n",
       "    </tr>\n",
       "    <tr>\n",
       "      <th>2</th>\n",
       "      <td>2</td>\n",
       "      <td>плохой парень носит кепку</td>\n",
       "    </tr>\n",
       "    <tr>\n",
       "      <th>3</th>\n",
       "      <td>1</td>\n",
       "      <td>собака лежала на земле</td>\n",
       "    </tr>\n",
       "    <tr>\n",
       "      <th>4</th>\n",
       "      <td>1</td>\n",
       "      <td>гора стояла на земле</td>\n",
       "    </tr>\n",
       "    <tr>\n",
       "      <th>5</th>\n",
       "      <td>2</td>\n",
       "      <td>вонючий мох рос на земле</td>\n",
       "    </tr>\n",
       "    <tr>\n",
       "      <th>6</th>\n",
       "      <td>1</td>\n",
       "      <td>этот парень был как голубь</td>\n",
       "    </tr>\n",
       "    <tr>\n",
       "      <th>7</th>\n",
       "      <td>2</td>\n",
       "      <td>этот хлеб плохой</td>\n",
       "    </tr>\n",
       "    <tr>\n",
       "      <th>8</th>\n",
       "      <td>2</td>\n",
       "      <td>плохой парень носит кепку</td>\n",
       "    </tr>\n",
       "    <tr>\n",
       "      <th>9</th>\n",
       "      <td>1</td>\n",
       "      <td>собака лежала на земле</td>\n",
       "    </tr>\n",
       "    <tr>\n",
       "      <th>10</th>\n",
       "      <td>1</td>\n",
       "      <td>гора стояла на земле</td>\n",
       "    </tr>\n",
       "    <tr>\n",
       "      <th>11</th>\n",
       "      <td>2</td>\n",
       "      <td>вонючий мох рос на земле</td>\n",
       "    </tr>\n",
       "  </tbody>\n",
       "</table>\n",
       "</div>"
      ],
      "text/plain": [
       "    class                     message\n",
       "0       1  этот парень был как голубь\n",
       "1       2            этот хлеб плохой\n",
       "2       2   плохой парень носит кепку\n",
       "3       1      собака лежала на земле\n",
       "4       1        гора стояла на земле\n",
       "5       2    вонючий мох рос на земле\n",
       "6       1  этот парень был как голубь\n",
       "7       2            этот хлеб плохой\n",
       "8       2   плохой парень носит кепку\n",
       "9       1      собака лежала на земле\n",
       "10      1        гора стояла на земле\n",
       "11      2    вонючий мох рос на земле"
      ]
     },
     "execution_count": 39,
     "metadata": {},
     "output_type": "execute_result"
    }
   ],
   "source": [
    "df"
   ]
  },
  {
   "cell_type": "markdown",
   "id": "ruled-reception",
   "metadata": {},
   "source": [
    "#### Проверяем, как работает TFIDF без Join датафрейма по классам"
   ]
  },
  {
   "cell_type": "code",
   "execution_count": 40,
   "id": "imperial-official",
   "metadata": {},
   "outputs": [],
   "source": [
    "vect = TfidfVectorizer()"
   ]
  },
  {
   "cell_type": "code",
   "execution_count": 41,
   "id": "italic-mozambique",
   "metadata": {},
   "outputs": [],
   "source": [
    "res = vect.fit_transform(df['message'])"
   ]
  },
  {
   "cell_type": "code",
   "execution_count": 42,
   "id": "angry-pixel",
   "metadata": {
    "scrolled": true
   },
   "outputs": [
    {
     "name": "stdout",
     "output_type": "stream",
     "text": [
      "[[0.         0.         0.         0.         0.         0.\n",
      "  0.55407656 0.         0.         0.         0.55407656 0.4393167\n",
      "  0.4393167  0.         0.         0.         0.         0.        ]]\n"
     ]
    }
   ],
   "source": [
    "print(res[2].todense())"
   ]
  },
  {
   "cell_type": "markdown",
   "id": "supreme-surgeon",
   "metadata": {},
   "source": [
    "#### Проверяем, как работает TFIDF с Join датафрейма по классам. ЭТОТ вариант правильный, тут мы, грубо говоря, создаем два документа для каждого класса и на основе этих двух документов уже считаем TFIDF"
   ]
  },
  {
   "cell_type": "code",
   "execution_count": 43,
   "id": "invisible-stanley",
   "metadata": {},
   "outputs": [],
   "source": [
    "df_corp = [ \" \".join(df[df['class'] == l]['message'].tolist()) for l in list(df['class'].unique())]"
   ]
  },
  {
   "cell_type": "code",
   "execution_count": 44,
   "id": "focused-transsexual",
   "metadata": {},
   "outputs": [
    {
     "data": {
      "text/plain": [
       "['этот парень был как голубь собака лежала на земле гора стояла на земле этот парень был как голубь собака лежала на земле гора стояла на земле',\n",
       " 'этот хлеб плохой плохой парень носит кепку вонючий мох рос на земле этот хлеб плохой плохой парень носит кепку вонючий мох рос на земле']"
      ]
     },
     "execution_count": 44,
     "metadata": {},
     "output_type": "execute_result"
    }
   ],
   "source": [
    "df_corp"
   ]
  },
  {
   "cell_type": "code",
   "execution_count": 45,
   "id": "hollywood-surname",
   "metadata": {},
   "outputs": [],
   "source": [
    "vect2 = TfidfVectorizer()"
   ]
  },
  {
   "cell_type": "code",
   "execution_count": 46,
   "id": "handmade-chamber",
   "metadata": {},
   "outputs": [
    {
     "data": {
      "text/plain": [
       "TfidfVectorizer()"
      ]
     },
     "execution_count": 46,
     "metadata": {},
     "output_type": "execute_result"
    }
   ],
   "source": [
    "vect2.fit(df_corp)"
   ]
  },
  {
   "cell_type": "code",
   "execution_count": 47,
   "id": "extraordinary-isaac",
   "metadata": {},
   "outputs": [],
   "source": [
    "res2 = vect.transform(df['message'])"
   ]
  },
  {
   "cell_type": "code",
   "execution_count": 48,
   "id": "lasting-reminder",
   "metadata": {
    "scrolled": true
   },
   "outputs": [
    {
     "name": "stdout",
     "output_type": "stream",
     "text": [
      "[[0.         0.         0.         0.         0.         0.\n",
      "  0.55407656 0.         0.         0.         0.55407656 0.4393167\n",
      "  0.4393167  0.         0.         0.         0.         0.        ]]\n"
     ]
    }
   ],
   "source": [
    "print(res2[2].todense())"
   ]
  },
  {
   "cell_type": "code",
   "execution_count": null,
   "id": "distinct-hybrid",
   "metadata": {},
   "outputs": [],
   "source": []
  }
 ],
 "metadata": {
  "kernelspec": {
   "display_name": "Python 3",
   "language": "python",
   "name": "python3"
  },
  "language_info": {
   "codemirror_mode": {
    "name": "ipython",
    "version": 3
   },
   "file_extension": ".py",
   "mimetype": "text/x-python",
   "name": "python",
   "nbconvert_exporter": "python",
   "pygments_lexer": "ipython3",
   "version": "3.9.0"
  }
 },
 "nbformat": 4,
 "nbformat_minor": 5
}
