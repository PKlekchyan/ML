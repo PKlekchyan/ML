{
 "cells": [
  {
   "cell_type": "code",
   "execution_count": 1,
   "id": "structured-element",
   "metadata": {},
   "outputs": [],
   "source": [
    "import numpy as np\n",
    "import pandas as pd\n",
    "import matplotlib.pyplot  as plt\n",
    "from sklearn.model_selection import train_test_split"
   ]
  },
  {
   "cell_type": "code",
   "execution_count": 2,
   "id": "extended-transcription",
   "metadata": {},
   "outputs": [],
   "source": [
    "import warnings\n",
    "warnings.filterwarnings('ignore')"
   ]
  },
  {
   "cell_type": "code",
   "execution_count": 3,
   "id": "capital-bonus",
   "metadata": {},
   "outputs": [],
   "source": [
    "df = pd.read_csv('train.csv', encoding='utf-8')"
   ]
  },
  {
   "cell_type": "code",
   "execution_count": 4,
   "id": "homeless-evanescence",
   "metadata": {},
   "outputs": [],
   "source": [
    "y = df['SalePrice']\n",
    "x = df.drop(columns='SalePrice')"
   ]
  },
  {
   "cell_type": "code",
   "execution_count": 5,
   "id": "included-labor",
   "metadata": {},
   "outputs": [],
   "source": [
    "#Находим категориальные признаки\n",
    "categ = list(x.dtypes[x.dtypes == object].index)\n",
    "\n",
    "#закодируем пропущенные значений строкой, факт пропущенного значения тоже может нести в себе информацию\n",
    "x[categ] = x[categ].fillna('nan')"
   ]
  },
  {
   "cell_type": "code",
   "execution_count": 6,
   "id": "color-chemical",
   "metadata": {},
   "outputs": [],
   "source": [
    "#отфильтруем непрерывные признаки\n",
    "integer = [f for f in x if f not in (categ + ['ID'])]"
   ]
  },
  {
   "cell_type": "code",
   "execution_count": 7,
   "id": "noble-backup",
   "metadata": {},
   "outputs": [],
   "source": [
    "# Создаем дамми-переменные для категорий\n",
    "x_dumn = pd.get_dummies(x[categ], columns=categ)\n",
    "\n",
    "# Заменяем пропуски на специальное значение -999, чтобы деревья могли их отличить\n",
    "X = pd.concat([x[integer].fillna(-999), x_dumn], axis=1)"
   ]
  },
  {
   "cell_type": "code",
   "execution_count": 8,
   "id": "described-newport",
   "metadata": {},
   "outputs": [],
   "source": [
    "x_train, x_test, y_train, y_test = train_test_split(X, y, test_size=0.30, random_state=12)"
   ]
  },
  {
   "cell_type": "markdown",
   "id": "fitted-collar",
   "metadata": {},
   "source": [
    "### RandomForest"
   ]
  },
  {
   "cell_type": "code",
   "execution_count": 9,
   "id": "backed-insight",
   "metadata": {},
   "outputs": [],
   "source": [
    "from sklearn.ensemble import RandomForestRegressor"
   ]
  },
  {
   "cell_type": "code",
   "execution_count": 10,
   "id": "billion-layout",
   "metadata": {},
   "outputs": [],
   "source": [
    "rfr = RandomForestRegressor()"
   ]
  },
  {
   "cell_type": "code",
   "execution_count": 11,
   "id": "applied-cabin",
   "metadata": {},
   "outputs": [
    {
     "data": {
      "text/plain": [
       "RandomForestRegressor()"
      ]
     },
     "execution_count": 11,
     "metadata": {},
     "output_type": "execute_result"
    }
   ],
   "source": [
    "rfr.fit(x_train, y_train)"
   ]
  },
  {
   "cell_type": "code",
   "execution_count": 12,
   "id": "global-arrangement",
   "metadata": {},
   "outputs": [
    {
     "data": {
      "text/plain": [
       "0.9822921213757555"
      ]
     },
     "execution_count": 12,
     "metadata": {},
     "output_type": "execute_result"
    }
   ],
   "source": [
    "rfr.score(x_train, y_train)"
   ]
  },
  {
   "cell_type": "code",
   "execution_count": 13,
   "id": "dependent-hydrogen",
   "metadata": {},
   "outputs": [
    {
     "data": {
      "text/plain": [
       "0.7889840622581761"
      ]
     },
     "execution_count": 13,
     "metadata": {},
     "output_type": "execute_result"
    }
   ],
   "source": [
    "rfr.score(x_test, y_test)"
   ]
  },
  {
   "cell_type": "markdown",
   "id": "brilliant-traffic",
   "metadata": {},
   "source": [
    "#### 10-fold кросс-валидация"
   ]
  },
  {
   "cell_type": "code",
   "execution_count": 14,
   "id": "beginning-check",
   "metadata": {},
   "outputs": [],
   "source": [
    "from sklearn.model_selection import cross_val_score"
   ]
  },
  {
   "cell_type": "code",
   "execution_count": 35,
   "id": "olympic-machine",
   "metadata": {},
   "outputs": [],
   "source": [
    "scores_dict = {}"
   ]
  },
  {
   "cell_type": "code",
   "execution_count": 15,
   "id": "failing-musician",
   "metadata": {},
   "outputs": [],
   "source": [
    "scores_rfr = cross_val_score(rfr, x_train, y_train, cv=10)"
   ]
  },
  {
   "cell_type": "code",
   "execution_count": 16,
   "id": "secondary-topic",
   "metadata": {},
   "outputs": [
    {
     "data": {
      "text/plain": [
       "0.8768648297949847"
      ]
     },
     "execution_count": 16,
     "metadata": {},
     "output_type": "execute_result"
    }
   ],
   "source": [
    "scores_rfr.mean()"
   ]
  },
  {
   "cell_type": "code",
   "execution_count": 36,
   "id": "voluntary-coral",
   "metadata": {},
   "outputs": [],
   "source": [
    "scores_dict['RandomForest'] = scores_rfr.mean()"
   ]
  },
  {
   "cell_type": "markdown",
   "id": "forced-clearing",
   "metadata": {},
   "source": [
    "#### Важность признаков"
   ]
  },
  {
   "cell_type": "code",
   "execution_count": 17,
   "id": "crucial-charleston",
   "metadata": {},
   "outputs": [],
   "source": [
    "signs = pd.Series(rfr.feature_importances_)"
   ]
  },
  {
   "cell_type": "code",
   "execution_count": 18,
   "id": "emerging-township",
   "metadata": {},
   "outputs": [],
   "source": [
    "signs.index = pd.Series(x_train.columns)"
   ]
  },
  {
   "cell_type": "code",
   "execution_count": 19,
   "id": "crazy-incentive",
   "metadata": {
    "scrolled": true
   },
   "outputs": [
    {
     "data": {
      "image/png": "[encoded data removed]",
      "text/plain": [
       "<Figure size 432x288 with 1 Axes>"
      ]
     },
     "metadata": {
      "needs_background": "light"
     },
     "output_type": "display_data"
    }
   ],
   "source": [
    "plt.bar(signs.sort_values(ascending=False).head().index, signs.sort_values(ascending=False).head())\n",
    "plt.title('Top 5 feature importances')\n",
    "plt.xlabel('Features')\n",
    "plt.ylabel('Gini')\n",
    "plt.show()"
   ]
  },
  {
   "cell_type": "markdown",
   "id": "alert-consensus",
   "metadata": {},
   "source": [
    "### Stacking"
   ]
  },
  {
   "cell_type": "code",
   "execution_count": 20,
   "id": "enabling-catalog",
   "metadata": {},
   "outputs": [],
   "source": [
    "from sklearn.ensemble import StackingRegressor\n",
    "from sklearn.linear_model import LinearRegression\n",
    "from sklearn.neighbors import KNeighborsRegressor\n",
    "from sklearn.tree import DecisionTreeRegressor\n",
    "from sklearn.linear_model import Ridge"
   ]
  },
  {
   "cell_type": "code",
   "execution_count": 21,
   "id": "humanitarian-arctic",
   "metadata": {},
   "outputs": [],
   "source": [
    "sr = StackingRegressor(\n",
    "    [\n",
    "        ('LinearRegression', LinearRegression()),\n",
    "        ('KNeighborsRegressor', KNeighborsRegressor()),\n",
    "        ('RandomForestRegressor', RandomForestRegressor())\n",
    "    ], Ridge())"
   ]
  },
  {
   "cell_type": "code",
   "execution_count": 22,
   "id": "saving-attitude",
   "metadata": {},
   "outputs": [
    {
     "data": {
      "text/plain": [
       "StackingRegressor(estimators=[('LinearRegression', LinearRegression()),\n",
       "                              ('KNeighborsRegressor', KNeighborsRegressor()),\n",
       "                              ('RandomForestRegressor',\n",
       "                               RandomForestRegressor())],\n",
       "                  final_estimator=Ridge())"
      ]
     },
     "execution_count": 22,
     "metadata": {},
     "output_type": "execute_result"
    }
   ],
   "source": [
    "sr.fit(x_train, y_train)"
   ]
  },
  {
   "cell_type": "code",
   "execution_count": 23,
   "id": "relevant-optimization",
   "metadata": {},
   "outputs": [
    {
     "data": {
      "text/plain": [
       "0.9824129884980164"
      ]
     },
     "execution_count": 23,
     "metadata": {},
     "output_type": "execute_result"
    }
   ],
   "source": [
    "sr.score(x_train, y_train)"
   ]
  },
  {
   "cell_type": "code",
   "execution_count": 24,
   "id": "sharp-launch",
   "metadata": {},
   "outputs": [
    {
     "data": {
      "text/plain": [
       "0.8214164454804737"
      ]
     },
     "execution_count": 24,
     "metadata": {},
     "output_type": "execute_result"
    }
   ],
   "source": [
    "sr.score(x_test, y_test)"
   ]
  },
  {
   "cell_type": "markdown",
   "id": "irish-january",
   "metadata": {},
   "source": [
    "#### 10-fold кросс-валидация"
   ]
  },
  {
   "cell_type": "code",
   "execution_count": 25,
   "id": "thick-bandwidth",
   "metadata": {},
   "outputs": [],
   "source": [
    "scores_sr = cross_val_score(sr, x_train, y_train, cv=10)"
   ]
  },
  {
   "cell_type": "code",
   "execution_count": 26,
   "id": "annoying-template",
   "metadata": {},
   "outputs": [
    {
     "data": {
      "text/plain": [
       "0.8832321524065037"
      ]
     },
     "execution_count": 26,
     "metadata": {},
     "output_type": "execute_result"
    }
   ],
   "source": [
    "scores_sr.mean()"
   ]
  },
  {
   "cell_type": "code",
   "execution_count": 37,
   "id": "chinese-excellence",
   "metadata": {
    "scrolled": true
   },
   "outputs": [],
   "source": [
    "scores_dict['Stacking'] = scores_sr.mean()"
   ]
  },
  {
   "cell_type": "markdown",
   "id": "lonely-belle",
   "metadata": {},
   "source": [
    "### Boosting"
   ]
  },
  {
   "cell_type": "code",
   "execution_count": 28,
   "id": "juvenile-keeping",
   "metadata": {},
   "outputs": [],
   "source": [
    "from lightgbm import LGBMRegressor"
   ]
  },
  {
   "cell_type": "code",
   "execution_count": 29,
   "id": "conscious-israeli",
   "metadata": {},
   "outputs": [
    {
     "data": {
      "text/plain": [
       "LGBMRegressor()"
      ]
     },
     "execution_count": 29,
     "metadata": {},
     "output_type": "execute_result"
    }
   ],
   "source": [
    "lgbm = LGBMRegressor()\n",
    "lgbm.fit(x_train, y_train)"
   ]
  },
  {
   "cell_type": "code",
   "execution_count": 31,
   "id": "acknowledged-physiology",
   "metadata": {},
   "outputs": [
    {
     "data": {
      "text/plain": [
       "0.9853464100295818"
      ]
     },
     "execution_count": 31,
     "metadata": {},
     "output_type": "execute_result"
    }
   ],
   "source": [
    "lgbm.score(x_train, y_train)"
   ]
  },
  {
   "cell_type": "code",
   "execution_count": 32,
   "id": "sensitive-connecticut",
   "metadata": {},
   "outputs": [
    {
     "data": {
      "text/plain": [
       "0.8135674230145974"
      ]
     },
     "execution_count": 32,
     "metadata": {},
     "output_type": "execute_result"
    }
   ],
   "source": [
    "lgbm.score(x_test, y_test)"
   ]
  },
  {
   "cell_type": "code",
   "execution_count": 33,
   "id": "polar-arthritis",
   "metadata": {},
   "outputs": [],
   "source": [
    "scores_lgbm = cross_val_score(sr, x_train, y_train, cv=10)"
   ]
  },
  {
   "cell_type": "code",
   "execution_count": 34,
   "id": "greek-liberal",
   "metadata": {},
   "outputs": [
    {
     "data": {
      "text/plain": [
       "0.883151175016132"
      ]
     },
     "execution_count": 34,
     "metadata": {},
     "output_type": "execute_result"
    }
   ],
   "source": [
    "scores_lgbm.mean()"
   ]
  },
  {
   "cell_type": "code",
   "execution_count": 38,
   "id": "stupid-marathon",
   "metadata": {},
   "outputs": [],
   "source": [
    "scores_dict['Boosting'] = scores_lgbm.mean()"
   ]
  },
  {
   "cell_type": "markdown",
   "id": "daily-thomson",
   "metadata": {},
   "source": [
    "### Базовые модели"
   ]
  },
  {
   "cell_type": "markdown",
   "id": "geological-tomato",
   "metadata": {},
   "source": [
    "#### DecisionTree"
   ]
  },
  {
   "cell_type": "code",
   "execution_count": 58,
   "id": "arctic-edgar",
   "metadata": {},
   "outputs": [
    {
     "data": {
      "text/plain": [
       "DecisionTreeRegressor(min_samples_leaf=10)"
      ]
     },
     "execution_count": 58,
     "metadata": {},
     "output_type": "execute_result"
    }
   ],
   "source": [
    "dt = DecisionTreeRegressor(min_samples_leaf = 10)\n",
    "dt.fit(x_train, y_train)"
   ]
  },
  {
   "cell_type": "code",
   "execution_count": 59,
   "id": "generous-worship",
   "metadata": {},
   "outputs": [
    {
     "data": {
      "text/plain": [
       "0.8883331853000398"
      ]
     },
     "execution_count": 59,
     "metadata": {},
     "output_type": "execute_result"
    }
   ],
   "source": [
    "dt.score(x_train, y_train)"
   ]
  },
  {
   "cell_type": "code",
   "execution_count": 60,
   "id": "studied-bruce",
   "metadata": {},
   "outputs": [
    {
     "data": {
      "text/plain": [
       "0.7527630868100444"
      ]
     },
     "execution_count": 60,
     "metadata": {},
     "output_type": "execute_result"
    }
   ],
   "source": [
    "dt.score(x_test, y_test)"
   ]
  },
  {
   "cell_type": "code",
   "execution_count": 61,
   "id": "convinced-reputation",
   "metadata": {},
   "outputs": [],
   "source": [
    "scores_dt = cross_val_score(dt, x_train, y_train, cv=10)"
   ]
  },
  {
   "cell_type": "code",
   "execution_count": 62,
   "id": "champion-comparative",
   "metadata": {},
   "outputs": [
    {
     "data": {
      "text/plain": [
       "0.766527826454318"
      ]
     },
     "execution_count": 62,
     "metadata": {},
     "output_type": "execute_result"
    }
   ],
   "source": [
    "scores_dt.mean()"
   ]
  },
  {
   "cell_type": "code",
   "execution_count": 63,
   "id": "funny-honey",
   "metadata": {},
   "outputs": [],
   "source": [
    "scores_dict['DecisionTree'] = scores_dt.mean()"
   ]
  },
  {
   "cell_type": "markdown",
   "id": "dense-median",
   "metadata": {},
   "source": [
    "#### KNeighborsRegressor"
   ]
  },
  {
   "cell_type": "code",
   "execution_count": 66,
   "id": "dietary-causing",
   "metadata": {},
   "outputs": [],
   "source": [
    "knr = KNeighborsRegressor()"
   ]
  },
  {
   "cell_type": "code",
   "execution_count": 67,
   "id": "attached-click",
   "metadata": {},
   "outputs": [
    {
     "data": {
      "text/plain": [
       "KNeighborsRegressor()"
      ]
     },
     "execution_count": 67,
     "metadata": {},
     "output_type": "execute_result"
    }
   ],
   "source": [
    "knr.fit(x_train, y_train)"
   ]
  },
  {
   "cell_type": "code",
   "execution_count": 68,
   "id": "trying-junction",
   "metadata": {},
   "outputs": [
    {
     "data": {
      "text/plain": [
       "0.7638359010471809"
      ]
     },
     "execution_count": 68,
     "metadata": {},
     "output_type": "execute_result"
    }
   ],
   "source": [
    "knr.score(x_train, y_train)"
   ]
  },
  {
   "cell_type": "code",
   "execution_count": 69,
   "id": "strong-ebony",
   "metadata": {},
   "outputs": [
    {
     "data": {
      "text/plain": [
       "0.6657478936067524"
      ]
     },
     "execution_count": 69,
     "metadata": {},
     "output_type": "execute_result"
    }
   ],
   "source": [
    "knr.score(x_test, y_test)"
   ]
  },
  {
   "cell_type": "code",
   "execution_count": 70,
   "id": "casual-rouge",
   "metadata": {},
   "outputs": [],
   "source": [
    "scores_knr = cross_val_score(knr, x_train, y_train, cv=10)"
   ]
  },
  {
   "cell_type": "code",
   "execution_count": 71,
   "id": "cubic-disease",
   "metadata": {},
   "outputs": [
    {
     "data": {
      "text/plain": [
       "0.6185234691156661"
      ]
     },
     "execution_count": 71,
     "metadata": {},
     "output_type": "execute_result"
    }
   ],
   "source": [
    "scores_knr.mean()"
   ]
  },
  {
   "cell_type": "code",
   "execution_count": 72,
   "id": "handed-graphics",
   "metadata": {},
   "outputs": [],
   "source": [
    "scores_dict['KNeighbors'] = scores_knr.mean()"
   ]
  },
  {
   "cell_type": "markdown",
   "id": "identified-rescue",
   "metadata": {},
   "source": [
    "### Сравнение ансамблей с базовыми моделями"
   ]
  },
  {
   "cell_type": "code",
   "execution_count": 79,
   "id": "stunning-kuwait",
   "metadata": {},
   "outputs": [
    {
     "data": {
      "image/png": "[encoded data removed]",
      "text/plain": [
       "<Figure size 432x288 with 1 Axes>"
      ]
     },
     "metadata": {
      "needs_background": "light"
     },
     "output_type": "display_data"
    }
   ],
   "source": [
    "plt.plot([i for i in scores_dict.keys()], [i for i in scores_dict.values()])\n",
    "plt.grid()\n",
    "plt.show()"
   ]
  }
 ],
 "metadata": {
  "kernelspec": {
   "display_name": "Python 3",
   "language": "python",
   "name": "python3"
  },
  "language_info": {
   "codemirror_mode": {
    "name": "ipython",
    "version": 3
   },
   "file_extension": ".py",
   "mimetype": "text/x-python",
   "name": "python",
   "nbconvert_exporter": "python",
   "pygments_lexer": "ipython3",
   "version": "3.9.0"
  }
 },
 "nbformat": 4,
 "nbformat_minor": 5
}
