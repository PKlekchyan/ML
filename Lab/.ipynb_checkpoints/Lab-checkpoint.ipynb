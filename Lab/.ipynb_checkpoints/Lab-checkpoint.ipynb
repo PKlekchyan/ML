{
 "cells": [
  {
   "cell_type": "code",
   "execution_count": 1,
   "id": "current-museum",
   "metadata": {},
   "outputs": [],
   "source": [
    "import numpy as np\n",
    "import pandas as pd\n",
    "import matplotlib.pyplot as plt\n",
    "\n",
    "import warnings\n",
    "warnings.filterwarnings('ignore')"
   ]
  },
  {
   "cell_type": "markdown",
   "id": "indirect-result",
   "metadata": {},
   "source": [
    "##### 1. name: Name of the country concerned\n",
    "2. landmass: 1=N.America, 2=S.America, 3=Europe, 4=Africa, 5=Asia, 6=Oceania\n",
    "3. zone: Geographic quadrant, based on Greenwich and the Equator; 1=NE, 2=SE, 3=SW, 4=NW\n",
    "4. area: in thousands of square km\n",
    "5. population: in round millions\n",
    "6. language: 1=English, 2=Spanish, 3=French, 4=German, 5=Slavic, 6=Other Indo-European, 7=Chinese, 8=Arabic, 9=Japanese/Turkish/Finnish/Magyar, 10=Others\n",
    "7. religion: 0=Catholic, 1=Other Christian, 2=Muslim, 3=Buddhist, 4=Hindu, 5=Ethnic, 6=Marxist, 7=Others\n",
    "8. bars: Number of vertical bars in the flag\n",
    "9. stripes: Number of horizontal stripes in the flag\n",
    "10. colours: Number of different colours in the flag\n",
    "11. red: 0 if red absent, 1 if red present in the flag\n",
    "12. green: same for green\n",
    "13. blue: same for blue\n",
    "14. gold: same for gold (also yellow)\n",
    "15. white: same for white\n",
    "16. black: same for black\n",
    "17. orange: same for orange (also brown)\n",
    "18. mainhue: predominant colour in the flag (tie-breaks decided by taking the topmost hue, if that fails then the most central hue, and if that fails the leftmost hue)\n",
    "19. circles: Number of circles in the flag\n",
    "20. crosses: Number of (upright) crosses\n",
    "21. saltires: Number of diagonal crosses\n",
    "22. quarters: Number of quartered sections\n",
    "23. sunstars: Number of sun or star symbols\n",
    "24. crescent: 1 if a crescent moon symbol present, else 0\n",
    "25. triangle: 1 if any triangles present, 0 otherwise\n",
    "26. icon: 1 if an inanimate image present (e.g., a boat), otherwise 0\n",
    "27. animate: 1 if an animate image (e.g., an eagle, a tree, a human hand) present, 0 otherwise\n",
    "28. text: 1 if any letters or writing on the flag (e.g., a motto or slogan), 0 otherwise\n",
    "29. topleft: colour in the top-left corner (moving right to decide tie-breaks)\n",
    "30. botright: Colour in the bottom-left corner (moving left to decide tie-breaks)"
   ]
  },
  {
   "cell_type": "code",
   "execution_count": 17,
   "id": "designed-joseph",
   "metadata": {},
   "outputs": [],
   "source": [
    "names = ['name', 'landmass', 'zone', 'area', 'population', 'language', 'religion', 'bars', 'stripes', 'colours', 'red',\n",
    "        'green', 'blue', 'gold', 'white', 'black', 'orange', 'mainhue', 'circles', 'crosses', 'saltires', 'quarters', 'sunstars',\n",
    "        'crescent', 'triangle', 'icon', 'animate', 'text', 'topleft', 'botright']\n",
    "df = pd.read_csv('flag.data', names=names)"
   ]
  },
  {
   "cell_type": "code",
   "execution_count": 50,
   "id": "lightweight-radius",
   "metadata": {
    "scrolled": true
   },
   "outputs": [
    {
     "data": {
      "text/html": [
       "<div>\n",
       "<style scoped>\n",
       "    .dataframe tbody tr th:only-of-type {\n",
       "        vertical-align: middle;\n",
       "    }\n",
       "\n",
       "    .dataframe tbody tr th {\n",
       "        vertical-align: top;\n",
       "    }\n",
       "\n",
       "    .dataframe thead th {\n",
       "        text-align: right;\n",
       "    }\n",
       "</style>\n",
       "<table border=\"1\" class=\"dataframe\">\n",
       "  <thead>\n",
       "    <tr style=\"text-align: right;\">\n",
       "      <th></th>\n",
       "      <th>name</th>\n",
       "      <th>landmass</th>\n",
       "      <th>zone</th>\n",
       "      <th>area</th>\n",
       "      <th>population</th>\n",
       "      <th>language</th>\n",
       "      <th>religion</th>\n",
       "      <th>bars</th>\n",
       "      <th>stripes</th>\n",
       "      <th>colours</th>\n",
       "      <th>...</th>\n",
       "      <th>saltires</th>\n",
       "      <th>quarters</th>\n",
       "      <th>sunstars</th>\n",
       "      <th>crescent</th>\n",
       "      <th>triangle</th>\n",
       "      <th>icon</th>\n",
       "      <th>animate</th>\n",
       "      <th>text</th>\n",
       "      <th>topleft</th>\n",
       "      <th>botright</th>\n",
       "    </tr>\n",
       "  </thead>\n",
       "  <tbody>\n",
       "    <tr>\n",
       "      <th>0</th>\n",
       "      <td>Afghanistan</td>\n",
       "      <td>5</td>\n",
       "      <td>1</td>\n",
       "      <td>648</td>\n",
       "      <td>16</td>\n",
       "      <td>10</td>\n",
       "      <td>2</td>\n",
       "      <td>0</td>\n",
       "      <td>3</td>\n",
       "      <td>5</td>\n",
       "      <td>...</td>\n",
       "      <td>0</td>\n",
       "      <td>0</td>\n",
       "      <td>1</td>\n",
       "      <td>0</td>\n",
       "      <td>0</td>\n",
       "      <td>1</td>\n",
       "      <td>0</td>\n",
       "      <td>0</td>\n",
       "      <td>black</td>\n",
       "      <td>green</td>\n",
       "    </tr>\n",
       "    <tr>\n",
       "      <th>1</th>\n",
       "      <td>Albania</td>\n",
       "      <td>3</td>\n",
       "      <td>1</td>\n",
       "      <td>29</td>\n",
       "      <td>3</td>\n",
       "      <td>6</td>\n",
       "      <td>6</td>\n",
       "      <td>0</td>\n",
       "      <td>0</td>\n",
       "      <td>3</td>\n",
       "      <td>...</td>\n",
       "      <td>0</td>\n",
       "      <td>0</td>\n",
       "      <td>1</td>\n",
       "      <td>0</td>\n",
       "      <td>0</td>\n",
       "      <td>0</td>\n",
       "      <td>1</td>\n",
       "      <td>0</td>\n",
       "      <td>red</td>\n",
       "      <td>red</td>\n",
       "    </tr>\n",
       "    <tr>\n",
       "      <th>2</th>\n",
       "      <td>Algeria</td>\n",
       "      <td>4</td>\n",
       "      <td>1</td>\n",
       "      <td>2388</td>\n",
       "      <td>20</td>\n",
       "      <td>8</td>\n",
       "      <td>2</td>\n",
       "      <td>2</td>\n",
       "      <td>0</td>\n",
       "      <td>3</td>\n",
       "      <td>...</td>\n",
       "      <td>0</td>\n",
       "      <td>0</td>\n",
       "      <td>1</td>\n",
       "      <td>1</td>\n",
       "      <td>0</td>\n",
       "      <td>0</td>\n",
       "      <td>0</td>\n",
       "      <td>0</td>\n",
       "      <td>green</td>\n",
       "      <td>white</td>\n",
       "    </tr>\n",
       "    <tr>\n",
       "      <th>3</th>\n",
       "      <td>American-Samoa</td>\n",
       "      <td>6</td>\n",
       "      <td>3</td>\n",
       "      <td>0</td>\n",
       "      <td>0</td>\n",
       "      <td>1</td>\n",
       "      <td>1</td>\n",
       "      <td>0</td>\n",
       "      <td>0</td>\n",
       "      <td>5</td>\n",
       "      <td>...</td>\n",
       "      <td>0</td>\n",
       "      <td>0</td>\n",
       "      <td>0</td>\n",
       "      <td>0</td>\n",
       "      <td>1</td>\n",
       "      <td>1</td>\n",
       "      <td>1</td>\n",
       "      <td>0</td>\n",
       "      <td>blue</td>\n",
       "      <td>red</td>\n",
       "    </tr>\n",
       "    <tr>\n",
       "      <th>4</th>\n",
       "      <td>Andorra</td>\n",
       "      <td>3</td>\n",
       "      <td>1</td>\n",
       "      <td>0</td>\n",
       "      <td>0</td>\n",
       "      <td>6</td>\n",
       "      <td>0</td>\n",
       "      <td>3</td>\n",
       "      <td>0</td>\n",
       "      <td>3</td>\n",
       "      <td>...</td>\n",
       "      <td>0</td>\n",
       "      <td>0</td>\n",
       "      <td>0</td>\n",
       "      <td>0</td>\n",
       "      <td>0</td>\n",
       "      <td>0</td>\n",
       "      <td>0</td>\n",
       "      <td>0</td>\n",
       "      <td>blue</td>\n",
       "      <td>red</td>\n",
       "    </tr>\n",
       "  </tbody>\n",
       "</table>\n",
       "<p>5 rows × 30 columns</p>\n",
       "</div>"
      ],
      "text/plain": [
       "             name  landmass  zone  area  population  language  religion  bars  \\\n",
       "0     Afghanistan         5     1   648          16        10         2     0   \n",
       "1         Albania         3     1    29           3         6         6     0   \n",
       "2         Algeria         4     1  2388          20         8         2     2   \n",
       "3  American-Samoa         6     3     0           0         1         1     0   \n",
       "4         Andorra         3     1     0           0         6         0     3   \n",
       "\n",
       "   stripes  colours  ...  saltires  quarters  sunstars  crescent  triangle  \\\n",
       "0        3        5  ...         0         0         1         0         0   \n",
       "1        0        3  ...         0         0         1         0         0   \n",
       "2        0        3  ...         0         0         1         1         0   \n",
       "3        0        5  ...         0         0         0         0         1   \n",
       "4        0        3  ...         0         0         0         0         0   \n",
       "\n",
       "   icon  animate text  topleft  botright  \n",
       "0     1        0    0    black     green  \n",
       "1     0        1    0      red       red  \n",
       "2     0        0    0    green     white  \n",
       "3     1        1    0     blue       red  \n",
       "4     0        0    0     blue       red  \n",
       "\n",
       "[5 rows x 30 columns]"
      ]
     },
     "execution_count": 50,
     "metadata": {},
     "output_type": "execute_result"
    }
   ],
   "source": [
    "df.head()"
   ]
  },
  {
   "cell_type": "markdown",
   "id": "french-leader",
   "metadata": {},
   "source": [
    "### 2. Описательный анализ"
   ]
  },
  {
   "cell_type": "code",
   "execution_count": 52,
   "id": "neural-topic",
   "metadata": {
    "scrolled": false
   },
   "outputs": [
    {
     "name": "stdout",
     "output_type": "stream",
     "text": [
      "<class 'pandas.core.frame.DataFrame'>\n",
      "RangeIndex: 194 entries, 0 to 193\n",
      "Data columns (total 30 columns):\n",
      " #   Column      Non-Null Count  Dtype \n",
      "---  ------      --------------  ----- \n",
      " 0   name        194 non-null    object\n",
      " 1   landmass    194 non-null    int64 \n",
      " 2   zone        194 non-null    int64 \n",
      " 3   area        194 non-null    int64 \n",
      " 4   population  194 non-null    int64 \n",
      " 5   language    194 non-null    int64 \n",
      " 6   religion    194 non-null    int64 \n",
      " 7   bars        194 non-null    int64 \n",
      " 8   stripes     194 non-null    int64 \n",
      " 9   colours     194 non-null    int64 \n",
      " 10  red         194 non-null    int64 \n",
      " 11  green       194 non-null    int64 \n",
      " 12  blue        194 non-null    int64 \n",
      " 13  gold        194 non-null    int64 \n",
      " 14  white       194 non-null    int64 \n",
      " 15  black       194 non-null    int64 \n",
      " 16  orange      194 non-null    int64 \n",
      " 17  mainhue     194 non-null    object\n",
      " 18  circles     194 non-null    int64 \n",
      " 19  crosses     194 non-null    int64 \n",
      " 20  saltires    194 non-null    int64 \n",
      " 21  quarters    194 non-null    int64 \n",
      " 22  sunstars    194 non-null    int64 \n",
      " 23  crescent    194 non-null    int64 \n",
      " 24  triangle    194 non-null    int64 \n",
      " 25  icon        194 non-null    int64 \n",
      " 26  animate     194 non-null    int64 \n",
      " 27  text        194 non-null    int64 \n",
      " 28  topleft     194 non-null    object\n",
      " 29  botright    194 non-null    object\n",
      "dtypes: int64(26), object(4)\n",
      "memory usage: 45.6+ KB\n"
     ]
    }
   ],
   "source": [
    "df.info()"
   ]
  },
  {
   "cell_type": "markdown",
   "id": "prepared-tourist",
   "metadata": {},
   "source": [
    "1. Пропусков в данном dataset нет\n",
    "2. 29 столбцов, в 4х из них категориальные переменные\n"
   ]
  },
  {
   "cell_type": "code",
   "execution_count": 213,
   "id": "ready-nigeria",
   "metadata": {},
   "outputs": [
    {
     "data": {
      "text/plain": [
       "1    60\n",
       "0    40\n",
       "2    36\n",
       "5    27\n",
       "6    15\n",
       "3     8\n",
       "4     4\n",
       "7     4\n",
       "Name: religion, dtype: int64"
      ]
     },
     "execution_count": 213,
     "metadata": {},
     "output_type": "execute_result"
    }
   ],
   "source": [
    "df['religion'].value_counts()"
   ]
  },
  {
   "cell_type": "markdown",
   "id": "purple-tuning",
   "metadata": {},
   "source": [
    "### 3. "
   ]
  },
  {
   "cell_type": "markdown",
   "id": "continental-suspension",
   "metadata": {},
   "source": [
    "Столбец Name для обучения модели будет убран, он не несет в себе важную информацию"
   ]
  },
  {
   "cell_type": "code",
   "execution_count": 57,
   "id": "french-lingerie",
   "metadata": {},
   "outputs": [
    {
     "data": {
      "text/plain": [
       "red       71\n",
       "blue      40\n",
       "green     31\n",
       "white     22\n",
       "gold      19\n",
       "black      5\n",
       "orange     4\n",
       "brown      2\n",
       "Name: mainhue, dtype: int64"
      ]
     },
     "execution_count": 57,
     "metadata": {},
     "output_type": "execute_result"
    }
   ],
   "source": [
    "df['mainhue'].value_counts()"
   ]
  },
  {
   "cell_type": "code",
   "execution_count": 58,
   "id": "typical-harris",
   "metadata": {},
   "outputs": [
    {
     "data": {
      "text/plain": [
       "red       56\n",
       "blue      43\n",
       "white     41\n",
       "green     32\n",
       "black     12\n",
       "gold       6\n",
       "orange     4\n",
       "Name: topleft, dtype: int64"
      ]
     },
     "execution_count": 58,
     "metadata": {},
     "output_type": "execute_result"
    }
   ],
   "source": [
    "df['topleft'].value_counts()"
   ]
  },
  {
   "cell_type": "code",
   "execution_count": 59,
   "id": "egyptian-double",
   "metadata": {},
   "outputs": [
    {
     "data": {
      "text/plain": [
       "red       69\n",
       "blue      47\n",
       "green     40\n",
       "white     17\n",
       "black      9\n",
       "gold       9\n",
       "brown      2\n",
       "orange     1\n",
       "Name: botright, dtype: int64"
      ]
     },
     "execution_count": 59,
     "metadata": {},
     "output_type": "execute_result"
    }
   ],
   "source": [
    "df['botright'].value_counts()"
   ]
  },
  {
   "cell_type": "markdown",
   "id": "increased-longitude",
   "metadata": {},
   "source": [
    "В трех категориальных столбцах находится не так много различных значений, данные значения мы изменим LabelEncoder. К тому же у нас уже существуют столбцы с названиями цветом, поэтому использование OneHotEncoder приведет к дублированию значений"
   ]
  },
  {
   "cell_type": "code",
   "execution_count": 62,
   "id": "excessive-newsletter",
   "metadata": {},
   "outputs": [],
   "source": [
    "color_val = {'red': 1, 'blue': 2, 'green':3, 'white':4, 'black':5, 'gold':6, 'brown':7, 'orange':8}"
   ]
  },
  {
   "cell_type": "code",
   "execution_count": 63,
   "id": "guilty-handle",
   "metadata": {},
   "outputs": [],
   "source": [
    "def change_colour(param):\n",
    "    return color_val[param]"
   ]
  },
  {
   "cell_type": "code",
   "execution_count": 64,
   "id": "outside-corruption",
   "metadata": {},
   "outputs": [],
   "source": [
    "df['mainhue_le'] = df['mainhue'].apply(change_colour)\n",
    "df['topleft_le'] = df['topleft'].apply(change_colour)\n",
    "df['botright_le'] = df['botright'].apply(change_colour)"
   ]
  },
  {
   "cell_type": "markdown",
   "id": "postal-protest",
   "metadata": {},
   "source": [
    "### 4. Провести углубленный анализ данных (корреляции переменных, визуализация взаимосвязей)"
   ]
  },
  {
   "cell_type": "code",
   "execution_count": 21,
   "id": "wrapped-underground",
   "metadata": {},
   "outputs": [],
   "source": [
    "import seaborn as sns"
   ]
  },
  {
   "cell_type": "code",
   "execution_count": 66,
   "id": "popular-default",
   "metadata": {},
   "outputs": [],
   "source": [
    "religion_corr = df.corr().loc['religion',:]"
   ]
  },
  {
   "cell_type": "code",
   "execution_count": 88,
   "id": "current-catalyst",
   "metadata": {},
   "outputs": [
    {
     "data": {
      "text/html": [
       "<div>\n",
       "<style scoped>\n",
       "    .dataframe tbody tr th:only-of-type {\n",
       "        vertical-align: middle;\n",
       "    }\n",
       "\n",
       "    .dataframe tbody tr th {\n",
       "        vertical-align: top;\n",
       "    }\n",
       "\n",
       "    .dataframe thead th {\n",
       "        text-align: right;\n",
       "    }\n",
       "</style>\n",
       "<table border=\"1\" class=\"dataframe\">\n",
       "  <thead>\n",
       "    <tr style=\"text-align: right;\">\n",
       "      <th></th>\n",
       "      <th>column</th>\n",
       "      <th>corr</th>\n",
       "    </tr>\n",
       "  </thead>\n",
       "  <tbody>\n",
       "    <tr>\n",
       "      <th>0</th>\n",
       "      <td>landmass</td>\n",
       "      <td>0.325073</td>\n",
       "    </tr>\n",
       "    <tr>\n",
       "      <th>1</th>\n",
       "      <td>zone</td>\n",
       "      <td>-0.320537</td>\n",
       "    </tr>\n",
       "    <tr>\n",
       "      <th>2</th>\n",
       "      <td>area</td>\n",
       "      <td>0.087941</td>\n",
       "    </tr>\n",
       "    <tr>\n",
       "      <th>3</th>\n",
       "      <td>population</td>\n",
       "      <td>0.172731</td>\n",
       "    </tr>\n",
       "    <tr>\n",
       "      <th>4</th>\n",
       "      <td>language</td>\n",
       "      <td>0.422315</td>\n",
       "    </tr>\n",
       "    <tr>\n",
       "      <th>5</th>\n",
       "      <td>religion</td>\n",
       "      <td>1.000000</td>\n",
       "    </tr>\n",
       "    <tr>\n",
       "      <th>6</th>\n",
       "      <td>bars</td>\n",
       "      <td>-0.060000</td>\n",
       "    </tr>\n",
       "    <tr>\n",
       "      <th>7</th>\n",
       "      <td>stripes</td>\n",
       "      <td>0.103222</td>\n",
       "    </tr>\n",
       "    <tr>\n",
       "      <th>8</th>\n",
       "      <td>colours</td>\n",
       "      <td>-0.017720</td>\n",
       "    </tr>\n",
       "    <tr>\n",
       "      <th>9</th>\n",
       "      <td>red</td>\n",
       "      <td>0.121721</td>\n",
       "    </tr>\n",
       "    <tr>\n",
       "      <th>10</th>\n",
       "      <td>green</td>\n",
       "      <td>0.128843</td>\n",
       "    </tr>\n",
       "    <tr>\n",
       "      <th>11</th>\n",
       "      <td>blue</td>\n",
       "      <td>-0.154891</td>\n",
       "    </tr>\n",
       "    <tr>\n",
       "      <th>12</th>\n",
       "      <td>gold</td>\n",
       "      <td>0.023334</td>\n",
       "    </tr>\n",
       "    <tr>\n",
       "      <th>13</th>\n",
       "      <td>white</td>\n",
       "      <td>-0.167605</td>\n",
       "    </tr>\n",
       "    <tr>\n",
       "      <th>14</th>\n",
       "      <td>black</td>\n",
       "      <td>0.074055</td>\n",
       "    </tr>\n",
       "    <tr>\n",
       "      <th>15</th>\n",
       "      <td>orange</td>\n",
       "      <td>-0.051215</td>\n",
       "    </tr>\n",
       "    <tr>\n",
       "      <th>16</th>\n",
       "      <td>circles</td>\n",
       "      <td>0.123260</td>\n",
       "    </tr>\n",
       "    <tr>\n",
       "      <th>17</th>\n",
       "      <td>crosses</td>\n",
       "      <td>-0.225238</td>\n",
       "    </tr>\n",
       "    <tr>\n",
       "      <th>18</th>\n",
       "      <td>saltires</td>\n",
       "      <td>-0.133373</td>\n",
       "    </tr>\n",
       "    <tr>\n",
       "      <th>19</th>\n",
       "      <td>quarters</td>\n",
       "      <td>-0.135713</td>\n",
       "    </tr>\n",
       "    <tr>\n",
       "      <th>20</th>\n",
       "      <td>sunstars</td>\n",
       "      <td>-0.075081</td>\n",
       "    </tr>\n",
       "    <tr>\n",
       "      <th>21</th>\n",
       "      <td>crescent</td>\n",
       "      <td>0.053145</td>\n",
       "    </tr>\n",
       "    <tr>\n",
       "      <th>22</th>\n",
       "      <td>triangle</td>\n",
       "      <td>0.056868</td>\n",
       "    </tr>\n",
       "    <tr>\n",
       "      <th>23</th>\n",
       "      <td>icon</td>\n",
       "      <td>0.055714</td>\n",
       "    </tr>\n",
       "    <tr>\n",
       "      <th>24</th>\n",
       "      <td>animate</td>\n",
       "      <td>-0.002741</td>\n",
       "    </tr>\n",
       "    <tr>\n",
       "      <th>25</th>\n",
       "      <td>text</td>\n",
       "      <td>-0.055158</td>\n",
       "    </tr>\n",
       "    <tr>\n",
       "      <th>26</th>\n",
       "      <td>mainhue_le</td>\n",
       "      <td>0.025254</td>\n",
       "    </tr>\n",
       "    <tr>\n",
       "      <th>27</th>\n",
       "      <td>topleft_le</td>\n",
       "      <td>-0.092640</td>\n",
       "    </tr>\n",
       "    <tr>\n",
       "      <th>28</th>\n",
       "      <td>botright_le</td>\n",
       "      <td>0.098564</td>\n",
       "    </tr>\n",
       "  </tbody>\n",
       "</table>\n",
       "</div>"
      ],
      "text/plain": [
       "         column      corr\n",
       "0      landmass  0.325073\n",
       "1          zone -0.320537\n",
       "2          area  0.087941\n",
       "3    population  0.172731\n",
       "4      language  0.422315\n",
       "5      religion  1.000000\n",
       "6          bars -0.060000\n",
       "7       stripes  0.103222\n",
       "8       colours -0.017720\n",
       "9           red  0.121721\n",
       "10        green  0.128843\n",
       "11         blue -0.154891\n",
       "12         gold  0.023334\n",
       "13        white -0.167605\n",
       "14        black  0.074055\n",
       "15       orange -0.051215\n",
       "16      circles  0.123260\n",
       "17      crosses -0.225238\n",
       "18     saltires -0.133373\n",
       "19     quarters -0.135713\n",
       "20     sunstars -0.075081\n",
       "21     crescent  0.053145\n",
       "22     triangle  0.056868\n",
       "23         icon  0.055714\n",
       "24      animate -0.002741\n",
       "25         text -0.055158\n",
       "26   mainhue_le  0.025254\n",
       "27   topleft_le -0.092640\n",
       "28  botright_le  0.098564"
      ]
     },
     "execution_count": 88,
     "metadata": {},
     "output_type": "execute_result"
    }
   ],
   "source": [
    "df_corr = pd.DataFrame(religion_corr).reset_index().rename(columns={'index':'column', 'religion':'corr'})\n",
    "df_corr"
   ]
  },
  {
   "cell_type": "markdown",
   "id": "distinct-context",
   "metadata": {},
   "source": [
    "Посмотрим параметры, у которых корреляция с целевой переменной больше 0.1 по модулю"
   ]
  },
  {
   "cell_type": "code",
   "execution_count": 99,
   "id": "superb-attraction",
   "metadata": {
    "scrolled": false
   },
   "outputs": [
    {
     "data": {
      "text/html": [
       "<div>\n",
       "<style scoped>\n",
       "    .dataframe tbody tr th:only-of-type {\n",
       "        vertical-align: middle;\n",
       "    }\n",
       "\n",
       "    .dataframe tbody tr th {\n",
       "        vertical-align: top;\n",
       "    }\n",
       "\n",
       "    .dataframe thead th {\n",
       "        text-align: right;\n",
       "    }\n",
       "</style>\n",
       "<table border=\"1\" class=\"dataframe\">\n",
       "  <thead>\n",
       "    <tr style=\"text-align: right;\">\n",
       "      <th></th>\n",
       "      <th>column</th>\n",
       "      <th>corr</th>\n",
       "    </tr>\n",
       "  </thead>\n",
       "  <tbody>\n",
       "    <tr>\n",
       "      <th>5</th>\n",
       "      <td>religion</td>\n",
       "      <td>1.000000</td>\n",
       "    </tr>\n",
       "    <tr>\n",
       "      <th>4</th>\n",
       "      <td>language</td>\n",
       "      <td>0.422315</td>\n",
       "    </tr>\n",
       "    <tr>\n",
       "      <th>0</th>\n",
       "      <td>landmass</td>\n",
       "      <td>0.325073</td>\n",
       "    </tr>\n",
       "    <tr>\n",
       "      <th>3</th>\n",
       "      <td>population</td>\n",
       "      <td>0.172731</td>\n",
       "    </tr>\n",
       "    <tr>\n",
       "      <th>10</th>\n",
       "      <td>green</td>\n",
       "      <td>0.128843</td>\n",
       "    </tr>\n",
       "    <tr>\n",
       "      <th>16</th>\n",
       "      <td>circles</td>\n",
       "      <td>0.123260</td>\n",
       "    </tr>\n",
       "    <tr>\n",
       "      <th>9</th>\n",
       "      <td>red</td>\n",
       "      <td>0.121721</td>\n",
       "    </tr>\n",
       "    <tr>\n",
       "      <th>7</th>\n",
       "      <td>stripes</td>\n",
       "      <td>0.103222</td>\n",
       "    </tr>\n",
       "    <tr>\n",
       "      <th>18</th>\n",
       "      <td>saltires</td>\n",
       "      <td>-0.133373</td>\n",
       "    </tr>\n",
       "    <tr>\n",
       "      <th>19</th>\n",
       "      <td>quarters</td>\n",
       "      <td>-0.135713</td>\n",
       "    </tr>\n",
       "    <tr>\n",
       "      <th>11</th>\n",
       "      <td>blue</td>\n",
       "      <td>-0.154891</td>\n",
       "    </tr>\n",
       "    <tr>\n",
       "      <th>13</th>\n",
       "      <td>white</td>\n",
       "      <td>-0.167605</td>\n",
       "    </tr>\n",
       "    <tr>\n",
       "      <th>17</th>\n",
       "      <td>crosses</td>\n",
       "      <td>-0.225238</td>\n",
       "    </tr>\n",
       "    <tr>\n",
       "      <th>1</th>\n",
       "      <td>zone</td>\n",
       "      <td>-0.320537</td>\n",
       "    </tr>\n",
       "  </tbody>\n",
       "</table>\n",
       "</div>"
      ],
      "text/plain": [
       "        column      corr\n",
       "5     religion  1.000000\n",
       "4     language  0.422315\n",
       "0     landmass  0.325073\n",
       "3   population  0.172731\n",
       "10       green  0.128843\n",
       "16     circles  0.123260\n",
       "9          red  0.121721\n",
       "7      stripes  0.103222\n",
       "18    saltires -0.133373\n",
       "19    quarters -0.135713\n",
       "11        blue -0.154891\n",
       "13       white -0.167605\n",
       "17     crosses -0.225238\n",
       "1         zone -0.320537"
      ]
     },
     "execution_count": 99,
     "metadata": {},
     "output_type": "execute_result"
    }
   ],
   "source": [
    "df_corr_most_important = df_corr[abs(df_corr['corr'])>= 0.1].sort_values('corr', ascending=False)\n",
    "df_corr_most_important"
   ]
  },
  {
   "cell_type": "code",
   "execution_count": 100,
   "id": "veterinary-indonesia",
   "metadata": {},
   "outputs": [],
   "source": [
    "arr= df_corr_most_important['column'].unique()"
   ]
  },
  {
   "cell_type": "code",
   "execution_count": 101,
   "id": "tired-release",
   "metadata": {
    "scrolled": false
   },
   "outputs": [
    {
     "data": {
      "image/png": "[encoded data removed]",
      "text/plain": [
       "<Figure size 1080x720 with 2 Axes>"
      ]
     },
     "metadata": {
      "needs_background": "light"
     },
     "output_type": "display_data"
    }
   ],
   "source": [
    "plt.figure(figsize=(15, 10))\n",
    "sns.heatmap(df[arr].corr(), annot = True)\n",
    "plt.title('Матрица корреляций')\n",
    "plt.show()"
   ]
  },
  {
   "cell_type": "markdown",
   "id": "mental-cleaner",
   "metadata": {},
   "source": [
    "### 5. Пробуем уменьшить признаковое пространство, оцениваем рузельтат"
   ]
  },
  {
   "cell_type": "markdown",
   "id": "realistic-george",
   "metadata": {},
   "source": [
    "#### Для оценки понижения размерности будем использовать RandomForest, для начала подберем гиперпараметры на RandomizedSearchCV"
   ]
  },
  {
   "cell_type": "code",
   "execution_count": 117,
   "id": "junior-index",
   "metadata": {},
   "outputs": [],
   "source": [
    "from sklearn.model_selection import train_test_split"
   ]
  },
  {
   "cell_type": "code",
   "execution_count": 214,
   "id": "engaging-diameter",
   "metadata": {},
   "outputs": [],
   "source": [
    "# x = df.drop(columns=['religion', 'name', 'topleft', 'mainhue', 'botright'])\n",
    "x= df[arr].drop(columns=['religion'])\n",
    "y = df['religion']"
   ]
  },
  {
   "cell_type": "code",
   "execution_count": 215,
   "id": "geological-framing",
   "metadata": {},
   "outputs": [],
   "source": [
    "from sklearn.preprocessing import StandardScaler "
   ]
  },
  {
   "cell_type": "code",
   "execution_count": 216,
   "id": "documentary-forum",
   "metadata": {},
   "outputs": [],
   "source": [
    "scaler = StandardScaler()\n",
    "x_scal = scaler.fit_transform(x)"
   ]
  },
  {
   "cell_type": "code",
   "execution_count": 217,
   "id": "fantastic-chester",
   "metadata": {},
   "outputs": [],
   "source": [
    "x_train, x_test, y_train, y_test = train_test_split(x_scal, y, test_size=0.3, random_state=42)"
   ]
  },
  {
   "cell_type": "code",
   "execution_count": 218,
   "id": "fiscal-crown",
   "metadata": {},
   "outputs": [],
   "source": [
    "from sklearn.ensemble import RandomForestClassifier\n",
    "from sklearn.neighbors import KNeighborsClassifier\n",
    "from sklearn.model_selection import RandomizedSearchCV"
   ]
  },
  {
   "cell_type": "code",
   "execution_count": 238,
   "id": "three-hybrid",
   "metadata": {},
   "outputs": [],
   "source": [
    "param = {'n_estimators': list(range(50, 150, 5)), 'criterion':['gini', 'entropy'], 'max_depth':list(range(3, 15))}\n",
    "# param = {'n_neighbors':list(range(1,30)),'weights': ['uniform', 'distance'], 'p':[1,2,3]}"
   ]
  },
  {
   "cell_type": "code",
   "execution_count": 239,
   "id": "plastic-visiting",
   "metadata": {},
   "outputs": [],
   "source": [
    "model = RandomForestClassifier()\n",
    "# model = KNeighborsClassifier()"
   ]
  },
  {
   "cell_type": "code",
   "execution_count": 249,
   "id": "vocal-assumption",
   "metadata": {},
   "outputs": [
    {
     "name": "stdout",
     "output_type": "stream",
     "text": [
      "RandomForestClassifier(max_depth=5, n_estimators=105)\n",
      "0.6664835164835164\n",
      "0.6440677966101694\n"
     ]
    }
   ],
   "source": [
    "res = RandomizedSearchCV(model, param, cv=10, scoring='accuracy').fit(x_train, y_train)\n",
    "print(res.best_estimator_)\n",
    "print(res.best_score_)\n",
    "print(res.best_estimator_.score(x_test, y_test))"
   ]
  },
  {
   "cell_type": "code",
   "execution_count": 250,
   "id": "respiratory-contest",
   "metadata": {},
   "outputs": [
    {
     "name": "stdout",
     "output_type": "stream",
     "text": [
      "0.8888888888888888\n",
      "0.6949152542372882\n"
     ]
    }
   ],
   "source": [
    "model_test = RandomForestClassifier(max_depth=5, n_estimators=105)\n",
    "model_test.fit(x_train, y_train)\n",
    "print(model_test.score(x_train, y_train))\n",
    "print(model_test.score(x_test, y_test))"
   ]
  },
  {
   "cell_type": "markdown",
   "id": "functional-squad",
   "metadata": {},
   "source": [
    "#### Пробуем изменять пространство"
   ]
  },
  {
   "cell_type": "markdown",
   "id": "aerial-syria",
   "metadata": {},
   "source": [
    "#### PCA"
   ]
  },
  {
   "cell_type": "code",
   "execution_count": 223,
   "id": "innocent-treatment",
   "metadata": {},
   "outputs": [],
   "source": [
    "from sklearn.decomposition import PCA"
   ]
  },
  {
   "cell_type": "code",
   "execution_count": 155,
   "id": "saved-bangladesh",
   "metadata": {},
   "outputs": [],
   "source": [
    "pca = PCA(n_components=2)\n",
    "pca.fit(x_train)\n",
    "x_train_pca = pca.transform(x_train)\n",
    "x_test_pca = pca.transform(x_test)"
   ]
  },
  {
   "cell_type": "code",
   "execution_count": 167,
   "id": "instructional-waste",
   "metadata": {},
   "outputs": [
    {
     "data": {
      "text/plain": [
       "<matplotlib.collections.PathCollection at 0x27823099eb0>"
      ]
     },
     "execution_count": 167,
     "metadata": {},
     "output_type": "execute_result"
    },
    {
     "data": {
      "image/png": "[encoded data removed]",
      "text/plain": [
       "<Figure size 432x288 with 1 Axes>"
      ]
     },
     "metadata": {
      "needs_background": "light"
     },
     "output_type": "display_data"
    }
   ],
   "source": [
    "plt.scatter(x_train_pca[:,0], x_train_pca[:,1], c=y_train)"
   ]
  },
  {
   "cell_type": "code",
   "execution_count": 252,
   "id": "forty-alaska",
   "metadata": {},
   "outputs": [],
   "source": [
    "num = list(range(1, 14))\n",
    "err_1 = []\n",
    "err_2 = []\n",
    "for n in num:\n",
    "    pca = PCA(n_components=n)\n",
    "    pca.fit(x_train)\n",
    "    \n",
    "    x_train_pca = pca.transform(x_train)\n",
    "    x_test_pca = pca.transform(x_test)\n",
    "    \n",
    "    model = RandomForestClassifier(max_depth=5, n_estimators=105)\n",
    "    model.fit(x_train_pca, y_train)\n",
    "    \n",
    "    err_1.append(model.score(x_train_pca, y_train))\n",
    "    err_2.append(model.score(x_test_pca, y_test))    "
   ]
  },
  {
   "cell_type": "code",
   "execution_count": 253,
   "id": "horizontal-living",
   "metadata": {},
   "outputs": [
    {
     "data": {
      "image/png": "[encoded data removed]",
      "text/plain": [
       "<Figure size 432x288 with 1 Axes>"
      ]
     },
     "metadata": {
      "needs_background": "light"
     },
     "output_type": "display_data"
    }
   ],
   "source": [
    "# plt.figure(figsize=(10, 7))\n",
    "plt.plot(num, err_1)\n",
    "plt.plot(num, err_2)\n",
    "plt.show()\n"
   ]
  },
  {
   "cell_type": "markdown",
   "id": "suitable-bearing",
   "metadata": {},
   "source": [
    "#### LDA"
   ]
  },
  {
   "cell_type": "code",
   "execution_count": 254,
   "id": "imperial-characteristic",
   "metadata": {},
   "outputs": [],
   "source": [
    "from sklearn.discriminant_analysis import LinearDiscriminantAnalysis"
   ]
  },
  {
   "cell_type": "code",
   "execution_count": 281,
   "id": "agricultural-christopher",
   "metadata": {},
   "outputs": [
    {
     "data": {
      "text/plain": [
       "LinearDiscriminantAnalysis(n_components=7)"
      ]
     },
     "execution_count": 281,
     "metadata": {},
     "output_type": "execute_result"
    }
   ],
   "source": [
    "lda = LinearDiscriminantAnalysis(n_components=7)\n",
    "lda.fit(x_train, y_train)"
   ]
  },
  {
   "cell_type": "code",
   "execution_count": 284,
   "id": "nearby-angola",
   "metadata": {},
   "outputs": [],
   "source": [
    "x_train_lda = lda.transform(x_train)\n",
    "x_test_lda = lda.transform(x_test)"
   ]
  },
  {
   "cell_type": "code",
   "execution_count": 285,
   "id": "metropolitan-footwear",
   "metadata": {
    "scrolled": false
   },
   "outputs": [
    {
     "data": {
      "text/plain": [
       "<matplotlib.collections.PathCollection at 0x27823175220>"
      ]
     },
     "execution_count": 285,
     "metadata": {},
     "output_type": "execute_result"
    },
    {
     "data": {
      "image/png": "[encoded data removed]",
      "text/plain": [
       "<Figure size 432x288 with 1 Axes>"
      ]
     },
     "metadata": {
      "needs_background": "light"
     },
     "output_type": "display_data"
    }
   ],
   "source": [
    "plt.scatter(x_train_lda[:,0], x_train_lda[:,1], c=y_train)"
   ]
  },
  {
   "cell_type": "code",
   "execution_count": 282,
   "id": "accredited-gambling",
   "metadata": {},
   "outputs": [],
   "source": [
    "num = list(range(2, 7))\n",
    "err_1 = []\n",
    "err_2 = []\n",
    "for n in num:\n",
    "    lda = LinearDiscriminantAnalysis(n_components=n)\n",
    "    lda.fit(x_train, y_train)\n",
    "    \n",
    "    x_train_lda = lda.transform(x_train)\n",
    "    x_test_lda = lda.transform(x_test)\n",
    "    \n",
    "    model = RandomForestClassifier(max_depth=5, n_estimators=105)\n",
    "    model.fit(x_train_pca, y_train)\n",
    "    \n",
    "    err_1.append(model.score(x_train_pca, y_train))\n",
    "    err_2.append(model.score(x_test_pca, y_test))    "
   ]
  },
  {
   "cell_type": "code",
   "execution_count": 283,
   "id": "caring-movie",
   "metadata": {
    "scrolled": true
   },
   "outputs": [
    {
     "data": {
      "image/png": "[encoded data removed]",
      "text/plain": [
       "<Figure size 432x288 with 1 Axes>"
      ]
     },
     "metadata": {
      "needs_background": "light"
     },
     "output_type": "display_data"
    }
   ],
   "source": [
    "plt.plot(num, err_1)\n",
    "plt.plot(num, err_2)\n",
    "plt.show()"
   ]
  },
  {
   "cell_type": "markdown",
   "id": "responsible-manchester",
   "metadata": {},
   "source": [
    "### 7-8 Кросс-валидация и решение задачи мультиклассовой классификации"
   ]
  },
  {
   "cell_type": "code",
   "execution_count": 286,
   "id": "italian-proposition",
   "metadata": {},
   "outputs": [],
   "source": [
    "from sklearn.linear_model import LogisticRegression, Ridge\n",
    "from sklearn.svm import SVC\n",
    "from sklearn.naive_bayes import BernoulliNB\n",
    "from sklearn.ensemble import RandomForestClassifier\n",
    "from sklearn.tree import DecisionTreeClassifier\n",
    "from scipy.stats import uniform   "
   ]
  },
  {
   "cell_type": "code",
   "execution_count": 287,
   "id": "weekly-commons",
   "metadata": {},
   "outputs": [],
   "source": [
    "x_train, x_test, y_train, y_test = train_test_split(x_scal, y, test_size=0.3)"
   ]
  },
  {
   "cell_type": "code",
   "execution_count": 401,
   "id": "continental-sandwich",
   "metadata": {},
   "outputs": [],
   "source": [
    "models=[\n",
    "      {'name':'NB',\"model\":BernoulliNB(), 'params':{'alpha': uniform(loc=0, scale=4)}},  \n",
    "      {'name':'Lr',\"model\": LogisticRegression()  , 'params':{'C':[0.1,0.2,0.3,0.5,0.7,1], 'penalty':['l1', 'l2']}},\n",
    "      {'name':'R',\"model\": Ridge(), 'params':{'alpha': uniform(loc=0, scale=4), 'solver':['svd', 'cholesky', 'lsqr', 'sparse_cg', 'sag', 'saga']}},\n",
    "      {'name':'SVC',\"model\": SVC(), 'params':{'kernel':['linear', 'poly', 'rbf', 'sigmoid'], 'gamma':['scale', 'auto']}},\n",
    "      {'name':'RF',\"model\": RandomForestClassifier(), 'params':{'n_estimators':[10,25,50,100,150,200], 'criterion':['gini', 'entropy'], 'max_depth':[3,5,7,9,11]}},\n",
    "      {'name':'KN',\"model\": KNeighborsClassifier(), 'params':{'n_neighbors':list(range(1,30)),'weights': ['uniform', 'distance'], 'p':[1,2,3]}},\n",
    "      {'name':'DT',\"model\": DecisionTreeClassifier(), 'params':{'criterion':['gini', 'entropy'], 'max_depth':[3,5,7,9,11]}}\n",
    "]\n",
    "\n",
    "res=[]\n",
    "for v in  models:\n",
    "    res.append((v['name'], RandomizedSearchCV(v['model'], v['params'], cv=10).fit(x_train, y_train)))"
   ]
  },
  {
   "cell_type": "code",
   "execution_count": 402,
   "id": "horizontal-conservation",
   "metadata": {
    "scrolled": false
   },
   "outputs": [
    {
     "name": "stdout",
     "output_type": "stream",
     "text": [
      "NB 0.5648351648351648 {'alpha': 1.4931267067182383}\n",
      "Lr 0.5296703296703297 {'penalty': 'l2', 'C': 0.5}\n",
      "R 0.07122286680947165 {'alpha': 3.2702275759135784, 'solver': 'svd'}\n",
      "SVC 0.5505494505494506 {'kernel': 'rbf', 'gamma': 'scale'}\n",
      "RF 0.7269230769230768 {'n_estimators': 200, 'max_depth': 7, 'criterion': 'gini'}\n",
      "KN 0.6104395604395604 {'weights': 'distance', 'p': 1, 'n_neighbors': 21}\n",
      "DT 0.6609890109890109 {'max_depth': 9, 'criterion': 'gini'}\n"
     ]
    }
   ],
   "source": [
    "for r in res:\n",
    "    print(r[0], r[1].best_score_, r[1].best_params_)"
   ]
  },
  {
   "cell_type": "code",
   "execution_count": 411,
   "id": "silent-dating",
   "metadata": {},
   "outputs": [
    {
     "data": {
      "text/plain": [
       "RandomForestClassifier(max_depth=7, n_estimators=200)"
      ]
     },
     "execution_count": 411,
     "metadata": {},
     "output_type": "execute_result"
    }
   ],
   "source": [
    "res[4][1].best_estimator_"
   ]
  },
  {
   "cell_type": "code",
   "execution_count": 403,
   "id": "rolled-victoria",
   "metadata": {},
   "outputs": [],
   "source": [
    "best_result_model = res[4][1].best_estimator_"
   ]
  },
  {
   "cell_type": "markdown",
   "id": "reliable-finding",
   "metadata": {},
   "source": [
    "### 9. Рассчитать Feature Importance"
   ]
  },
  {
   "cell_type": "code",
   "execution_count": 404,
   "id": "impressed-shelter",
   "metadata": {},
   "outputs": [],
   "source": [
    "fi = best_result_model.feature_importances_"
   ]
  },
  {
   "cell_type": "code",
   "execution_count": 414,
   "id": "concerned-invention",
   "metadata": {},
   "outputs": [],
   "source": [
    "arr_for_fi = np.delete(arr, 0)"
   ]
  },
  {
   "cell_type": "code",
   "execution_count": 415,
   "id": "downtown-thermal",
   "metadata": {},
   "outputs": [
    {
     "data": {
      "text/html": [
       "<div>\n",
       "<style scoped>\n",
       "    .dataframe tbody tr th:only-of-type {\n",
       "        vertical-align: middle;\n",
       "    }\n",
       "\n",
       "    .dataframe tbody tr th {\n",
       "        vertical-align: top;\n",
       "    }\n",
       "\n",
       "    .dataframe thead th {\n",
       "        text-align: right;\n",
       "    }\n",
       "</style>\n",
       "<table border=\"1\" class=\"dataframe\">\n",
       "  <thead>\n",
       "    <tr style=\"text-align: right;\">\n",
       "      <th></th>\n",
       "      <th>column</th>\n",
       "      <th>importances</th>\n",
       "    </tr>\n",
       "  </thead>\n",
       "  <tbody>\n",
       "    <tr>\n",
       "      <th>7</th>\n",
       "      <td>saltires</td>\n",
       "      <td>0.014496</td>\n",
       "    </tr>\n",
       "    <tr>\n",
       "      <th>8</th>\n",
       "      <td>quarters</td>\n",
       "      <td>0.019478</td>\n",
       "    </tr>\n",
       "    <tr>\n",
       "      <th>5</th>\n",
       "      <td>red</td>\n",
       "      <td>0.026117</td>\n",
       "    </tr>\n",
       "    <tr>\n",
       "      <th>4</th>\n",
       "      <td>circles</td>\n",
       "      <td>0.028263</td>\n",
       "    </tr>\n",
       "    <tr>\n",
       "      <th>10</th>\n",
       "      <td>white</td>\n",
       "      <td>0.033967</td>\n",
       "    </tr>\n",
       "    <tr>\n",
       "      <th>11</th>\n",
       "      <td>crosses</td>\n",
       "      <td>0.042255</td>\n",
       "    </tr>\n",
       "    <tr>\n",
       "      <th>3</th>\n",
       "      <td>green</td>\n",
       "      <td>0.043050</td>\n",
       "    </tr>\n",
       "    <tr>\n",
       "      <th>9</th>\n",
       "      <td>blue</td>\n",
       "      <td>0.051866</td>\n",
       "    </tr>\n",
       "    <tr>\n",
       "      <th>6</th>\n",
       "      <td>stripes</td>\n",
       "      <td>0.083792</td>\n",
       "    </tr>\n",
       "    <tr>\n",
       "      <th>12</th>\n",
       "      <td>zone</td>\n",
       "      <td>0.092504</td>\n",
       "    </tr>\n",
       "    <tr>\n",
       "      <th>2</th>\n",
       "      <td>population</td>\n",
       "      <td>0.152181</td>\n",
       "    </tr>\n",
       "    <tr>\n",
       "      <th>1</th>\n",
       "      <td>landmass</td>\n",
       "      <td>0.197974</td>\n",
       "    </tr>\n",
       "    <tr>\n",
       "      <th>0</th>\n",
       "      <td>language</td>\n",
       "      <td>0.214058</td>\n",
       "    </tr>\n",
       "  </tbody>\n",
       "</table>\n",
       "</div>"
      ],
      "text/plain": [
       "        column  importances\n",
       "7     saltires     0.014496\n",
       "8     quarters     0.019478\n",
       "5          red     0.026117\n",
       "4      circles     0.028263\n",
       "10       white     0.033967\n",
       "11     crosses     0.042255\n",
       "3        green     0.043050\n",
       "9         blue     0.051866\n",
       "6      stripes     0.083792\n",
       "12        zone     0.092504\n",
       "2   population     0.152181\n",
       "1     landmass     0.197974\n",
       "0     language     0.214058"
      ]
     },
     "execution_count": 415,
     "metadata": {},
     "output_type": "execute_result"
    }
   ],
   "source": [
    "df_fi = pd.DataFrame(fi, arr_for_fi).reset_index().rename(columns={'index':'column',0:'importances'}).sort_values('importances', ascending=True)\n",
    "df_fi"
   ]
  },
  {
   "cell_type": "code",
   "execution_count": 416,
   "id": "dramatic-singles",
   "metadata": {},
   "outputs": [
    {
     "data": {
      "image/png": "[encoded data removed]",
      "text/plain": [
       "<Figure size 576x432 with 1 Axes>"
      ]
     },
     "metadata": {
      "needs_background": "light"
     },
     "output_type": "display_data"
    }
   ],
   "source": [
    "plt.figure(figsize=(8, 6))\n",
    "plt.barh(df_fi['column'], df_fi['importances'])\n",
    "plt.title('Визуализация наиболее важных параметров')\n",
    "plt.show()"
   ]
  },
  {
   "cell_type": "markdown",
   "id": "imperial-terminal",
   "metadata": {},
   "source": [
    "### 10. Проверка качетсва"
   ]
  },
  {
   "cell_type": "code",
   "execution_count": 407,
   "id": "rapid-allen",
   "metadata": {},
   "outputs": [],
   "source": [
    "from sklearn.metrics import accuracy_score, f1_score, roc_curve, roc_auc_score, precision_score, recall_score"
   ]
  },
  {
   "cell_type": "code",
   "execution_count": 408,
   "id": "paperback-cursor",
   "metadata": {},
   "outputs": [],
   "source": [
    "y_pred = best_result_model.predict(x_test)"
   ]
  },
  {
   "cell_type": "code",
   "execution_count": 409,
   "id": "cheap-orleans",
   "metadata": {},
   "outputs": [
    {
     "name": "stdout",
     "output_type": "stream",
     "text": [
      "0.37157190635451504\n",
      "0.5932203389830508\n",
      "0.5491978912760048\n",
      "[0.69565217 0.76923077 0.4        0.         0.         0.8\n",
      " 0.30769231 0.        ]\n"
     ]
    }
   ],
   "source": [
    "print(f1_score(y_test, y_pred, average='macro'))\n",
    "print(f1_score(y_test, y_pred, average='micro'))\n",
    "print(f1_score(y_test, y_pred, average='weighted'))\n",
    "print(f1_score(y_test, y_pred, average=None))"
   ]
  },
  {
   "cell_type": "code",
   "execution_count": 381,
   "id": "advanced-produce",
   "metadata": {},
   "outputs": [],
   "source": [
    "# metrics = [f1_score, precision_score, recall_score]"
   ]
  },
  {
   "cell_type": "code",
   "execution_count": 393,
   "id": "sacred-payroll",
   "metadata": {},
   "outputs": [],
   "source": [
    "# for i in metrics:\n",
    "#     print(i, ':', i(y_test, y_pred))"
   ]
  },
  {
   "cell_type": "markdown",
   "id": "satellite-corps",
   "metadata": {},
   "source": [
    "### 11. Confusion_matrix"
   ]
  },
  {
   "cell_type": "code",
   "execution_count": 410,
   "id": "sacred-rotation",
   "metadata": {
    "scrolled": true
   },
   "outputs": [
    {
     "data": {
      "text/plain": [
       "array([[ 0, 10,  0,  0,  0, 30,  0,  0],\n",
       "       [ 0, 30, 10,  0,  0, 19,  1,  0],\n",
       "       [ 1,  5,  0,  0,  0, 30,  0,  0],\n",
       "       [ 2,  3,  0,  0,  0,  3,  0,  0],\n",
       "       [ 0,  1,  0,  0,  0,  3,  0,  0],\n",
       "       [ 0,  2,  0,  0,  0, 25,  0,  0],\n",
       "       [ 1,  5,  0,  0,  0,  9,  0,  0],\n",
       "       [ 2,  0,  0,  0,  0,  2,  0,  0]], dtype=int64)"
      ]
     },
     "execution_count": 410,
     "metadata": {},
     "output_type": "execute_result"
    }
   ],
   "source": [
    "from sklearn.metrics import confusion_matrix\n",
    "pred = best_result_model.predict(x)\n",
    "c_m = confusion_matrix(y, pred)\n",
    "c_m"
   ]
  },
  {
   "cell_type": "code",
   "execution_count": null,
   "id": "chinese-institution",
   "metadata": {},
   "outputs": [],
   "source": []
  }
 ],
 "metadata": {
  "kernelspec": {
   "display_name": "Python 3",
   "language": "python",
   "name": "python3"
  },
  "language_info": {
   "codemirror_mode": {
    "name": "ipython",
    "version": 3
   },
   "file_extension": ".py",
   "mimetype": "text/x-python",
   "name": "python",
   "nbconvert_exporter": "python",
   "pygments_lexer": "ipython3",
   "version": "3.9.0"
  }
 },
 "nbformat": 4,
 "nbformat_minor": 5
}
