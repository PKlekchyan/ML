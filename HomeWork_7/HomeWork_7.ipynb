{
 "cells": [
  {
   "cell_type": "code",
   "execution_count": 6,
   "id": "handmade-newspaper",
   "metadata": {},
   "outputs": [],
   "source": [
    "import pandas as pd\n",
    "import numpy as np\n",
    "import matplotlib.pyplot as plt\n",
    "from sklearn.model_selection import train_test_split\n",
    "from sklearn.tree import DecisionTreeRegressor"
   ]
  },
  {
   "cell_type": "code",
   "execution_count": 11,
   "id": "danish-journey",
   "metadata": {},
   "outputs": [
    {
     "ename": "FileNotFoundError",
     "evalue": "[Errno 2] No such file or directory: 'boston_house_prices.csv'",
     "output_type": "error",
     "traceback": [
      "\u001b[1;31m---------------------------------------------------------------------------\u001b[0m",
      "\u001b[1;31mFileNotFoundError\u001b[0m                         Traceback (most recent call last)",
      "\u001b[1;32m<ipython-input-11-ae973f72fa63>\u001b[0m in \u001b[0;36m<module>\u001b[1;34m\u001b[0m\n\u001b[0;32m      1\u001b[0m \u001b[1;32mfrom\u001b[0m \u001b[0msklearn\u001b[0m\u001b[1;33m.\u001b[0m\u001b[0mdatasets\u001b[0m \u001b[1;32mimport\u001b[0m \u001b[0mload_boston\u001b[0m\u001b[1;33m\u001b[0m\u001b[1;33m\u001b[0m\u001b[0m\n\u001b[1;32m----> 2\u001b[1;33m \u001b[0mdf\u001b[0m \u001b[1;33m=\u001b[0m \u001b[0mpd\u001b[0m\u001b[1;33m.\u001b[0m\u001b[0mread_csv\u001b[0m\u001b[1;33m(\u001b[0m\u001b[0mload_boston\u001b[0m\u001b[1;33m(\u001b[0m\u001b[1;33m)\u001b[0m\u001b[1;33m[\u001b[0m\u001b[1;34m'filename'\u001b[0m\u001b[1;33m]\u001b[0m\u001b[1;33m,\u001b[0m \u001b[0mskiprows\u001b[0m\u001b[1;33m=\u001b[0m\u001b[1;36m1\u001b[0m\u001b[1;33m)\u001b[0m\u001b[1;33m\u001b[0m\u001b[1;33m\u001b[0m\u001b[0m\n\u001b[0m",
      "\u001b[1;32mc:\\users\\pklek\\appdata\\local\\programs\\python\\python39\\lib\\site-packages\\pandas\\io\\parsers.py\u001b[0m in \u001b[0;36mread_csv\u001b[1;34m(filepath_or_buffer, sep, delimiter, header, names, index_col, usecols, squeeze, prefix, mangle_dupe_cols, dtype, engine, converters, true_values, false_values, skipinitialspace, skiprows, skipfooter, nrows, na_values, keep_default_na, na_filter, verbose, skip_blank_lines, parse_dates, infer_datetime_format, keep_date_col, date_parser, dayfirst, cache_dates, iterator, chunksize, compression, thousands, decimal, lineterminator, quotechar, quoting, doublequote, escapechar, comment, encoding, dialect, error_bad_lines, warn_bad_lines, delim_whitespace, low_memory, memory_map, float_precision, storage_options)\u001b[0m\n\u001b[0;32m    608\u001b[0m     \u001b[0mkwds\u001b[0m\u001b[1;33m.\u001b[0m\u001b[0mupdate\u001b[0m\u001b[1;33m(\u001b[0m\u001b[0mkwds_defaults\u001b[0m\u001b[1;33m)\u001b[0m\u001b[1;33m\u001b[0m\u001b[1;33m\u001b[0m\u001b[0m\n\u001b[0;32m    609\u001b[0m \u001b[1;33m\u001b[0m\u001b[0m\n\u001b[1;32m--> 610\u001b[1;33m     \u001b[1;32mreturn\u001b[0m \u001b[0m_read\u001b[0m\u001b[1;33m(\u001b[0m\u001b[0mfilepath_or_buffer\u001b[0m\u001b[1;33m,\u001b[0m \u001b[0mkwds\u001b[0m\u001b[1;33m)\u001b[0m\u001b[1;33m\u001b[0m\u001b[1;33m\u001b[0m\u001b[0m\n\u001b[0m\u001b[0;32m    611\u001b[0m \u001b[1;33m\u001b[0m\u001b[0m\n\u001b[0;32m    612\u001b[0m \u001b[1;33m\u001b[0m\u001b[0m\n",
      "\u001b[1;32mc:\\users\\pklek\\appdata\\local\\programs\\python\\python39\\lib\\site-packages\\pandas\\io\\parsers.py\u001b[0m in \u001b[0;36m_read\u001b[1;34m(filepath_or_buffer, kwds)\u001b[0m\n\u001b[0;32m    460\u001b[0m \u001b[1;33m\u001b[0m\u001b[0m\n\u001b[0;32m    461\u001b[0m     \u001b[1;31m# Create the parser.\u001b[0m\u001b[1;33m\u001b[0m\u001b[1;33m\u001b[0m\u001b[1;33m\u001b[0m\u001b[0m\n\u001b[1;32m--> 462\u001b[1;33m     \u001b[0mparser\u001b[0m \u001b[1;33m=\u001b[0m \u001b[0mTextFileReader\u001b[0m\u001b[1;33m(\u001b[0m\u001b[0mfilepath_or_buffer\u001b[0m\u001b[1;33m,\u001b[0m \u001b[1;33m**\u001b[0m\u001b[0mkwds\u001b[0m\u001b[1;33m)\u001b[0m\u001b[1;33m\u001b[0m\u001b[1;33m\u001b[0m\u001b[0m\n\u001b[0m\u001b[0;32m    463\u001b[0m \u001b[1;33m\u001b[0m\u001b[0m\n\u001b[0;32m    464\u001b[0m     \u001b[1;32mif\u001b[0m \u001b[0mchunksize\u001b[0m \u001b[1;32mor\u001b[0m \u001b[0miterator\u001b[0m\u001b[1;33m:\u001b[0m\u001b[1;33m\u001b[0m\u001b[1;33m\u001b[0m\u001b[0m\n",
      "\u001b[1;32mc:\\users\\pklek\\appdata\\local\\programs\\python\\python39\\lib\\site-packages\\pandas\\io\\parsers.py\u001b[0m in \u001b[0;36m__init__\u001b[1;34m(self, f, engine, **kwds)\u001b[0m\n\u001b[0;32m    817\u001b[0m             \u001b[0mself\u001b[0m\u001b[1;33m.\u001b[0m\u001b[0moptions\u001b[0m\u001b[1;33m[\u001b[0m\u001b[1;34m\"has_index_names\"\u001b[0m\u001b[1;33m]\u001b[0m \u001b[1;33m=\u001b[0m \u001b[0mkwds\u001b[0m\u001b[1;33m[\u001b[0m\u001b[1;34m\"has_index_names\"\u001b[0m\u001b[1;33m]\u001b[0m\u001b[1;33m\u001b[0m\u001b[1;33m\u001b[0m\u001b[0m\n\u001b[0;32m    818\u001b[0m \u001b[1;33m\u001b[0m\u001b[0m\n\u001b[1;32m--> 819\u001b[1;33m         \u001b[0mself\u001b[0m\u001b[1;33m.\u001b[0m\u001b[0m_engine\u001b[0m \u001b[1;33m=\u001b[0m \u001b[0mself\u001b[0m\u001b[1;33m.\u001b[0m\u001b[0m_make_engine\u001b[0m\u001b[1;33m(\u001b[0m\u001b[0mself\u001b[0m\u001b[1;33m.\u001b[0m\u001b[0mengine\u001b[0m\u001b[1;33m)\u001b[0m\u001b[1;33m\u001b[0m\u001b[1;33m\u001b[0m\u001b[0m\n\u001b[0m\u001b[0;32m    820\u001b[0m \u001b[1;33m\u001b[0m\u001b[0m\n\u001b[0;32m    821\u001b[0m     \u001b[1;32mdef\u001b[0m \u001b[0mclose\u001b[0m\u001b[1;33m(\u001b[0m\u001b[0mself\u001b[0m\u001b[1;33m)\u001b[0m\u001b[1;33m:\u001b[0m\u001b[1;33m\u001b[0m\u001b[1;33m\u001b[0m\u001b[0m\n",
      "\u001b[1;32mc:\\users\\pklek\\appdata\\local\\programs\\python\\python39\\lib\\site-packages\\pandas\\io\\parsers.py\u001b[0m in \u001b[0;36m_make_engine\u001b[1;34m(self, engine)\u001b[0m\n\u001b[0;32m   1048\u001b[0m             )\n\u001b[0;32m   1049\u001b[0m         \u001b[1;31m# error: Too many arguments for \"ParserBase\"\u001b[0m\u001b[1;33m\u001b[0m\u001b[1;33m\u001b[0m\u001b[1;33m\u001b[0m\u001b[0m\n\u001b[1;32m-> 1050\u001b[1;33m         \u001b[1;32mreturn\u001b[0m \u001b[0mmapping\u001b[0m\u001b[1;33m[\u001b[0m\u001b[0mengine\u001b[0m\u001b[1;33m]\u001b[0m\u001b[1;33m(\u001b[0m\u001b[0mself\u001b[0m\u001b[1;33m.\u001b[0m\u001b[0mf\u001b[0m\u001b[1;33m,\u001b[0m \u001b[1;33m**\u001b[0m\u001b[0mself\u001b[0m\u001b[1;33m.\u001b[0m\u001b[0moptions\u001b[0m\u001b[1;33m)\u001b[0m  \u001b[1;31m# type: ignore[call-arg]\u001b[0m\u001b[1;33m\u001b[0m\u001b[1;33m\u001b[0m\u001b[0m\n\u001b[0m\u001b[0;32m   1051\u001b[0m \u001b[1;33m\u001b[0m\u001b[0m\n\u001b[0;32m   1052\u001b[0m     \u001b[1;32mdef\u001b[0m \u001b[0m_failover_to_python\u001b[0m\u001b[1;33m(\u001b[0m\u001b[0mself\u001b[0m\u001b[1;33m)\u001b[0m\u001b[1;33m:\u001b[0m\u001b[1;33m\u001b[0m\u001b[1;33m\u001b[0m\u001b[0m\n",
      "\u001b[1;32mc:\\users\\pklek\\appdata\\local\\programs\\python\\python39\\lib\\site-packages\\pandas\\io\\parsers.py\u001b[0m in \u001b[0;36m__init__\u001b[1;34m(self, src, **kwds)\u001b[0m\n\u001b[0;32m   1865\u001b[0m \u001b[1;33m\u001b[0m\u001b[0m\n\u001b[0;32m   1866\u001b[0m         \u001b[1;31m# open handles\u001b[0m\u001b[1;33m\u001b[0m\u001b[1;33m\u001b[0m\u001b[1;33m\u001b[0m\u001b[0m\n\u001b[1;32m-> 1867\u001b[1;33m         \u001b[0mself\u001b[0m\u001b[1;33m.\u001b[0m\u001b[0m_open_handles\u001b[0m\u001b[1;33m(\u001b[0m\u001b[0msrc\u001b[0m\u001b[1;33m,\u001b[0m \u001b[0mkwds\u001b[0m\u001b[1;33m)\u001b[0m\u001b[1;33m\u001b[0m\u001b[1;33m\u001b[0m\u001b[0m\n\u001b[0m\u001b[0;32m   1868\u001b[0m         \u001b[1;32massert\u001b[0m \u001b[0mself\u001b[0m\u001b[1;33m.\u001b[0m\u001b[0mhandles\u001b[0m \u001b[1;32mis\u001b[0m \u001b[1;32mnot\u001b[0m \u001b[1;32mNone\u001b[0m\u001b[1;33m\u001b[0m\u001b[1;33m\u001b[0m\u001b[0m\n\u001b[0;32m   1869\u001b[0m         \u001b[1;32mfor\u001b[0m \u001b[0mkey\u001b[0m \u001b[1;32min\u001b[0m \u001b[1;33m(\u001b[0m\u001b[1;34m\"storage_options\"\u001b[0m\u001b[1;33m,\u001b[0m \u001b[1;34m\"encoding\"\u001b[0m\u001b[1;33m,\u001b[0m \u001b[1;34m\"memory_map\"\u001b[0m\u001b[1;33m,\u001b[0m \u001b[1;34m\"compression\"\u001b[0m\u001b[1;33m)\u001b[0m\u001b[1;33m:\u001b[0m\u001b[1;33m\u001b[0m\u001b[1;33m\u001b[0m\u001b[0m\n",
      "\u001b[1;32mc:\\users\\pklek\\appdata\\local\\programs\\python\\python39\\lib\\site-packages\\pandas\\io\\parsers.py\u001b[0m in \u001b[0;36m_open_handles\u001b[1;34m(self, src, kwds)\u001b[0m\n\u001b[0;32m   1360\u001b[0m         \u001b[0mLet\u001b[0m \u001b[0mthe\u001b[0m \u001b[0mreaders\u001b[0m \u001b[0mopen\u001b[0m \u001b[0mIOHanldes\u001b[0m \u001b[0mafter\u001b[0m \u001b[0mthey\u001b[0m \u001b[0mare\u001b[0m \u001b[0mdone\u001b[0m \u001b[1;32mwith\u001b[0m \u001b[0mtheir\u001b[0m \u001b[0mpotential\u001b[0m \u001b[0mraises\u001b[0m\u001b[1;33m.\u001b[0m\u001b[1;33m\u001b[0m\u001b[1;33m\u001b[0m\u001b[0m\n\u001b[0;32m   1361\u001b[0m         \"\"\"\n\u001b[1;32m-> 1362\u001b[1;33m         self.handles = get_handle(\n\u001b[0m\u001b[0;32m   1363\u001b[0m             \u001b[0msrc\u001b[0m\u001b[1;33m,\u001b[0m\u001b[1;33m\u001b[0m\u001b[1;33m\u001b[0m\u001b[0m\n\u001b[0;32m   1364\u001b[0m             \u001b[1;34m\"r\"\u001b[0m\u001b[1;33m,\u001b[0m\u001b[1;33m\u001b[0m\u001b[1;33m\u001b[0m\u001b[0m\n",
      "\u001b[1;32mc:\\users\\pklek\\appdata\\local\\programs\\python\\python39\\lib\\site-packages\\pandas\\io\\common.py\u001b[0m in \u001b[0;36mget_handle\u001b[1;34m(path_or_buf, mode, encoding, compression, memory_map, is_text, errors, storage_options)\u001b[0m\n\u001b[0;32m    640\u001b[0m                 \u001b[0merrors\u001b[0m \u001b[1;33m=\u001b[0m \u001b[1;34m\"replace\"\u001b[0m\u001b[1;33m\u001b[0m\u001b[1;33m\u001b[0m\u001b[0m\n\u001b[0;32m    641\u001b[0m             \u001b[1;31m# Encoding\u001b[0m\u001b[1;33m\u001b[0m\u001b[1;33m\u001b[0m\u001b[1;33m\u001b[0m\u001b[0m\n\u001b[1;32m--> 642\u001b[1;33m             handle = open(\n\u001b[0m\u001b[0;32m    643\u001b[0m                 \u001b[0mhandle\u001b[0m\u001b[1;33m,\u001b[0m\u001b[1;33m\u001b[0m\u001b[1;33m\u001b[0m\u001b[0m\n\u001b[0;32m    644\u001b[0m                 \u001b[0mioargs\u001b[0m\u001b[1;33m.\u001b[0m\u001b[0mmode\u001b[0m\u001b[1;33m,\u001b[0m\u001b[1;33m\u001b[0m\u001b[1;33m\u001b[0m\u001b[0m\n",
      "\u001b[1;31mFileNotFoundError\u001b[0m: [Errno 2] No such file or directory: 'boston_house_prices.csv'"
     ]
    }
   ],
   "source": [
    "from sklearn.datasets import load_boston\n",
    "df = pd.read_csv(load_boston()['filename'], skiprows=1)"
   ]
  },
  {
   "cell_type": "code",
   "execution_count": null,
   "id": "activated-banner",
   "metadata": {
    "scrolled": true
   },
   "outputs": [],
   "source": [
    "df.head()"
   ]
  },
  {
   "cell_type": "code",
   "execution_count": null,
   "id": "physical-imagination",
   "metadata": {},
   "outputs": [],
   "source": [
    "x = df.drop(columns=['MEDV'])\n",
    "y = df['MEDV']"
   ]
  },
  {
   "cell_type": "markdown",
   "id": "infectious-wallace",
   "metadata": {},
   "source": [
    "#### Функция для получения качества модели"
   ]
  },
  {
   "cell_type": "code",
   "execution_count": 23,
   "id": "official-flush",
   "metadata": {},
   "outputs": [],
   "source": [
    "def get_score(x, y, depth=None, split=2, leaf=1, criterion = 'mse'):\n",
    "    x_train, x_test, y_train, y_test = train_test_split(x, y, test_size=0.33, random_state=42) \n",
    "    \n",
    "    tree_reg = DecisionTreeRegressor(criterion = criterion, max_depth=depth, min_samples_split=split, min_samples_leaf=leaf) \n",
    "    \n",
    "    tree_reg.fit(x_train, y_train)\n",
    "    err1 = tree_reg.score(x_train, y_train)\n",
    "    err2 = tree_reg.score(x_test, y_test)\n",
    "    return (err1, err2)"
   ]
  },
  {
   "cell_type": "markdown",
   "id": "indian-joyce",
   "metadata": {},
   "source": [
    "#### Функция для выявления лучшего кол-ва ответов в листе"
   ]
  },
  {
   "cell_type": "code",
   "execution_count": 24,
   "id": "combined-output",
   "metadata": {},
   "outputs": [],
   "source": [
    "def best_amount_leaf(x, y):\n",
    "    num = np.arange(1, 15, 1)\n",
    "    err1 = []\n",
    "    err2 = []\n",
    "    for i in num:\n",
    "        scores = get_score(x, y, leaf=i)\n",
    "        err1.append(scores[0])\n",
    "        err2.append(scores[1])\n",
    "   \n",
    "    ind = np.argmax(err2)+num[0]\n",
    "    max_ = max(err2)\n",
    "    plt.plot(ind, max_, 'go')\n",
    "    plt.plot(num, err1)\n",
    "    plt.plot(num, err2)\n",
    "    plt.grid()\n",
    "    plt.show()"
   ]
  },
  {
   "cell_type": "code",
   "execution_count": 25,
   "id": "pediatric-foster",
   "metadata": {
    "scrolled": true
   },
   "outputs": [
    {
     "data": {
      "image/png": "[encoded data removed]",
      "text/plain": [
       "<Figure size 432x288 with 1 Axes>"
      ]
     },
     "metadata": {
      "needs_background": "light"
     },
     "output_type": "display_data"
    }
   ],
   "source": [
    "best_amount_leaf(x,y)"
   ]
  },
  {
   "cell_type": "markdown",
   "id": "animated-promotion",
   "metadata": {},
   "source": [
    "#### Из графика видно, что лучшее кол-во ответов в листе равно 2"
   ]
  },
  {
   "cell_type": "markdown",
   "id": "extreme-warning",
   "metadata": {},
   "source": [
    "#### Функция для определения максимальной глубины, учитывая leaf = 2"
   ]
  },
  {
   "cell_type": "code",
   "execution_count": 26,
   "id": "treated-synthesis",
   "metadata": {},
   "outputs": [],
   "source": [
    "def best_depth(x, y, leaf = 2):\n",
    "    num = np.arange(3, 30, 1)\n",
    "    err1 = []\n",
    "    err2 = []\n",
    "    for i in num:\n",
    "        scores = get_score(x, y, leaf=leaf, depth = i)\n",
    "        err1.append(scores[0])\n",
    "        err2.append(scores[1])\n",
    "    \n",
    "    ind = np.argmax(err2)+num[0]\n",
    "    max_ = max(err2)\n",
    "    plt.plot(ind, max_, 'go')\n",
    "    plt.plot(num, err1)\n",
    "    plt.plot(num, err2)\n",
    "    \n",
    "    plt.grid()\n",
    "    plt.show()"
   ]
  },
  {
   "cell_type": "code",
   "execution_count": 39,
   "id": "civilian-catalog",
   "metadata": {
    "scrolled": true
   },
   "outputs": [
    {
     "data": {
      "image/png": "[encoded data removed]",
      "text/plain": [
       "<Figure size 432x288 with 1 Axes>"
      ]
     },
     "metadata": {
      "needs_background": "light"
     },
     "output_type": "display_data"
    }
   ],
   "source": [
    "best_depth(x,y)"
   ]
  },
  {
   "cell_type": "markdown",
   "id": "ecological-score",
   "metadata": {},
   "source": [
    "#### Каждый раз оптимальная глубина разная, доверимся модели"
   ]
  },
  {
   "cell_type": "markdown",
   "id": "worst-executive",
   "metadata": {},
   "source": [
    "#### Функция для определения лучшего критерия дерева решений"
   ]
  },
  {
   "cell_type": "code",
   "execution_count": 27,
   "id": "heavy-weight",
   "metadata": {},
   "outputs": [],
   "source": [
    "def best_criterion(x, y, leaf=2, depth=None):\n",
    "    criteries = ['mse', 'friedman_mse', 'mae', 'poisson']\n",
    "    err1 = []\n",
    "    err2 = []\n",
    "    for i in criteries:\n",
    "        scores = get_score(x, y, leaf=leaf, depth = depth, criterion = i)\n",
    "        err1.append(scores[0])\n",
    "        err2.append(scores[1])\n",
    "    \n",
    "    ind = np.argmax(err2)\n",
    "    max_ = max(err2)\n",
    "    plt.plot(ind, max_, 'go')\n",
    "    plt.plot(criteries, err1)\n",
    "    plt.plot(criteries, err2)\n",
    "    plt.grid()\n",
    "    plt.show()"
   ]
  },
  {
   "cell_type": "code",
   "execution_count": 28,
   "id": "absolute-helicopter",
   "metadata": {
    "scrolled": true
   },
   "outputs": [
    {
     "data": {
      "image/png": "[encoded data removed]",
      "text/plain": [
       "<Figure size 432x288 with 1 Axes>"
      ]
     },
     "metadata": {
      "needs_background": "light"
     },
     "output_type": "display_data"
    }
   ],
   "source": [
    "best_criterion(x, y)"
   ]
  },
  {
   "cell_type": "markdown",
   "id": "north-exercise",
   "metadata": {},
   "source": [
    "#### Лучший критерий - MSE"
   ]
  },
  {
   "cell_type": "markdown",
   "id": "adaptive-drunk",
   "metadata": {},
   "source": [
    "#### Посмотрим важность параметров"
   ]
  },
  {
   "cell_type": "code",
   "execution_count": 29,
   "id": "ruled-daisy",
   "metadata": {},
   "outputs": [
    {
     "data": {
      "text/plain": [
       "DecisionTreeRegressor(min_samples_leaf=2)"
      ]
     },
     "execution_count": 29,
     "metadata": {},
     "output_type": "execute_result"
    }
   ],
   "source": [
    "x_train, x_test, y_train, y_test = train_test_split(x, y, test_size=0.33, random_state=42) \n",
    "model = DecisionTreeRegressor(max_depth=None, min_samples_leaf=2, criterion = \"mse\")\n",
    "model.fit(x_train, y_train)"
   ]
  },
  {
   "cell_type": "code",
   "execution_count": 1,
   "id": "administrative-operator",
   "metadata": {
    "scrolled": true
   },
   "outputs": [
    {
     "ename": "NameError",
     "evalue": "name 'plt' is not defined",
     "output_type": "error",
     "traceback": [
      "\u001b[1;31m---------------------------------------------------------------------------\u001b[0m",
      "\u001b[1;31mNameError\u001b[0m                                 Traceback (most recent call last)",
      "\u001b[1;32m<ipython-input-1-c68becef69e5>\u001b[0m in \u001b[0;36m<module>\u001b[1;34m\u001b[0m\n\u001b[1;32m----> 1\u001b[1;33m \u001b[0mplt\u001b[0m\u001b[1;33m.\u001b[0m\u001b[0mbarh\u001b[0m\u001b[1;33m(\u001b[0m\u001b[0mnp\u001b[0m\u001b[1;33m.\u001b[0m\u001b[0marange\u001b[0m\u001b[1;33m(\u001b[0m\u001b[0mlen\u001b[0m\u001b[1;33m(\u001b[0m\u001b[0mmodel\u001b[0m\u001b[1;33m.\u001b[0m\u001b[0mfeature_importances_\u001b[0m\u001b[1;33m)\u001b[0m\u001b[1;33m)\u001b[0m\u001b[1;33m,\u001b[0m \u001b[0mmodel\u001b[0m\u001b[1;33m.\u001b[0m\u001b[0mfeature_importances_\u001b[0m\u001b[1;33m)\u001b[0m\u001b[1;33m\u001b[0m\u001b[1;33m\u001b[0m\u001b[0m\n\u001b[0m\u001b[0;32m      2\u001b[0m \u001b[0mplt\u001b[0m\u001b[1;33m.\u001b[0m\u001b[0myticks\u001b[0m\u001b[1;33m(\u001b[0m\u001b[0mnp\u001b[0m\u001b[1;33m.\u001b[0m\u001b[0marange\u001b[0m\u001b[1;33m(\u001b[0m\u001b[0mlen\u001b[0m\u001b[1;33m(\u001b[0m\u001b[0mx\u001b[0m\u001b[1;33m.\u001b[0m\u001b[0mcolumns\u001b[0m\u001b[1;33m)\u001b[0m\u001b[1;33m)\u001b[0m\u001b[1;33m,\u001b[0m\u001b[0mx\u001b[0m\u001b[1;33m.\u001b[0m\u001b[0mcolumns\u001b[0m\u001b[1;33m)\u001b[0m\u001b[1;33m\u001b[0m\u001b[1;33m\u001b[0m\u001b[0m\n\u001b[0;32m      3\u001b[0m \u001b[0mplt\u001b[0m\u001b[1;33m.\u001b[0m\u001b[0mshow\u001b[0m\u001b[1;33m(\u001b[0m\u001b[1;33m)\u001b[0m\u001b[1;33m\u001b[0m\u001b[1;33m\u001b[0m\u001b[0m\n",
      "\u001b[1;31mNameError\u001b[0m: name 'plt' is not defined"
     ]
    }
   ],
   "source": [
    "plt.barh(np.arange(len(model.feature_importances_)), model.feature_importances_)\n",
    "plt.yticks(np.arange(len(x.columns)),x.columns)\n",
    "plt.show()"
   ]
  },
  {
   "cell_type": "markdown",
   "id": "saving-biotechnology",
   "metadata": {},
   "source": [
    "#### Видим, что достаточно важных параметров 7: 'LSTAT', 'B', 'PTRATIO', 'DIS', 'AGE', 'RM', 'CRIM'\n",
    "\n",
    "#### Однако со всеми параметрами модель отрабатывает лучше"
   ]
  },
  {
   "cell_type": "code",
   "execution_count": 31,
   "id": "resident-oxygen",
   "metadata": {},
   "outputs": [
    {
     "data": {
      "text/plain": [
       "(0.9754977594976396, 0.8371969943948396)"
      ]
     },
     "execution_count": 31,
     "metadata": {},
     "output_type": "execute_result"
    }
   ],
   "source": [
    "get_score(x, y, leaf = 2)"
   ]
  },
  {
   "cell_type": "code",
   "execution_count": 32,
   "id": "hawaiian-alabama",
   "metadata": {},
   "outputs": [
    {
     "data": {
      "text/plain": [
       "(0.9748663648324145, 0.7955364958065216)"
      ]
     },
     "execution_count": 32,
     "metadata": {},
     "output_type": "execute_result"
    }
   ],
   "source": [
    "get_score(df[['LSTAT', 'B', 'PTRATIO', 'DIS', 'AGE', 'RM', 'CRIM']], y, leaf = 2)"
   ]
  },
  {
   "cell_type": "markdown",
   "id": "sophisticated-three",
   "metadata": {},
   "source": [
    "#### Теперь обработаем некоторые наши переменные\n",
    "\n",
    "#### Результат практически тот же"
   ]
  },
  {
   "cell_type": "code",
   "execution_count": 33,
   "id": "emotional-typing",
   "metadata": {},
   "outputs": [],
   "source": [
    "x1 = pd.get_dummies(x, columns=['RAD'])"
   ]
  },
  {
   "cell_type": "code",
   "execution_count": 34,
   "id": "settled-trigger",
   "metadata": {},
   "outputs": [],
   "source": [
    "x2 = pd.get_dummies(x1, columns=['TAX'])"
   ]
  },
  {
   "cell_type": "code",
   "execution_count": 35,
   "id": "paperback-contrary",
   "metadata": {
    "scrolled": true
   },
   "outputs": [
    {
     "data": {
      "text/plain": [
       "(0.975164994429377, 0.8257589108787818)"
      ]
     },
     "execution_count": 35,
     "metadata": {},
     "output_type": "execute_result"
    }
   ],
   "source": [
    "get_score(x2, y, leaf = 2)"
   ]
  },
  {
   "cell_type": "markdown",
   "id": "limiting-animal",
   "metadata": {},
   "source": [
    "#### Визуализация дерева решений"
   ]
  },
  {
   "cell_type": "code",
   "execution_count": 13,
   "id": "dress-surname",
   "metadata": {},
   "outputs": [
    {
     "data": {
      "text/plain": [
       "[Text(143.79768573113208, 211.4, 'X[12] <= 7.865\\nmse = 88.144\\nsamples = 339\\nvalue = 22.971'),\n",
       " Text(66.01245283018868, 199.32, 'X[5] <= 7.437\\nmse = 78.197\\nsamples = 106\\nvalue = 32.424'),\n",
       " Text(42.323773584905666, 187.24, 'X[7] <= 1.557\\nmse = 39.805\\nsamples = 84\\nvalue = 29.286'),\n",
       " Text(39.79698113207547, 175.16, 'mse = 0.0\\nsamples = 3\\nvalue = 50.0'),\n",
       " Text(44.85056603773585, 175.16, 'X[5] <= 6.797\\nmse = 24.799\\nsamples = 81\\nvalue = 28.519'),\n",
       " Text(24.63622641509434, 163.07999999999998, 'X[5] <= 6.542\\nmse = 9.393\\nsamples = 44\\nvalue = 25.28'),\n",
       " Text(13.897358490566038, 151.0, 'X[7] <= 9.006\\nmse = 2.404\\nsamples = 23\\nvalue = 23.396'),\n",
       " Text(11.37056603773585, 138.92000000000002, 'X[11] <= 359.1\\nmse = 1.341\\nsamples = 21\\nvalue = 23.695'),\n",
       " Text(8.84377358490566, 126.84, 'mse = 1.823\\nsamples = 2\\nvalue = 25.65'),\n",
       " Text(13.897358490566038, 126.84, 'X[6] <= 25.0\\nmse = 0.846\\nsamples = 19\\nvalue = 23.489'),\n",
       " Text(7.5803773584905665, 114.75999999999999, 'X[1] <= 26.0\\nmse = 0.323\\nsamples = 6\\nvalue = 24.3'),\n",
       " Text(5.053584905660378, 102.67999999999999, 'X[1] <= 10.5\\nmse = 0.112\\nsamples = 4\\nvalue = 24.65'),\n",
       " Text(2.526792452830189, 90.6, 'mse = 0.09\\nsamples = 2\\nvalue = 24.4'),\n",
       " Text(7.5803773584905665, 90.6, 'mse = 0.01\\nsamples = 2\\nvalue = 24.9'),\n",
       " Text(10.107169811320755, 102.67999999999999, 'mse = 0.01\\nsamples = 2\\nvalue = 23.6'),\n",
       " Text(20.21433962264151, 114.75999999999999, 'X[11] <= 396.25\\nmse = 0.644\\nsamples = 13\\nvalue = 23.115'),\n",
       " Text(15.160754716981133, 102.67999999999999, 'X[11] <= 392.225\\nmse = 0.642\\nsamples = 7\\nvalue = 23.543'),\n",
       " Text(12.633962264150945, 90.6, 'X[9] <= 282.5\\nmse = 0.202\\nsamples = 4\\nvalue = 22.925'),\n",
       " Text(10.107169811320755, 78.52000000000001, 'mse = 0.123\\nsamples = 2\\nvalue = 22.55'),\n",
       " Text(15.160754716981133, 78.52000000000001, 'mse = -0.0\\nsamples = 2\\nvalue = 23.3'),\n",
       " Text(17.68754716981132, 90.6, 'mse = 0.042\\nsamples = 3\\nvalue = 24.367'),\n",
       " Text(25.26792452830189, 102.67999999999999, 'X[6] <= 45.0\\nmse = 0.185\\nsamples = 6\\nvalue = 22.617'),\n",
       " Text(22.7411320754717, 90.6, 'mse = 0.016\\nsamples = 3\\nvalue = 23.033'),\n",
       " Text(27.794716981132076, 90.6, 'mse = 0.007\\nsamples = 3\\nvalue = 22.2'),\n",
       " Text(16.424150943396228, 138.92000000000002, 'mse = 2.722\\nsamples = 2\\nvalue = 20.25'),\n",
       " Text(35.37509433962264, 151.0, 'X[2] <= 3.61\\nmse = 8.902\\nsamples = 21\\nvalue = 27.343'),\n",
       " Text(30.321509433962266, 138.92000000000002, 'X[11] <= 392.405\\nmse = 6.096\\nsamples = 7\\nvalue = 29.686'),\n",
       " Text(27.794716981132076, 126.84, 'X[12] <= 5.34\\nmse = 4.826\\nsamples = 5\\nvalue = 28.66'),\n",
       " Text(25.26792452830189, 114.75999999999999, 'mse = 0.082\\nsamples = 3\\nvalue = 30.133'),\n",
       " Text(30.321509433962266, 114.75999999999999, 'mse = 3.803\\nsamples = 2\\nvalue = 26.45'),\n",
       " Text(32.848301886792456, 126.84, 'mse = 0.062\\nsamples = 2\\nvalue = 32.25'),\n",
       " Text(40.42867924528302, 138.92000000000002, 'X[4] <= 0.527\\nmse = 6.189\\nsamples = 14\\nvalue = 26.171'),\n",
       " Text(37.901886792452835, 126.84, 'X[7] <= 3.855\\nmse = 4.428\\nsamples = 12\\nvalue = 26.8'),\n",
       " Text(35.37509433962264, 114.75999999999999, 'mse = 0.122\\nsamples = 2\\nvalue = 29.75'),\n",
       " Text(40.42867924528302, 114.75999999999999, 'X[12] <= 6.87\\nmse = 3.201\\nsamples = 10\\nvalue = 26.21'),\n",
       " Text(35.37509433962264, 102.67999999999999, 'X[11] <= 395.32\\nmse = 0.788\\nsamples = 6\\nvalue = 27.317'),\n",
       " Text(32.848301886792456, 90.6, 'mse = 0.036\\nsamples = 3\\nvalue = 26.467'),\n",
       " Text(37.901886792452835, 90.6, 'mse = 0.096\\nsamples = 3\\nvalue = 28.167'),\n",
       " Text(45.4822641509434, 102.67999999999999, 'X[9] <= 294.5\\nmse = 2.227\\nsamples = 4\\nvalue = 24.55'),\n",
       " Text(42.95547169811321, 90.6, 'mse = 2.56\\nsamples = 2\\nvalue = 25.5'),\n",
       " Text(48.00905660377359, 90.6, 'mse = 0.09\\nsamples = 2\\nvalue = 23.6'),\n",
       " Text(42.95547169811321, 126.84, 'mse = 0.16\\nsamples = 2\\nvalue = 22.4'),\n",
       " Text(65.06490566037736, 163.07999999999998, 'X[10] <= 19.45\\nmse = 15.807\\nsamples = 37\\nvalue = 32.37'),\n",
       " Text(62.53811320754718, 151.0, 'X[7] <= 7.741\\nmse = 12.111\\nsamples = 34\\nvalue = 33.006'),\n",
       " Text(60.011320754716984, 138.92000000000002, 'X[8] <= 2.5\\nmse = 9.965\\nsamples = 31\\nvalue = 33.51'),\n",
       " Text(50.53584905660378, 126.84, 'X[7] <= 3.458\\nmse = 10.904\\nsamples = 8\\nvalue = 31.175'),\n",
       " Text(48.00905660377359, 114.75999999999999, 'mse = 6.503\\nsamples = 2\\nvalue = 26.15'),\n",
       " Text(53.062641509433966, 114.75999999999999, 'X[0] <= 0.03\\nmse = 1.149\\nsamples = 6\\nvalue = 32.85'),\n",
       " Text(50.53584905660378, 102.67999999999999, 'mse = 0.447\\nsamples = 3\\nvalue = 32.0'),\n",
       " Text(55.58943396226415, 102.67999999999999, 'mse = 0.407\\nsamples = 3\\nvalue = 33.7'),\n",
       " Text(69.48679245283019, 126.84, 'X[5] <= 6.908\\nmse = 7.083\\nsamples = 23\\nvalue = 34.322'),\n",
       " Text(63.16981132075472, 114.75999999999999, 'X[5] <= 6.834\\nmse = 3.237\\nsamples = 6\\nvalue = 31.9'),\n",
       " Text(60.64301886792453, 102.67999999999999, 'mse = 1.0\\nsamples = 2\\nvalue = 34.1'),\n",
       " Text(65.69660377358491, 102.67999999999999, 'X[10] <= 17.1\\nmse = 0.725\\nsamples = 4\\nvalue = 30.8'),\n",
       " Text(63.16981132075472, 90.6, 'mse = 0.01\\nsamples = 2\\nvalue = 30.0'),\n",
       " Text(68.2233962264151, 90.6, 'mse = 0.16\\nsamples = 2\\nvalue = 31.6'),\n",
       " Text(75.80377358490567, 114.75999999999999, 'X[5] <= 6.963\\nmse = 5.641\\nsamples = 17\\nvalue = 35.176'),\n",
       " Text(73.27698113207548, 102.67999999999999, 'mse = 4.622\\nsamples = 2\\nvalue = 39.15'),\n",
       " Text(78.33056603773585, 102.67999999999999, 'X[2] <= 5.52\\nmse = 3.39\\nsamples = 15\\nvalue = 34.647'),\n",
       " Text(73.27698113207548, 90.6, 'X[0] <= 0.044\\nmse = 1.844\\nsamples = 11\\nvalue = 35.473'),\n",
       " Text(70.75018867924528, 78.52000000000001, 'mse = 0.889\\nsamples = 3\\nvalue = 34.233'),\n",
       " Text(75.80377358490567, 78.52000000000001, 'X[12] <= 5.36\\nmse = 1.41\\nsamples = 8\\nvalue = 35.938'),\n",
       " Text(70.75018867924528, 66.44, 'X[7] <= 5.589\\nmse = 0.232\\nsamples = 4\\nvalue = 36.775'),\n",
       " Text(68.2233962264151, 54.359999999999985, 'mse = 0.003\\nsamples = 2\\nvalue = 37.25'),\n",
       " Text(73.27698113207548, 54.359999999999985, 'mse = 0.01\\nsamples = 2\\nvalue = 36.3'),\n",
       " Text(80.85735849056604, 66.44, 'X[12] <= 6.7\\nmse = 1.185\\nsamples = 4\\nvalue = 35.1'),\n",
       " Text(78.33056603773585, 54.359999999999985, 'mse = 0.562\\nsamples = 2\\nvalue = 34.15'),\n",
       " Text(83.38415094339624, 54.359999999999985, 'mse = 0.002\\nsamples = 2\\nvalue = 36.05'),\n",
       " Text(83.38415094339624, 90.6, 'X[5] <= 7.312\\nmse = 0.607\\nsamples = 4\\nvalue = 32.375'),\n",
       " Text(80.85735849056604, 78.52000000000001, 'mse = 0.002\\nsamples = 2\\nvalue = 33.15'),\n",
       " Text(85.91094339622641, 78.52000000000001, 'mse = 0.01\\nsamples = 2\\nvalue = 31.6'),\n",
       " Text(65.06490566037736, 138.92000000000002, 'mse = 4.56\\nsamples = 3\\nvalue = 27.8'),\n",
       " Text(67.59169811320756, 151.0, 'mse = 1.229\\nsamples = 3\\nvalue = 25.167'),\n",
       " Text(89.7011320754717, 187.24, 'X[10] <= 18.3\\nmse = 43.645\\nsamples = 22\\nvalue = 44.405'),\n",
       " Text(87.17433962264151, 175.16, 'X[0] <= 0.577\\nmse = 16.212\\nsamples = 19\\nvalue = 46.158'),\n",
       " Text(84.64754716981133, 163.07999999999998, 'X[6] <= 71.85\\nmse = 13.737\\nsamples = 13\\nvalue = 44.385'),\n",
       " Text(79.59396226415095, 151.0, 'X[5] <= 7.826\\nmse = 7.389\\nsamples = 8\\nvalue = 46.388'),\n",
       " Text(77.06716981132075, 138.92000000000002, 'X[8] <= 4.0\\nmse = 2.53\\nsamples = 5\\nvalue = 44.56'),\n",
       " Text(74.54037735849057, 126.84, 'mse = 0.576\\nsamples = 3\\nvalue = 43.367'),\n",
       " Text(79.59396226415095, 126.84, 'mse = 0.123\\nsamples = 2\\nvalue = 46.35'),\n",
       " Text(82.12075471698114, 138.92000000000002, 'mse = 0.642\\nsamples = 3\\nvalue = 49.433'),\n",
       " Text(89.7011320754717, 151.0, 'X[7] <= 3.055\\nmse = 7.206\\nsamples = 5\\nvalue = 41.18'),\n",
       " Text(87.17433962264151, 138.92000000000002, 'mse = 0.722\\nsamples = 2\\nvalue = 43.95'),\n",
       " Text(92.2279245283019, 138.92000000000002, 'mse = 3.002\\nsamples = 3\\nvalue = 39.333'),\n",
       " Text(89.7011320754717, 163.07999999999998, 'mse = 0.0\\nsamples = 6\\nvalue = 50.0'),\n",
       " Text(92.2279245283019, 175.16, 'mse = 74.607\\nsamples = 3\\nvalue = 33.3'),\n",
       " Text(221.5829186320755, 199.32, 'X[12] <= 16.085\\nmse = 33.526\\nsamples = 233\\nvalue = 18.67'),\n",
       " Text(172.16734669811322, 187.24, 'X[5] <= 6.603\\nmse = 21.099\\nsamples = 143\\nvalue = 21.615'),\n",
       " Text(145.9814858490566, 175.16, 'X[7] <= 1.349\\nmse = 15.401\\nsamples = 129\\nvalue = 20.829'),\n",
       " Text(143.45469339622642, 163.07999999999998, 'mse = 122.102\\nsamples = 2\\nvalue = 38.95'),\n",
       " Text(148.5082783018868, 163.07999999999998, 'X[11] <= 47.725\\nmse = 8.468\\nsamples = 127\\nvalue = 20.544'),\n",
       " Text(145.9814858490566, 151.0, 'mse = 4.482\\nsamples = 3\\nvalue = 12.033'),\n",
       " Text(151.035070754717, 151.0, 'X[10] <= 19.65\\nmse = 6.77\\nsamples = 124\\nvalue = 20.75'),\n",
       " Text(118.8776886792453, 138.92000000000002, 'X[5] <= 5.786\\nmse = 6.351\\nsamples = 77\\nvalue = 21.516'),\n",
       " Text(104.54603773584907, 126.84, 'X[6] <= 88.9\\nmse = 10.014\\nsamples = 9\\nvalue = 18.589'),\n",
       " Text(102.01924528301888, 114.75999999999999, 'X[5] <= 5.718\\nmse = 2.425\\nsamples = 7\\nvalue = 17.329'),\n",
       " Text(99.49245283018868, 102.67999999999999, 'X[0] <= 0.216\\nmse = 0.606\\nsamples = 5\\nvalue = 16.44'),\n",
       " Text(96.9656603773585, 90.6, 'mse = 0.04\\nsamples = 2\\nvalue = 17.3'),\n",
       " Text(102.01924528301888, 90.6, 'mse = 0.162\\nsamples = 3\\nvalue = 15.867'),\n",
       " Text(104.54603773584907, 102.67999999999999, 'mse = 0.063\\nsamples = 2\\nvalue = 19.55'),\n",
       " Text(107.07283018867925, 114.75999999999999, 'mse = 11.56\\nsamples = 2\\nvalue = 23.0'),\n",
       " Text(133.20933962264152, 126.84, 'X[9] <= 412.5\\nmse = 4.583\\nsamples = 68\\nvalue = 21.903'),\n",
       " Text(119.86471698113208, 114.75999999999999, 'X[5] <= 6.292\\nmse = 3.852\\nsamples = 62\\nvalue = 22.203'),\n",
       " Text(109.59962264150944, 102.67999999999999, 'X[6] <= 93.8\\nmse = 3.302\\nsamples = 46\\nvalue = 21.733'),\n",
       " Text(107.07283018867925, 90.6, 'X[0] <= 0.172\\nmse = 2.905\\nsamples = 43\\nvalue = 21.9'),\n",
       " Text(97.91320754716982, 78.52000000000001, 'X[7] <= 7.414\\nmse = 2.07\\nsamples = 26\\nvalue = 21.273'),\n",
       " Text(95.38641509433963, 66.44, 'X[6] <= 30.65\\nmse = 1.549\\nsamples = 24\\nvalue = 21.479'),\n",
       " Text(88.43773584905661, 54.359999999999985, 'X[10] <= 17.7\\nmse = 0.686\\nsamples = 5\\nvalue = 22.72'),\n",
       " Text(85.91094339622641, 42.28, 'mse = 0.063\\nsamples = 2\\nvalue = 23.65'),\n",
       " Text(90.9645283018868, 42.28, 'mse = 0.14\\nsamples = 3\\nvalue = 22.1'),\n",
       " Text(102.33509433962264, 54.359999999999985, 'X[4] <= 0.505\\nmse = 1.265\\nsamples = 19\\nvalue = 21.153'),\n",
       " Text(96.01811320754717, 42.28, 'X[5] <= 5.986\\nmse = 0.777\\nsamples = 12\\nvalue = 20.642'),\n",
       " Text(90.9645283018868, 30.19999999999999, 'X[5] <= 5.927\\nmse = 0.47\\nsamples = 6\\nvalue = 20.1'),\n",
       " Text(88.43773584905661, 18.120000000000005, 'X[0] <= 0.094\\nmse = 0.145\\nsamples = 4\\nvalue = 20.5'),\n",
       " Text(85.91094339622641, 6.039999999999992, 'mse = 0.022\\nsamples = 2\\nvalue = 20.85'),\n",
       " Text(90.9645283018868, 6.039999999999992, 'mse = 0.023\\nsamples = 2\\nvalue = 20.15'),\n",
       " Text(93.49132075471698, 18.120000000000005, 'mse = 0.16\\nsamples = 2\\nvalue = 19.3'),\n",
       " Text(101.07169811320756, 30.19999999999999, 'X[7] <= 6.029\\nmse = 0.498\\nsamples = 6\\nvalue = 21.183'),\n",
       " Text(98.54490566037737, 18.120000000000005, 'X[0] <= 0.099\\nmse = 0.142\\nsamples = 4\\nvalue = 21.625'),\n",
       " Text(96.01811320754717, 6.039999999999992, 'mse = 0.063\\nsamples = 2\\nvalue = 21.95'),\n",
       " Text(101.07169811320756, 6.039999999999992, 'mse = 0.01\\nsamples = 2\\nvalue = 21.3'),\n",
       " Text(103.59849056603774, 18.120000000000005, 'mse = 0.04\\nsamples = 2\\nvalue = 20.3'),\n",
       " Text(108.65207547169813, 42.28, 'X[12] <= 13.89\\nmse = 0.885\\nsamples = 7\\nvalue = 22.029'),\n",
       " Text(106.12528301886793, 30.19999999999999, 'mse = 0.082\\nsamples = 3\\nvalue = 22.933'),\n",
       " Text(111.1788679245283, 30.19999999999999, 'X[11] <= 387.085\\nmse = 0.413\\nsamples = 4\\nvalue = 21.35'),\n",
       " Text(108.65207547169813, 18.120000000000005, 'mse = 0.302\\nsamples = 2\\nvalue = 20.85'),\n",
       " Text(113.7056603773585, 18.120000000000005, 'mse = 0.023\\nsamples = 2\\nvalue = 21.85'),\n",
       " Text(100.44000000000001, 66.44, 'mse = 1.69\\nsamples = 2\\nvalue = 18.8'),\n",
       " Text(116.23245283018869, 78.52000000000001, 'X[10] <= 17.9\\nmse = 2.662\\nsamples = 17\\nvalue = 22.859'),\n",
       " Text(109.91547169811321, 66.44, 'X[5] <= 5.929\\nmse = 0.562\\nsamples = 5\\nvalue = 23.96'),\n",
       " Text(107.38867924528303, 54.359999999999985, 'mse = 0.303\\nsamples = 2\\nvalue = 23.25'),\n",
       " Text(112.4422641509434, 54.359999999999985, 'mse = 0.176\\nsamples = 3\\nvalue = 24.433'),\n",
       " Text(122.54943396226416, 66.44, 'X[6] <= 43.15\\nmse = 2.822\\nsamples = 12\\nvalue = 22.4'),\n",
       " Text(117.49584905660377, 54.359999999999985, 'X[4] <= 0.476\\nmse = 2.042\\nsamples = 5\\nvalue = 23.92'),\n",
       " Text(114.9690566037736, 42.28, 'mse = 2.56\\nsamples = 2\\nvalue = 22.7'),\n",
       " Text(120.02264150943397, 42.28, 'mse = 0.042\\nsamples = 3\\nvalue = 24.733'),\n",
       " Text(127.60301886792453, 54.359999999999985, 'X[6] <= 56.3\\nmse = 0.55\\nsamples = 7\\nvalue = 21.314'),\n",
       " Text(125.07622641509435, 42.28, 'mse = 0.01\\nsamples = 2\\nvalue = 22.3'),\n",
       " Text(130.12981132075473, 42.28, 'X[0] <= 0.309\\nmse = 0.222\\nsamples = 5\\nvalue = 20.92'),\n",
       " Text(127.60301886792453, 30.19999999999999, 'mse = 0.207\\nsamples = 3\\nvalue = 21.1'),\n",
       " Text(132.65660377358492, 30.19999999999999, 'mse = 0.123\\nsamples = 2\\nvalue = 20.65'),\n",
       " Text(112.12641509433963, 90.6, 'mse = 2.829\\nsamples = 3\\nvalue = 19.333'),\n",
       " Text(130.12981132075473, 102.67999999999999, 'X[6] <= 36.35\\nmse = 2.966\\nsamples = 16\\nvalue = 23.556'),\n",
       " Text(123.81283018867926, 90.6, 'X[1] <= 43.25\\nmse = 5.047\\nsamples = 4\\nvalue = 25.325'),\n",
       " Text(121.28603773584906, 78.52000000000001, 'mse = 0.723\\nsamples = 2\\nvalue = 27.25'),\n",
       " Text(126.33962264150944, 78.52000000000001, 'mse = 1.96\\nsamples = 2\\nvalue = 23.4'),\n",
       " Text(136.4467924528302, 90.6, 'X[0] <= 0.109\\nmse = 0.882\\nsamples = 12\\nvalue = 22.967'),\n",
       " Text(131.39320754716982, 78.52000000000001, 'X[0] <= 0.041\\nmse = 0.182\\nsamples = 5\\nvalue = 22.14'),\n",
       " Text(128.86641509433963, 66.44, 'mse = 0.036\\nsamples = 3\\nvalue = 21.867'),\n",
       " Text(133.92000000000002, 66.44, 'mse = 0.123\\nsamples = 2\\nvalue = 22.55'),\n",
       " Text(141.50037735849057, 78.52000000000001, 'X[7] <= 3.567\\nmse = 0.545\\nsamples = 7\\nvalue = 23.557'),\n",
       " Text(138.97358490566037, 66.44, 'X[5] <= 6.378\\nmse = 0.282\\nsamples = 4\\nvalue = 23.05'),\n",
       " Text(136.4467924528302, 54.359999999999985, 'mse = 0.16\\nsamples = 2\\nvalue = 23.4'),\n",
       " Text(141.50037735849057, 54.359999999999985, 'mse = 0.16\\nsamples = 2\\nvalue = 22.7'),\n",
       " Text(144.02716981132076, 66.44, 'mse = 0.096\\nsamples = 3\\nvalue = 24.233'),\n",
       " Text(146.55396226415095, 114.75999999999999, 'X[5] <= 6.199\\nmse = 1.573\\nsamples = 6\\nvalue = 18.8'),\n",
       " Text(144.02716981132076, 102.67999999999999, 'X[5] <= 5.9\\nmse = 0.593\\nsamples = 4\\nvalue = 19.45'),\n",
       " Text(141.50037735849057, 90.6, 'mse = 0.302\\nsamples = 2\\nvalue = 19.85'),\n",
       " Text(146.55396226415095, 90.6, 'mse = 0.562\\nsamples = 2\\nvalue = 19.05'),\n",
       " Text(149.08075471698115, 102.67999999999999, 'mse = 1.0\\nsamples = 2\\nvalue = 17.5'),\n",
       " Text(183.1924528301887, 138.92000000000002, 'X[12] <= 14.4\\nmse = 4.923\\nsamples = 47\\nvalue = 19.496'),\n",
       " Text(169.29509433962266, 126.84, 'X[8] <= 16.0\\nmse = 4.155\\nsamples = 34\\nvalue = 20.141'),\n",
       " Text(156.6611320754717, 114.75999999999999, 'X[12] <= 8.155\\nmse = 3.61\\nsamples = 17\\nvalue = 18.853'),\n",
       " Text(154.1343396226415, 102.67999999999999, 'mse = 9.922\\nsamples = 2\\nvalue = 15.05'),\n",
       " Text(159.1879245283019, 102.67999999999999, 'X[7] <= 2.574\\nmse = 0.582\\nsamples = 15\\nvalue = 19.36'),\n",
       " Text(154.1343396226415, 90.6, 'X[5] <= 6.293\\nmse = 0.242\\nsamples = 5\\nvalue = 20.02'),\n",
       " Text(151.60754716981134, 78.52000000000001, 'mse = 0.042\\nsamples = 3\\nvalue = 20.367'),\n",
       " Text(156.6611320754717, 78.52000000000001, 'mse = 0.09\\nsamples = 2\\nvalue = 19.5'),\n",
       " Text(164.24150943396228, 90.6, 'X[12] <= 9.255\\nmse = 0.426\\nsamples = 10\\nvalue = 19.03'),\n",
       " Text(161.71471698113209, 78.52000000000001, 'mse = 0.16\\nsamples = 2\\nvalue = 20.0'),\n",
       " Text(166.76830188679247, 78.52000000000001, 'X[12] <= 13.12\\nmse = 0.199\\nsamples = 8\\nvalue = 18.788'),\n",
       " Text(164.24150943396228, 66.44, 'X[12] <= 10.0\\nmse = 0.062\\nsamples = 6\\nvalue = 18.567'),\n",
       " Text(161.71471698113209, 54.359999999999985, 'mse = 0.022\\nsamples = 2\\nvalue = 18.85'),\n",
       " Text(166.76830188679247, 54.359999999999985, 'X[10] <= 20.95\\nmse = 0.022\\nsamples = 4\\nvalue = 18.425'),\n",
       " Text(164.24150943396228, 42.28, 'mse = 0.002\\nsamples = 2\\nvalue = 18.55'),\n",
       " Text(169.29509433962266, 42.28, 'mse = 0.01\\nsamples = 2\\nvalue = 18.3'),\n",
       " Text(169.29509433962266, 66.44, 'mse = 0.023\\nsamples = 2\\nvalue = 19.45'),\n",
       " Text(181.9290566037736, 114.75999999999999, 'X[4] <= 0.581\\nmse = 1.382\\nsamples = 17\\nvalue = 21.429'),\n",
       " Text(179.4022641509434, 102.67999999999999, 'mse = 0.382\\nsamples = 3\\nvalue = 22.667'),\n",
       " Text(184.4558490566038, 102.67999999999999, 'X[7] <= 2.729\\nmse = 1.198\\nsamples = 14\\nvalue = 21.164'),\n",
       " Text(179.4022641509434, 90.6, 'X[12] <= 14.05\\nmse = 0.99\\nsamples = 8\\nvalue = 21.762'),\n",
       " Text(176.87547169811322, 78.52000000000001, 'X[5] <= 6.178\\nmse = 0.366\\nsamples = 6\\nvalue = 22.233'),\n",
       " Text(174.34867924528302, 66.44, 'X[0] <= 4.732\\nmse = 0.187\\nsamples = 4\\nvalue = 22.575'),\n",
       " Text(171.82188679245283, 54.359999999999985, 'mse = 0.123\\nsamples = 2\\nvalue = 22.25'),\n",
       " Text(176.87547169811322, 54.359999999999985, 'mse = 0.04\\nsamples = 2\\nvalue = 22.9'),\n",
       " Text(179.4022641509434, 66.44, 'mse = 0.022\\nsamples = 2\\nvalue = 21.55'),\n",
       " Text(181.9290566037736, 78.52000000000001, 'mse = 0.202\\nsamples = 2\\nvalue = 20.35'),\n",
       " Text(189.50943396226415, 90.6, 'X[12] <= 13.665\\nmse = 0.362\\nsamples = 6\\nvalue = 20.367'),\n",
       " Text(186.98264150943396, 78.52000000000001, 'X[12] <= 12.335\\nmse = 0.19\\nsamples = 4\\nvalue = 20.7'),\n",
       " Text(184.4558490566038, 66.44, 'mse = 0.04\\nsamples = 2\\nvalue = 20.4'),\n",
       " Text(189.50943396226415, 66.44, 'mse = 0.16\\nsamples = 2\\nvalue = 21.0'),\n",
       " Text(192.03622641509435, 78.52000000000001, 'mse = 0.04\\nsamples = 2\\nvalue = 19.7'),\n",
       " Text(197.08981132075473, 126.84, 'X[6] <= 86.4\\nmse = 2.991\\nsamples = 13\\nvalue = 17.808'),\n",
       " Text(192.03622641509435, 114.75999999999999, 'X[12] <= 14.78\\nmse = 0.282\\nsamples = 4\\nvalue = 19.525'),\n",
       " Text(189.50943396226415, 102.67999999999999, 'mse = 0.002\\nsamples = 2\\nvalue = 20.05'),\n",
       " Text(194.56301886792454, 102.67999999999999, 'mse = 0.01\\nsamples = 2\\nvalue = 19.0'),\n",
       " Text(202.14339622641512, 114.75999999999999, 'X[0] <= 6.434\\nmse = 2.302\\nsamples = 9\\nvalue = 17.044'),\n",
       " Text(199.61660377358493, 102.67999999999999, 'X[11] <= 383.385\\nmse = 1.177\\nsamples = 7\\nvalue = 17.557'),\n",
       " Text(197.08981132075473, 90.6, 'mse = 0.116\\nsamples = 3\\nvalue = 16.467'),\n",
       " Text(202.14339622641512, 90.6, 'X[5] <= 6.303\\nmse = 0.412\\nsamples = 4\\nvalue = 18.375'),\n",
       " Text(199.61660377358493, 78.52000000000001, 'mse = 0.25\\nsamples = 2\\nvalue = 18.9'),\n",
       " Text(204.67018867924529, 78.52000000000001, 'mse = 0.022\\nsamples = 2\\nvalue = 17.85'),\n",
       " Text(204.67018867924529, 102.67999999999999, 'mse = 2.102\\nsamples = 2\\nvalue = 15.25'),\n",
       " Text(198.35320754716983, 175.16, 'X[5] <= 6.983\\nmse = 15.462\\nsamples = 14\\nvalue = 28.857'),\n",
       " Text(193.29962264150944, 163.07999999999998, 'X[12] <= 10.045\\nmse = 5.629\\nsamples = 8\\nvalue = 26.088'),\n",
       " Text(190.77283018867925, 151.0, 'X[11] <= 392.24\\nmse = 1.408\\nsamples = 6\\nvalue = 27.317'),\n",
       " Text(188.24603773584906, 138.92000000000002, 'mse = 0.996\\nsamples = 3\\nvalue = 26.433'),\n",
       " Text(193.29962264150944, 138.92000000000002, 'mse = 0.26\\nsamples = 3\\nvalue = 28.2'),\n",
       " Text(195.82641509433964, 151.0, 'mse = 0.16\\nsamples = 2\\nvalue = 22.4'),\n",
       " Text(203.4067924528302, 163.07999999999998, 'X[12] <= 8.355\\nmse = 4.709\\nsamples = 6\\nvalue = 32.55'),\n",
       " Text(200.88000000000002, 151.0, 'mse = 3.062\\nsamples = 2\\nvalue = 34.75'),\n",
       " Text(205.93358490566038, 151.0, 'X[7] <= 2.122\\nmse = 1.903\\nsamples = 4\\nvalue = 31.45'),\n",
       " Text(203.4067924528302, 138.92000000000002, 'mse = 1.96\\nsamples = 2\\nvalue = 32.4'),\n",
       " Text(208.46037735849058, 138.92000000000002, 'mse = 0.04\\nsamples = 2\\nvalue = 30.5'),\n",
       " Text(270.99849056603773, 187.24, 'X[0] <= 5.657\\nmse = 17.595\\nsamples = 90\\nvalue = 13.991'),\n",
       " Text(238.78188679245284, 175.16, 'X[7] <= 1.883\\nmse = 13.527\\nsamples = 42\\nvalue = 16.729'),\n",
       " Text(222.3577358490566, 163.07999999999998, 'X[5] <= 5.428\\nmse = 4.949\\nsamples = 14\\nvalue = 14.164'),\n",
       " Text(216.04075471698116, 151.0, 'X[7] <= 1.599\\nmse = 4.836\\nsamples = 6\\nvalue = 12.567'),\n",
       " Text(213.51396226415096, 138.92000000000002, 'X[12] <= 29.41\\nmse = 1.227\\nsamples = 4\\nvalue = 13.55'),\n",
       " Text(210.98716981132077, 126.84, 'mse = 0.64\\nsamples = 2\\nvalue = 12.6'),\n",
       " Text(216.04075471698116, 126.84, 'mse = 0.01\\nsamples = 2\\nvalue = 14.5'),\n",
       " Text(218.56754716981132, 138.92000000000002, 'mse = 6.25\\nsamples = 2\\nvalue = 10.6'),\n",
       " Text(228.6747169811321, 151.0, 'X[12] <= 19.89\\nmse = 1.685\\nsamples = 8\\nvalue = 15.362'),\n",
       " Text(223.6211320754717, 138.92000000000002, 'X[10] <= 20.65\\nmse = 0.98\\nsamples = 4\\nvalue = 16.2'),\n",
       " Text(221.0943396226415, 126.84, 'mse = 0.04\\nsamples = 2\\nvalue = 15.4'),\n",
       " Text(226.1479245283019, 126.84, 'mse = 0.64\\nsamples = 2\\nvalue = 17.0'),\n",
       " Text(233.72830188679248, 138.92000000000002, 'X[0] <= 2.557\\nmse = 0.987\\nsamples = 4\\nvalue = 14.525'),\n",
       " Text(231.2015094339623, 126.84, 'mse = 0.062\\nsamples = 2\\nvalue = 13.55'),\n",
       " Text(236.25509433962264, 126.84, 'mse = 0.01\\nsamples = 2\\nvalue = 15.5'),\n",
       " Text(255.20603773584907, 163.07999999999998, 'X[10] <= 20.95\\nmse = 12.884\\nsamples = 28\\nvalue = 18.011'),\n",
       " Text(248.8890566037736, 151.0, 'X[5] <= 6.274\\nmse = 11.986\\nsamples = 20\\nvalue = 19.19'),\n",
       " Text(243.83547169811322, 138.92000000000002, 'X[5] <= 6.041\\nmse = 9.913\\nsamples = 16\\nvalue = 20.175'),\n",
       " Text(241.30867924528303, 126.84, 'X[6] <= 78.7\\nmse = 6.85\\nsamples = 13\\nvalue = 19.292'),\n",
       " Text(234.99169811320755, 114.75999999999999, 'X[6] <= 45.4\\nmse = 2.747\\nsamples = 4\\nvalue = 22.175'),\n",
       " Text(232.46490566037738, 102.67999999999999, 'mse = 0.09\\nsamples = 2\\nvalue = 23.4'),\n",
       " Text(237.51849056603774, 102.67999999999999, 'mse = 2.403\\nsamples = 2\\nvalue = 20.95'),\n",
       " Text(247.6256603773585, 114.75999999999999, 'X[12] <= 18.73\\nmse = 3.339\\nsamples = 9\\nvalue = 18.011'),\n",
       " Text(242.57207547169813, 102.67999999999999, 'X[8] <= 5.5\\nmse = 0.346\\nsamples = 5\\nvalue = 19.46'),\n",
       " Text(240.04528301886793, 90.6, 'mse = 0.222\\nsamples = 3\\nvalue = 19.833'),\n",
       " Text(245.09886792452832, 90.6, 'mse = 0.01\\nsamples = 2\\nvalue = 18.9'),\n",
       " Text(252.67924528301887, 102.67999999999999, 'X[7] <= 5.78\\nmse = 1.175\\nsamples = 4\\nvalue = 16.2'),\n",
       " Text(250.1524528301887, 90.6, 'mse = 0.122\\nsamples = 2\\nvalue = 16.95'),\n",
       " Text(255.20603773584907, 90.6, 'mse = 1.103\\nsamples = 2\\nvalue = 15.45'),\n",
       " Text(246.36226415094342, 126.84, 'mse = 5.18\\nsamples = 3\\nvalue = 24.0'),\n",
       " Text(253.94264150943397, 138.92000000000002, 'X[0] <= 4.812\\nmse = 0.872\\nsamples = 4\\nvalue = 15.25'),\n",
       " Text(251.41584905660378, 126.84, 'mse = 0.202\\nsamples = 2\\nvalue = 14.55'),\n",
       " Text(256.4694339622642, 126.84, 'mse = 0.563\\nsamples = 2\\nvalue = 15.95'),\n",
       " Text(261.5230188679245, 151.0, 'X[12] <= 17.12\\nmse = 2.96\\nsamples = 8\\nvalue = 15.062'),\n",
       " Text(258.9962264150943, 138.92000000000002, 'mse = 0.123\\nsamples = 2\\nvalue = 17.75'),\n",
       " Text(264.0498113207547, 138.92000000000002, 'X[0] <= 1.114\\nmse = 0.696\\nsamples = 6\\nvalue = 14.167'),\n",
       " Text(261.5230188679245, 126.84, 'mse = 0.287\\nsamples = 3\\nvalue = 14.9'),\n",
       " Text(266.5766037735849, 126.84, 'mse = 0.029\\nsamples = 3\\nvalue = 13.433'),\n",
       " Text(303.2150943396227, 175.16, 'X[7] <= 1.973\\nmse = 8.86\\nsamples = 48\\nvalue = 11.596'),\n",
       " Text(283.00075471698113, 163.07999999999998, 'X[4] <= 0.675\\nmse = 6.797\\nsamples = 33\\nvalue = 10.379'),\n",
       " Text(271.6301886792453, 151.0, 'X[11] <= 366.62\\nmse = 3.209\\nsamples = 9\\nvalue = 12.967'),\n",
       " Text(269.1033962264151, 138.92000000000002, 'mse = 1.44\\nsamples = 2\\nvalue = 15.1'),\n",
       " Text(274.1569811320755, 138.92000000000002, 'X[12] <= 23.515\\nmse = 2.042\\nsamples = 7\\nvalue = 12.357'),\n",
       " Text(271.6301886792453, 126.84, 'X[7] <= 1.372\\nmse = 1.572\\nsamples = 4\\nvalue = 11.45'),\n",
       " Text(269.1033962264151, 114.75999999999999, 'mse = 0.49\\nsamples = 2\\nvalue = 12.6'),\n",
       " Text(274.1569811320755, 114.75999999999999, 'mse = 0.01\\nsamples = 2\\nvalue = 10.3'),\n",
       " Text(276.6837735849057, 126.84, 'mse = 0.109\\nsamples = 3\\nvalue = 13.567'),\n",
       " Text(294.371320754717, 151.0, 'X[0] <= 9.756\\nmse = 4.689\\nsamples = 24\\nvalue = 9.408'),\n",
       " Text(286.79094339622645, 138.92000000000002, 'X[11] <= 395.0\\nmse = 1.837\\nsamples = 9\\nvalue = 11.278'),\n",
       " Text(281.73735849056607, 126.84, 'X[0] <= 8.505\\nmse = 1.902\\nsamples = 4\\nvalue = 10.275'),\n",
       " Text(279.2105660377359, 114.75999999999999, 'mse = 1.562\\nsamples = 2\\nvalue = 9.75'),\n",
       " Text(284.26415094339626, 114.75999999999999, 'mse = 1.69\\nsamples = 2\\nvalue = 10.8'),\n",
       " Text(291.8445283018868, 126.84, 'X[6] <= 97.45\\nmse = 0.338\\nsamples = 5\\nvalue = 12.08'),\n",
       " Text(289.31773584905665, 114.75999999999999, 'mse = 0.023\\nsamples = 2\\nvalue = 12.65'),\n",
       " Text(294.371320754717, 114.75999999999999, 'mse = 0.187\\nsamples = 3\\nvalue = 11.7'),\n",
       " Text(301.95169811320756, 138.92000000000002, 'X[12] <= 20.045\\nmse = 3.045\\nsamples = 15\\nvalue = 8.287'),\n",
       " Text(299.42490566037736, 126.84, 'mse = 4.84\\nsamples = 2\\nvalue = 10.5'),\n",
       " Text(304.47849056603775, 126.84, 'X[4] <= 0.697\\nmse = 1.899\\nsamples = 13\\nvalue = 7.946'),\n",
       " Text(299.42490566037736, 114.75999999999999, 'X[12] <= 26.28\\nmse = 0.745\\nsamples = 6\\nvalue = 7.017'),\n",
       " Text(296.89811320754717, 102.67999999999999, 'mse = 0.216\\nsamples = 3\\nvalue = 7.667'),\n",
       " Text(301.95169811320756, 102.67999999999999, 'mse = 0.429\\nsamples = 3\\nvalue = 6.367'),\n",
       " Text(309.53207547169814, 114.75999999999999, 'X[12] <= 30.72\\nmse = 1.514\\nsamples = 7\\nvalue = 8.743'),\n",
       " Text(307.00528301886794, 102.67999999999999, 'X[11] <= 338.64\\nmse = 0.923\\nsamples = 4\\nvalue = 9.55'),\n",
       " Text(304.47849056603775, 90.6, 'mse = 0.04\\nsamples = 2\\nvalue = 8.6'),\n",
       " Text(309.53207547169814, 90.6, 'mse = 0.0\\nsamples = 2\\nvalue = 10.5'),\n",
       " Text(312.05886792452833, 102.67999999999999, 'mse = 0.276\\nsamples = 3\\nvalue = 7.667'),\n",
       " Text(323.42943396226417, 163.07999999999998, 'X[11] <= 311.11\\nmse = 2.97\\nsamples = 15\\nvalue = 14.273'),\n",
       " Text(317.1124528301887, 151.0, 'X[11] <= 62.195\\nmse = 0.956\\nsamples = 10\\nvalue = 13.36'),\n",
       " Text(312.05886792452833, 138.92000000000002, 'X[7] <= 2.194\\nmse = 0.725\\nsamples = 4\\nvalue = 12.6'),\n",
       " Text(309.53207547169814, 126.84, 'mse = 0.002\\nsamples = 2\\nvalue = 11.75'),\n",
       " Text(314.5856603773585, 126.84, 'mse = 0.002\\nsamples = 2\\nvalue = 13.45'),\n",
       " Text(322.1660377358491, 138.92000000000002, 'X[6] <= 94.45\\nmse = 0.469\\nsamples = 6\\nvalue = 13.867'),\n",
       " Text(319.6392452830189, 126.84, 'mse = 0.107\\nsamples = 3\\nvalue = 14.5'),\n",
       " Text(324.69283018867924, 126.84, 'mse = 0.029\\nsamples = 3\\nvalue = 13.233'),\n",
       " Text(329.7464150943396, 151.0, 'X[12] <= 17.695\\nmse = 1.992\\nsamples = 5\\nvalue = 16.1'),\n",
       " Text(327.21962264150943, 138.92000000000002, 'mse = 0.0\\nsamples = 2\\nvalue = 17.8'),\n",
       " Text(332.2732075471698, 138.92000000000002, 'mse = 0.109\\nsamples = 3\\nvalue = 14.967')]"
      ]
     },
     "execution_count": 13,
     "metadata": {},
     "output_type": "execute_result"
    },
    {
     "data": {
      "image/png": "[encoded data removed]",
      "text/plain": [
       "<Figure size 432x288 with 1 Axes>"
      ]
     },
     "metadata": {
      "needs_background": "light"
     },
     "output_type": "display_data"
    }
   ],
   "source": [
    "from sklearn import tree\n",
    "tree.plot_tree(model)"
   ]
  },
  {
   "cell_type": "code",
   "execution_count": null,
   "id": "played-vegetation",
   "metadata": {},
   "outputs": [],
   "source": []
  },
  {
   "cell_type": "code",
   "execution_count": 15,
   "id": "relative-serbia",
   "metadata": {},
   "outputs": [
    {
     "ename": "InvocationException",
     "evalue": "GraphViz's executables not found",
     "output_type": "error",
     "traceback": [
      "\u001b[1;31m---------------------------------------------------------------------------\u001b[0m",
      "\u001b[1;31mInvocationException\u001b[0m                       Traceback (most recent call last)",
      "\u001b[1;32m<ipython-input-15-9a150de6c8af>\u001b[0m in \u001b[0;36m<module>\u001b[1;34m\u001b[0m\n\u001b[0;32m      8\u001b[0m                 special_characters=True)\n\u001b[0;32m      9\u001b[0m \u001b[0mgraph\u001b[0m \u001b[1;33m=\u001b[0m \u001b[0mpydotplus\u001b[0m\u001b[1;33m.\u001b[0m\u001b[0mgraph_from_dot_data\u001b[0m\u001b[1;33m(\u001b[0m\u001b[0mdot_data\u001b[0m\u001b[1;33m.\u001b[0m\u001b[0mgetvalue\u001b[0m\u001b[1;33m(\u001b[0m\u001b[1;33m)\u001b[0m\u001b[1;33m)\u001b[0m\u001b[1;33m\u001b[0m\u001b[1;33m\u001b[0m\u001b[0m\n\u001b[1;32m---> 10\u001b[1;33m \u001b[0mImage\u001b[0m\u001b[1;33m(\u001b[0m\u001b[0mgraph\u001b[0m\u001b[1;33m.\u001b[0m\u001b[0mcreate_png\u001b[0m\u001b[1;33m(\u001b[0m\u001b[1;33m)\u001b[0m\u001b[1;33m)\u001b[0m\u001b[1;33m\u001b[0m\u001b[1;33m\u001b[0m\u001b[0m\n\u001b[0m",
      "\u001b[1;32mc:\\users\\pklek\\appdata\\local\\programs\\python\\python39\\lib\\site-packages\\pydotplus\\graphviz.py\u001b[0m in \u001b[0;36m<lambda>\u001b[1;34m(f, prog)\u001b[0m\n\u001b[0;32m   1795\u001b[0m             self.__setattr__(\n\u001b[0;32m   1796\u001b[0m                 \u001b[1;34m'create_'\u001b[0m \u001b[1;33m+\u001b[0m \u001b[0mfrmt\u001b[0m\u001b[1;33m,\u001b[0m\u001b[1;33m\u001b[0m\u001b[1;33m\u001b[0m\u001b[0m\n\u001b[1;32m-> 1797\u001b[1;33m                 \u001b[1;32mlambda\u001b[0m \u001b[0mf\u001b[0m\u001b[1;33m=\u001b[0m\u001b[0mfrmt\u001b[0m\u001b[1;33m,\u001b[0m \u001b[0mprog\u001b[0m\u001b[1;33m=\u001b[0m\u001b[0mself\u001b[0m\u001b[1;33m.\u001b[0m\u001b[0mprog\u001b[0m\u001b[1;33m:\u001b[0m \u001b[0mself\u001b[0m\u001b[1;33m.\u001b[0m\u001b[0mcreate\u001b[0m\u001b[1;33m(\u001b[0m\u001b[0mformat\u001b[0m\u001b[1;33m=\u001b[0m\u001b[0mf\u001b[0m\u001b[1;33m,\u001b[0m \u001b[0mprog\u001b[0m\u001b[1;33m=\u001b[0m\u001b[0mprog\u001b[0m\u001b[1;33m)\u001b[0m\u001b[1;33m\u001b[0m\u001b[1;33m\u001b[0m\u001b[0m\n\u001b[0m\u001b[0;32m   1798\u001b[0m             )\n\u001b[0;32m   1799\u001b[0m             \u001b[0mf\u001b[0m \u001b[1;33m=\u001b[0m \u001b[0mself\u001b[0m\u001b[1;33m.\u001b[0m\u001b[0m__dict__\u001b[0m\u001b[1;33m[\u001b[0m\u001b[1;34m'create_'\u001b[0m \u001b[1;33m+\u001b[0m \u001b[0mfrmt\u001b[0m\u001b[1;33m]\u001b[0m\u001b[1;33m\u001b[0m\u001b[1;33m\u001b[0m\u001b[0m\n",
      "\u001b[1;32mc:\\users\\pklek\\appdata\\local\\programs\\python\\python39\\lib\\site-packages\\pydotplus\\graphviz.py\u001b[0m in \u001b[0;36mcreate\u001b[1;34m(self, prog, format)\u001b[0m\n\u001b[0;32m   1957\u001b[0m             \u001b[0mself\u001b[0m\u001b[1;33m.\u001b[0m\u001b[0mprogs\u001b[0m \u001b[1;33m=\u001b[0m \u001b[0mfind_graphviz\u001b[0m\u001b[1;33m(\u001b[0m\u001b[1;33m)\u001b[0m\u001b[1;33m\u001b[0m\u001b[1;33m\u001b[0m\u001b[0m\n\u001b[0;32m   1958\u001b[0m             \u001b[1;32mif\u001b[0m \u001b[0mself\u001b[0m\u001b[1;33m.\u001b[0m\u001b[0mprogs\u001b[0m \u001b[1;32mis\u001b[0m \u001b[1;32mNone\u001b[0m\u001b[1;33m:\u001b[0m\u001b[1;33m\u001b[0m\u001b[1;33m\u001b[0m\u001b[0m\n\u001b[1;32m-> 1959\u001b[1;33m                 raise InvocationException(\n\u001b[0m\u001b[0;32m   1960\u001b[0m                     'GraphViz\\'s executables not found')\n\u001b[0;32m   1961\u001b[0m \u001b[1;33m\u001b[0m\u001b[0m\n",
      "\u001b[1;31mInvocationException\u001b[0m: GraphViz's executables not found"
     ]
    }
   ],
   "source": [
    "from six import StringIO  \n",
    "from IPython.display import Image  \n",
    "from sklearn.tree import export_graphviz\n",
    "import pydotplus\n",
    "dot_data = StringIO()\n",
    "export_graphviz(model, out_file=dot_data,  \n",
    "                filled=True, rounded=True,\n",
    "                special_characters=True)\n",
    "graph = pydotplus.graph_from_dot_data(dot_data.getvalue())  \n",
    "Image(graph.create_png())"
   ]
  }
 ],
 "metadata": {
  "kernelspec": {
   "display_name": "Python 3",
   "language": "python",
   "name": "python3"
  },
  "language_info": {
   "codemirror_mode": {
    "name": "ipython",
    "version": 3
   },
   "file_extension": ".py",
   "mimetype": "text/x-python",
   "name": "python",
   "nbconvert_exporter": "python",
   "pygments_lexer": "ipython3",
   "version": "3.9.0"
  }
 },
 "nbformat": 4,
 "nbformat_minor": 5
}
