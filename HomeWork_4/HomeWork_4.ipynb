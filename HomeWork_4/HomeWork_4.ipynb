{
 "cells": [
  {
   "cell_type": "code",
   "execution_count": 2,
   "id": "beginning-device",
   "metadata": {},
   "outputs": [],
   "source": [
    "import numpy as np\n",
    "import pandas as pd\n",
    "import matplotlib.pyplot as plt"
   ]
  },
  {
   "cell_type": "markdown",
   "id": "three-chain",
   "metadata": {},
   "source": [
    "### Искусственный датасет Популяции Волков\n"
   ]
  },
  {
   "cell_type": "markdown",
   "id": "opened-recipient",
   "metadata": {},
   "source": [
    "**dist_from_city**: Расстояние от ближайшего города, где находятся волки\n",
    "\n",
    "**amount_factory**: Количество заводов в городе\n",
    "\n",
    "**evg_factory_emission**: Среднее кол-во выбросов на завод\n",
    "\n",
    "**amount_homeless_dog**: Кол-во бездомных собак в городе"
   ]
  },
  {
   "cell_type": "markdown",
   "id": "sensitive-posting",
   "metadata": {},
   "source": [
    "#### Генерируем данные"
   ]
  },
  {
   "cell_type": "code",
   "execution_count": 111,
   "id": "imposed-diagnosis",
   "metadata": {},
   "outputs": [],
   "source": [
    "n = 1000\n",
    "\n",
    "dist_from_city = np.random.choice(5000, n) + 17\n",
    "amount_factory = np.random.choice(15, n) + 2\n",
    "evg_factory_emission = np.random.choice(500, n) + 13\n",
    "amount_homeless_dog = np.random.choice(1000, n) + 7\n",
    "\n",
    "wolf_population = dist_from_city/50 + amount_factory*evg_factory_emission/50 + 5\n",
    "wolf_population = [int(x) for x in wolf_population]\n"
   ]
  },
  {
   "cell_type": "code",
   "execution_count": null,
   "id": "enclosed-hearing",
   "metadata": {},
   "outputs": [],
   "source": []
  },
  {
   "cell_type": "code",
   "execution_count": 112,
   "id": "thousand-fluid",
   "metadata": {},
   "outputs": [
    {
     "data": {
      "text/html": [
       "<div>\n",
       "<style scoped>\n",
       "    .dataframe tbody tr th:only-of-type {\n",
       "        vertical-align: middle;\n",
       "    }\n",
       "\n",
       "    .dataframe tbody tr th {\n",
       "        vertical-align: top;\n",
       "    }\n",
       "\n",
       "    .dataframe thead th {\n",
       "        text-align: right;\n",
       "    }\n",
       "</style>\n",
       "<table border=\"1\" class=\"dataframe\">\n",
       "  <thead>\n",
       "    <tr style=\"text-align: right;\">\n",
       "      <th></th>\n",
       "      <th>population</th>\n",
       "      <th>dist</th>\n",
       "      <th>amount_factory</th>\n",
       "      <th>evg_fact_emission</th>\n",
       "      <th>homeless_dog</th>\n",
       "    </tr>\n",
       "  </thead>\n",
       "  <tbody>\n",
       "    <tr>\n",
       "      <th>0</th>\n",
       "      <td>141</td>\n",
       "      <td>4901</td>\n",
       "      <td>4</td>\n",
       "      <td>483</td>\n",
       "      <td>518</td>\n",
       "    </tr>\n",
       "    <tr>\n",
       "      <th>1</th>\n",
       "      <td>43</td>\n",
       "      <td>248</td>\n",
       "      <td>4</td>\n",
       "      <td>419</td>\n",
       "      <td>286</td>\n",
       "    </tr>\n",
       "    <tr>\n",
       "      <th>2</th>\n",
       "      <td>170</td>\n",
       "      <td>3881</td>\n",
       "      <td>15</td>\n",
       "      <td>293</td>\n",
       "      <td>465</td>\n",
       "    </tr>\n",
       "    <tr>\n",
       "      <th>3</th>\n",
       "      <td>108</td>\n",
       "      <td>2271</td>\n",
       "      <td>6</td>\n",
       "      <td>486</td>\n",
       "      <td>731</td>\n",
       "    </tr>\n",
       "    <tr>\n",
       "      <th>4</th>\n",
       "      <td>40</td>\n",
       "      <td>732</td>\n",
       "      <td>10</td>\n",
       "      <td>102</td>\n",
       "      <td>771</td>\n",
       "    </tr>\n",
       "    <tr>\n",
       "      <th>...</th>\n",
       "      <td>...</td>\n",
       "      <td>...</td>\n",
       "      <td>...</td>\n",
       "      <td>...</td>\n",
       "      <td>...</td>\n",
       "    </tr>\n",
       "    <tr>\n",
       "      <th>995</th>\n",
       "      <td>154</td>\n",
       "      <td>1688</td>\n",
       "      <td>13</td>\n",
       "      <td>447</td>\n",
       "      <td>430</td>\n",
       "    </tr>\n",
       "    <tr>\n",
       "      <th>996</th>\n",
       "      <td>79</td>\n",
       "      <td>3555</td>\n",
       "      <td>3</td>\n",
       "      <td>53</td>\n",
       "      <td>714</td>\n",
       "    </tr>\n",
       "    <tr>\n",
       "      <th>997</th>\n",
       "      <td>59</td>\n",
       "      <td>605</td>\n",
       "      <td>10</td>\n",
       "      <td>213</td>\n",
       "      <td>964</td>\n",
       "    </tr>\n",
       "    <tr>\n",
       "      <th>998</th>\n",
       "      <td>80</td>\n",
       "      <td>2257</td>\n",
       "      <td>3</td>\n",
       "      <td>507</td>\n",
       "      <td>688</td>\n",
       "    </tr>\n",
       "    <tr>\n",
       "      <th>999</th>\n",
       "      <td>135</td>\n",
       "      <td>2693</td>\n",
       "      <td>9</td>\n",
       "      <td>426</td>\n",
       "      <td>207</td>\n",
       "    </tr>\n",
       "  </tbody>\n",
       "</table>\n",
       "<p>1000 rows × 5 columns</p>\n",
       "</div>"
      ],
      "text/plain": [
       "     population  dist  amount_factory  evg_fact_emission  homeless_dog\n",
       "0           141  4901               4                483           518\n",
       "1            43   248               4                419           286\n",
       "2           170  3881              15                293           465\n",
       "3           108  2271               6                486           731\n",
       "4            40   732              10                102           771\n",
       "..          ...   ...             ...                ...           ...\n",
       "995         154  1688              13                447           430\n",
       "996          79  3555               3                 53           714\n",
       "997          59   605              10                213           964\n",
       "998          80  2257               3                507           688\n",
       "999         135  2693               9                426           207\n",
       "\n",
       "[1000 rows x 5 columns]"
      ]
     },
     "execution_count": 112,
     "metadata": {},
     "output_type": "execute_result"
    }
   ],
   "source": [
    "df = pd.DataFrame({\"population\":wolf_population, \"dist\":dist_from_city,\n",
    "                   \"amount_factory\":amount_factory, \"evg_fact_emission\":evg_factory_emission,\n",
    "                  \"homeless_dog\":amount_homeless_dog})\n",
    "df"
   ]
  },
  {
   "cell_type": "code",
   "execution_count": 81,
   "id": "lucky-clothing",
   "metadata": {},
   "outputs": [],
   "source": [
    "from sklearn.linear_model import LinearRegression\n",
    "from sklearn.metrics import mean_absolute_error"
   ]
  },
  {
   "cell_type": "markdown",
   "id": "affecting-remedy",
   "metadata": {},
   "source": [
    "#### Считаем нашу модель на основе всех параметров"
   ]
  },
  {
   "cell_type": "code",
   "execution_count": 113,
   "id": "intense-proceeding",
   "metadata": {},
   "outputs": [],
   "source": [
    "y = df['population']\n",
    "x = df[[\"dist\", \"amount_factory\", \"evg_fact_emission\", \"homeless_dog\"]]"
   ]
  },
  {
   "cell_type": "code",
   "execution_count": 114,
   "id": "sapphire-spell",
   "metadata": {},
   "outputs": [
    {
     "data": {
      "text/plain": [
       "9.49497070146228"
      ]
     },
     "execution_count": 114,
     "metadata": {},
     "output_type": "execute_result"
    }
   ],
   "source": [
    "reg = LinearRegression().fit(x, y)\n",
    "pred = reg.predict(x)\n",
    "mean_absolute_error(pred, y)"
   ]
  },
  {
   "cell_type": "markdown",
   "id": "alive-mapping",
   "metadata": {},
   "source": [
    "#### Считаем нашу модель на основе всех параметров кроме кол-ва собак в городе"
   ]
  },
  {
   "cell_type": "code",
   "execution_count": 115,
   "id": "historical-spine",
   "metadata": {},
   "outputs": [
    {
     "data": {
      "text/plain": [
       "9.486546568038907"
      ]
     },
     "execution_count": 115,
     "metadata": {},
     "output_type": "execute_result"
    }
   ],
   "source": [
    "x = df[[\"dist\", \"amount_factory\", \"evg_fact_emission\"]]\n",
    "reg = LinearRegression().fit(x, y)\n",
    "pred = reg.predict(x)\n",
    "mean_absolute_error(pred, y)"
   ]
  },
  {
   "cell_type": "markdown",
   "id": "horizontal-organizer",
   "metadata": {},
   "source": [
    "#### Видим, что наш Таргет не линейно зависит от кол-ва заводов и среднего кол-ва выбросов, а от общего кол-ва выбросов на город"
   ]
  },
  {
   "cell_type": "markdown",
   "id": "formed-sentence",
   "metadata": {},
   "source": [
    "#### Вводим новую переменную по общему кол-ву выбросов"
   ]
  },
  {
   "cell_type": "code",
   "execution_count": 116,
   "id": "noble-movie",
   "metadata": {},
   "outputs": [],
   "source": [
    "df['emission'] = df['amount_factory'] * df['evg_fact_emission']"
   ]
  },
  {
   "cell_type": "code",
   "execution_count": 117,
   "id": "prostate-court",
   "metadata": {},
   "outputs": [
    {
     "data": {
      "text/plain": [
       "0.24502923464566534"
      ]
     },
     "execution_count": 117,
     "metadata": {},
     "output_type": "execute_result"
    }
   ],
   "source": [
    "x = df[[\"dist\", \"emission\"]]\n",
    "reg = LinearRegression().fit(x, y)\n",
    "pred = reg.predict(x)\n",
    "mean_absolute_error(pred, y)"
   ]
  },
  {
   "cell_type": "code",
   "execution_count": null,
   "id": "instant-falls",
   "metadata": {},
   "outputs": [],
   "source": []
  }
 ],
 "metadata": {
  "kernelspec": {
   "display_name": "Python 3",
   "language": "python",
   "name": "python3"
  },
  "language_info": {
   "codemirror_mode": {
    "name": "ipython",
    "version": 3
   },
   "file_extension": ".py",
   "mimetype": "text/x-python",
   "name": "python",
   "nbconvert_exporter": "python",
   "pygments_lexer": "ipython3",
   "version": "3.9.0"
  }
 },
 "nbformat": 4,
 "nbformat_minor": 5
}
